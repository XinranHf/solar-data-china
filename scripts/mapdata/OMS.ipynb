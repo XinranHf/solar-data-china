{
 "cells": [
  {
   "cell_type": "markdown",
   "id": "e9be1ef6",
   "metadata": {},
   "source": [
    "# OMS Geofabrik"
   ]
  },
  {
   "cell_type": "markdown",
   "id": "f6220a51",
   "metadata": {},
   "source": [
    "OpenStreetMap (OSM) is a collaborative project that creates a free, editable map of the world, used widely for geospatial analysis and mapping projects.\n",
    "\n",
    "Geofabrik is a well-known provider that offers regularly updated regional extracts of OSM data in convenient file formats like .osm.pbf (a compressed binary format). "
   ]
  },
  {
   "cell_type": "markdown",
   "id": "107e5ef9",
   "metadata": {},
   "source": [
    "## Setup"
   ]
  },
  {
   "cell_type": "markdown",
   "id": "421be7dd",
   "metadata": {},
   "source": [
    "Package install from terminal (if required)\n",
    "\n",
    "```\n",
    "conda install -c conda-forge pyrosm\n",
    "conda install -c conda-forge osmnx\n",
    "```"
   ]
  },
  {
   "cell_type": "code",
   "execution_count": 2,
   "id": "e1ebaac0",
   "metadata": {},
   "outputs": [],
   "source": [
    "import requests\n",
    "from bs4 import BeautifulSoup\n",
    "import re\n",
    "import os\n",
    "import osmnx as ox\n",
    "from pyrosm import OSM\n",
    "import geopandas as gpd"
   ]
  },
  {
   "cell_type": "code",
   "execution_count": 9,
   "id": "e7f84759",
   "metadata": {},
   "outputs": [
    {
     "name": "stdout",
     "output_type": "stream",
     "text": [
      "Fetching latest China OSM PBF download link from Geofabrik...\n",
      "Download link found: https://download.geofabrik.de/asia/china-latest.osm.pbf\n",
      "Starting download to ../../data/mapdata ...\n",
      "File successfully downloaded to: ../../data/mapdata\\china-latest.osm.pbf\n"
     ]
    }
   ],
   "source": [
    "def get_latest_geofabrik_china_url():\n",
    "    base_url = \"https://download.geofabrik.de/asia\"\n",
    "    response = requests.get(base_url + \"/china.html\")\n",
    "    response.raise_for_status()\n",
    "    \n",
    "    soup = BeautifulSoup(response.text, \"html.parser\")\n",
    "    \n",
    "    # Find the .osm.pbf link\n",
    "    links = soup.find_all('a', href=True)\n",
    "    pbf_links = [link['href'] for link in links if re.search(r'china(-latest)?\\.osm\\.pbf$', link['href'])]\n",
    "\n",
    "    if not pbf_links:\n",
    "        raise Exception(\"No .osm.pbf link for China found on the Geofabrik page.\")\n",
    "    \n",
    "    # Build the full download URL\n",
    "    return base_url +\"/\"+ pbf_links[0]\n",
    "\n",
    "def download_file(url, dest_folder):\n",
    "    os.makedirs(dest_folder, exist_ok=True)\n",
    "    local_filename = url.split('/')[-1]\n",
    "    local_path = os.path.join(dest_folder, local_filename)\n",
    "    \n",
    "    with requests.get(url, stream=True) as r:\n",
    "        r.raise_for_status()\n",
    "        with open(local_path, 'wb') as f:\n",
    "            for chunk in r.iter_content(chunk_size=8192):\n",
    "                f.write(chunk)\n",
    "    return local_path\n",
    "\n",
    "if __name__ == \"__main__\":\n",
    "    print(\"Fetching latest China OSM PBF download link from Geofabrik...\")\n",
    "    latest_url = get_latest_geofabrik_china_url()\n",
    "    print(f\"Download link found: {latest_url}\")\n",
    "    \n",
    "    print(\"Starting download to ../../data/mapdata ...\")\n",
    "    downloaded_file = download_file(latest_url, dest_folder=\"../../data/mapdata\")\n",
    "    print(f\"File successfully downloaded to: {downloaded_file}\")"
   ]
  },
  {
   "cell_type": "markdown",
   "id": "3141a3b9",
   "metadata": {},
   "source": [
    " ## Exploratory analysis"
   ]
  }
 ],
 "metadata": {
  "kernelspec": {
   "display_name": "base",
   "language": "python",
   "name": "python3"
  },
  "language_info": {
   "codemirror_mode": {
    "name": "ipython",
    "version": 3
   },
   "file_extension": ".py",
   "mimetype": "text/x-python",
   "name": "python",
   "nbconvert_exporter": "python",
   "pygments_lexer": "ipython3",
   "version": "3.12.7"
  }
 },
 "nbformat": 4,
 "nbformat_minor": 5
}
