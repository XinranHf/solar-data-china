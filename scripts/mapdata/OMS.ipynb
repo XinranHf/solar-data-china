{
 "cells": [
  {
   "cell_type": "markdown",
   "id": "e9be1ef6",
   "metadata": {},
   "source": [
    "# OMS Geofabrik"
   ]
  },
  {
   "cell_type": "markdown",
   "id": "f6220a51",
   "metadata": {},
   "source": [
    "OpenStreetMap (OSM) is a collaborative project that creates a free, editable map of the world, used widely for geospatial analysis and mapping projects.\n",
    "\n",
    "Geofabrik is a well-known provider that offers regularly updated regional extracts of OSM data in convenient file formats like .osm.pbf (a compressed binary format). \n",
    "\n",
    "`.osm.pbf` file includes geographic features such as: Roads(walking, cycling, driving...), Buildings, Points of interest ( manity, shop, tourism...)\n",
    "\n",
    "For more details on how to work with this data using `pyrosm`, see the [Pyrosm Basics Documentation](https://pyrosm.readthedocs.io/en/latest/basics.html)."
   ]
  },
  {
   "cell_type": "markdown",
   "id": "107e5ef9",
   "metadata": {},
   "source": [
    "## Setup"
   ]
  },
  {
   "cell_type": "markdown",
   "id": "421be7dd",
   "metadata": {},
   "source": [
    "Package install from terminal (if required)\n",
    "\n",
    "```\n",
    "conda install -c conda-forge pyrosm\n",
    "```"
   ]
  },
  {
   "cell_type": "code",
   "execution_count": 1,
   "id": "e1ebaac0",
   "metadata": {},
   "outputs": [],
   "source": [
    "from pyrosm import OSM, get_data\n",
    "from pyrosm.data import sources\n",
    "import geopandas as gpd\n",
    "import pandas as pd"
   ]
  },
  {
   "cell_type": "markdown",
   "id": "bacd4405",
   "metadata": {},
   "source": [
    "## Download data "
   ]
  },
  {
   "cell_type": "markdown",
   "id": "21210a26",
   "metadata": {},
   "source": [
    "`Pyrosm` allows to download any PBF dataset available at ***Geofabrik*** or ***BBBike*** to our local machine without the need to go to the website and do this manually. Currently, PBF data can be downloaded from 654 regions in the world.Let's explore which region is available."
   ]
  },
  {
   "cell_type": "markdown",
   "id": "5bb0bad2",
   "metadata": {},
   "source": [
    "### Available dataset"
   ]
  },
  {
   "cell_type": "code",
   "execution_count": 2,
   "id": "38c996d3",
   "metadata": {},
   "outputs": [
    {
     "data": {
      "text/plain": [
       "dict_keys(['africa', 'antarctica', 'asia', 'australia_oceania', 'central_america', 'europe', 'north_america', 'south_america', 'cities', 'subregions'])"
      ]
     },
     "execution_count": 2,
     "metadata": {},
     "output_type": "execute_result"
    }
   ],
   "source": [
    "sources.available.keys()"
   ]
  },
  {
   "cell_type": "code",
   "execution_count": 3,
   "id": "9b488652",
   "metadata": {},
   "outputs": [
    {
     "name": "stdout",
     "output_type": "stream",
     "text": [
      "['afghanistan', 'armenia', 'azerbaijan', 'bangladesh', 'bhutan', 'cambodia', 'china', 'east-timor', 'gcc_states', 'india', 'indonesia', 'iran', 'iraq', 'israel_and_palestine', 'japan', 'jordan', 'kazakhstan', 'kyrgyzstan', 'laos', 'lebanon', 'malaysia_singapore_brunei', 'maldives', 'mongolia', 'myanmar', 'nepal', 'north_korea', 'pakistan', 'philippines', 'south_korea', 'sri_lanka', 'syria', 'taiwan', 'tajikistan', 'thailand', 'turkmenistan', 'uzbekistan', 'vietnam', 'yemen']\n"
     ]
    }
   ],
   "source": [
    "print(sources.asia.available)"
   ]
  },
  {
   "cell_type": "markdown",
   "id": "39475de3",
   "metadata": {},
   "source": [
    "China is available. "
   ]
  },
  {
   "cell_type": "markdown",
   "id": "ecabae56",
   "metadata": {},
   "source": [
    "### Download and refresh the data"
   ]
  },
  {
   "cell_type": "code",
   "execution_count": 4,
   "id": "4a9c11fe",
   "metadata": {},
   "outputs": [
    {
     "name": "stdout",
     "output_type": "stream",
     "text": [
      "\n",
      "Downloading...\n"
     ]
    },
    {
     "ename": "ValueError",
     "evalue": "The provided directory does not exist: ../../data/mapdata",
     "output_type": "error",
     "traceback": [
      "\u001b[1;31m---------------------------------------------------------------------------\u001b[0m",
      "\u001b[1;31mValueError\u001b[0m                                Traceback (most recent call last)",
      "Cell \u001b[1;32mIn[4], line 2\u001b[0m\n\u001b[0;32m      1\u001b[0m \u001b[38;5;28mprint\u001b[39m(\u001b[38;5;124m\"\u001b[39m\u001b[38;5;130;01m\\n\u001b[39;00m\u001b[38;5;124mDownloading...\u001b[39m\u001b[38;5;124m\"\u001b[39m)\n\u001b[1;32m----> 2\u001b[0m fp \u001b[38;5;241m=\u001b[39m get_data(\u001b[38;5;124m\"\u001b[39m\u001b[38;5;124mChina\u001b[39m\u001b[38;5;124m\"\u001b[39m, update\u001b[38;5;241m=\u001b[39m\u001b[38;5;28;01mTrue\u001b[39;00m, directory\u001b[38;5;241m=\u001b[39m \u001b[38;5;124m\"\u001b[39m\u001b[38;5;124m../../data/mapdata\u001b[39m\u001b[38;5;124m\"\u001b[39m) \u001b[38;5;66;03m# remove the old OBF file and download a fresh version from Geofabrik\u001b[39;00m\n\u001b[0;32m      3\u001b[0m \u001b[38;5;28mprint\u001b[39m(\u001b[38;5;124m\"\u001b[39m\u001b[38;5;124mData was downloaded to:\u001b[39m\u001b[38;5;124m\"\u001b[39m, fp)\n",
      "File \u001b[1;32mc:\\Users\\charl\\anaconda3\\Lib\\site-packages\\pyrosm\\data\\__init__.py:184\u001b[0m, in \u001b[0;36mget_data\u001b[1;34m(dataset, update, directory)\u001b[0m\n\u001b[0;32m    181\u001b[0m     \u001b[38;5;28;01mreturn\u001b[39;00m retrieve(_helsinki_test_history_pbf, update, directory)\n\u001b[0;32m    183\u001b[0m \u001b[38;5;28;01melif\u001b[39;00m dataset \u001b[38;5;129;01min\u001b[39;00m sources\u001b[38;5;241m.\u001b[39m_all_sources:\n\u001b[1;32m--> 184\u001b[0m     \u001b[38;5;28;01mreturn\u001b[39;00m retrieve(search_source(dataset), update, directory)\n\u001b[0;32m    186\u001b[0m \u001b[38;5;66;03m# Users might pass city names with spaces (e.g. Rio De Janeiro)\u001b[39;00m\n\u001b[0;32m    187\u001b[0m \u001b[38;5;28;01melif\u001b[39;00m dataset\u001b[38;5;241m.\u001b[39mreplace(\u001b[38;5;124m\"\u001b[39m\u001b[38;5;124m \u001b[39m\u001b[38;5;124m\"\u001b[39m, \u001b[38;5;124m\"\u001b[39m\u001b[38;5;124m\"\u001b[39m) \u001b[38;5;129;01min\u001b[39;00m sources\u001b[38;5;241m.\u001b[39m_all_sources:\n",
      "File \u001b[1;32mc:\\Users\\charl\\anaconda3\\Lib\\site-packages\\pyrosm\\data\\__init__.py:127\u001b[0m, in \u001b[0;36mretrieve\u001b[1;34m(data, update, directory)\u001b[0m\n\u001b[0;32m    126\u001b[0m \u001b[38;5;28;01mdef\u001b[39;00m \u001b[38;5;21mretrieve\u001b[39m(data, update, directory):\n\u001b[1;32m--> 127\u001b[0m     \u001b[38;5;28;01mreturn\u001b[39;00m download(\n\u001b[0;32m    128\u001b[0m         url\u001b[38;5;241m=\u001b[39mdata[\u001b[38;5;124m\"\u001b[39m\u001b[38;5;124murl\u001b[39m\u001b[38;5;124m\"\u001b[39m], filename\u001b[38;5;241m=\u001b[39mdata[\u001b[38;5;124m\"\u001b[39m\u001b[38;5;124mname\u001b[39m\u001b[38;5;124m\"\u001b[39m], update\u001b[38;5;241m=\u001b[39mupdate, target_dir\u001b[38;5;241m=\u001b[39mdirectory\n\u001b[0;32m    129\u001b[0m     )\n",
      "File \u001b[1;32mc:\\Users\\charl\\anaconda3\\Lib\\site-packages\\pyrosm\\utils\\download.py:37\u001b[0m, in \u001b[0;36mdownload\u001b[1;34m(url, filename, update, target_dir)\u001b[0m\n\u001b[0;32m     35\u001b[0m \u001b[38;5;28;01melse\u001b[39;00m:\n\u001b[0;32m     36\u001b[0m     \u001b[38;5;28;01mif\u001b[39;00m \u001b[38;5;129;01mnot\u001b[39;00m os\u001b[38;5;241m.\u001b[39mpath\u001b[38;5;241m.\u001b[39misdir(target_dir):\n\u001b[1;32m---> 37\u001b[0m         \u001b[38;5;28;01mraise\u001b[39;00m \u001b[38;5;167;01mValueError\u001b[39;00m(\u001b[38;5;124mf\u001b[39m\u001b[38;5;124m\"\u001b[39m\u001b[38;5;124mThe provided directory does not exist: \u001b[39m\u001b[38;5;124m\"\u001b[39m \u001b[38;5;124mf\u001b[39m\u001b[38;5;124m\"\u001b[39m\u001b[38;5;132;01m{\u001b[39;00mtarget_dir\u001b[38;5;132;01m}\u001b[39;00m\u001b[38;5;124m\"\u001b[39m)\n\u001b[0;32m     39\u001b[0m filepath \u001b[38;5;241m=\u001b[39m os\u001b[38;5;241m.\u001b[39mpath\u001b[38;5;241m.\u001b[39mabspath(os\u001b[38;5;241m.\u001b[39mpath\u001b[38;5;241m.\u001b[39mjoin(target_dir, os\u001b[38;5;241m.\u001b[39mpath\u001b[38;5;241m.\u001b[39mbasename(filename)))\n\u001b[0;32m     41\u001b[0m \u001b[38;5;28;01mif\u001b[39;00m \u001b[38;5;129;01mnot\u001b[39;00m os\u001b[38;5;241m.\u001b[39mpath\u001b[38;5;241m.\u001b[39mexists(target_dir):\n",
      "\u001b[1;31mValueError\u001b[0m: The provided directory does not exist: ../../data/mapdata"
     ]
    }
   ],
   "source": [
    "print(\"\\nDownloading...\")\n",
    "fp = get_data(\"China\", update=True, directory= \"../../data/mapdata\") # remove the old OBF file and download a fresh version from Geofabrik\n",
    "print(\"Data was downloaded to:\", fp)"
   ]
  },
  {
   "cell_type": "code",
   "execution_count": null,
   "id": "d1832727",
   "metadata": {},
   "outputs": [],
   "source": [
    "osm = OSM(\"../../data/mapdata/china-latest.osm.pbf\")"
   ]
  },
  {
   "cell_type": "markdown",
   "id": "3141a3b9",
   "metadata": {},
   "source": [
    " ## Exploratory analysis"
   ]
  },
  {
   "cell_type": "code",
   "execution_count": null,
   "id": "79f7ef94",
   "metadata": {},
   "outputs": [
    {
     "ename": "MemoryError",
     "evalue": "Unable to allocate output buffer.",
     "output_type": "error",
     "traceback": [
      "\u001b[1;31m---------------------------------------------------------------------------\u001b[0m",
      "\u001b[1;31mMemoryError\u001b[0m                               Traceback (most recent call last)",
      "Cell \u001b[1;32mIn[12], line 6\u001b[0m\n\u001b[0;32m      1\u001b[0m solar_tags \u001b[38;5;241m=\u001b[39m {\n\u001b[0;32m      2\u001b[0m     \u001b[38;5;124m\"\u001b[39m\u001b[38;5;124mpower\u001b[39m\u001b[38;5;124m\"\u001b[39m: [\u001b[38;5;124m\"\u001b[39m\u001b[38;5;124mplant\u001b[39m\u001b[38;5;124m\"\u001b[39m],\n\u001b[0;32m      3\u001b[0m     \u001b[38;5;124m\"\u001b[39m\u001b[38;5;124mplant:source\u001b[39m\u001b[38;5;124m\"\u001b[39m: [\u001b[38;5;124m\"\u001b[39m\u001b[38;5;124msolar\u001b[39m\u001b[38;5;124m\"\u001b[39m]\n\u001b[0;32m      4\u001b[0m }\n\u001b[1;32m----> 6\u001b[0m solar_pois \u001b[38;5;241m=\u001b[39m osm\u001b[38;5;241m.\u001b[39mget_pois(custom_filter\u001b[38;5;241m=\u001b[39msolar_tags)\n\u001b[0;32m      8\u001b[0m \u001b[38;5;28mprint\u001b[39m(solar_pois[[\u001b[38;5;124m\"\u001b[39m\u001b[38;5;124mname\u001b[39m\u001b[38;5;124m\"\u001b[39m, \u001b[38;5;124m\"\u001b[39m\u001b[38;5;124mpower\u001b[39m\u001b[38;5;124m\"\u001b[39m, \u001b[38;5;124m\"\u001b[39m\u001b[38;5;124mplant:source\u001b[39m\u001b[38;5;124m\"\u001b[39m, \u001b[38;5;124m\"\u001b[39m\u001b[38;5;124mgeometry\u001b[39m\u001b[38;5;124m\"\u001b[39m]]\u001b[38;5;241m.\u001b[39mhead())\n\u001b[0;32m      9\u001b[0m \u001b[38;5;28mprint\u001b[39m(solar_pois\u001b[38;5;241m.\u001b[39mshape)\n",
      "File \u001b[1;32mc:\\Users\\charl\\anaconda3\\Lib\\site-packages\\pyrosm\\pyrosm.py:632\u001b[0m, in \u001b[0;36mOSM.get_pois\u001b[1;34m(self, custom_filter, extra_attributes, timestamp)\u001b[0m\n\u001b[0;32m    626\u001b[0m     \u001b[38;5;28;01mif\u001b[39;00m \u001b[38;5;129;01mnot\u001b[39;00m \u001b[38;5;28misinstance\u001b[39m(custom_filter, \u001b[38;5;28mdict\u001b[39m):\n\u001b[0;32m    627\u001b[0m         \u001b[38;5;28;01mraise\u001b[39;00m \u001b[38;5;167;01mValueError\u001b[39;00m(\n\u001b[0;32m    628\u001b[0m             \u001b[38;5;124mf\u001b[39m\u001b[38;5;124m\"\u001b[39m\u001b[38;5;124m'\u001b[39m\u001b[38;5;124mcustom_filter\u001b[39m\u001b[38;5;124m'\u001b[39m\u001b[38;5;124m should be a Python dictionary. \u001b[39m\u001b[38;5;124m\"\u001b[39m\n\u001b[0;32m    629\u001b[0m             \u001b[38;5;124mf\u001b[39m\u001b[38;5;124m\"\u001b[39m\u001b[38;5;124mGot \u001b[39m\u001b[38;5;132;01m{\u001b[39;00mcustom_filter\u001b[38;5;132;01m}\u001b[39;00m\u001b[38;5;124m with type \u001b[39m\u001b[38;5;132;01m{\u001b[39;00m\u001b[38;5;28mtype\u001b[39m(custom_filter)\u001b[38;5;132;01m}\u001b[39;00m\u001b[38;5;124m.\u001b[39m\u001b[38;5;124m\"\u001b[39m\n\u001b[0;32m    630\u001b[0m         )\n\u001b[1;32m--> 632\u001b[0m \u001b[38;5;28mself\u001b[39m\u001b[38;5;241m.\u001b[39m_read_pbf(timestamp)\n\u001b[0;32m    634\u001b[0m \u001b[38;5;66;03m# Default tags to keep as columns\u001b[39;00m\n\u001b[0;32m    635\u001b[0m tags_as_columns \u001b[38;5;241m=\u001b[39m []\n",
      "File \u001b[1;32mc:\\Users\\charl\\anaconda3\\Lib\\site-packages\\pyrosm\\pyrosm.py:132\u001b[0m, in \u001b[0;36mOSM._read_pbf\u001b[1;34m(self, timestamp)\u001b[0m\n\u001b[0;32m    129\u001b[0m \u001b[38;5;28mself\u001b[39m\u001b[38;5;241m.\u001b[39m_set_current_time(timestamp)\n\u001b[0;32m    131\u001b[0m \u001b[38;5;28;01mif\u001b[39;00m \u001b[38;5;28mself\u001b[39m\u001b[38;5;241m.\u001b[39m_nodes \u001b[38;5;129;01mis\u001b[39;00m \u001b[38;5;28;01mNone\u001b[39;00m \u001b[38;5;129;01mor\u001b[39;00m \u001b[38;5;28mself\u001b[39m\u001b[38;5;241m.\u001b[39m_way_records \u001b[38;5;129;01mis\u001b[39;00m \u001b[38;5;28;01mNone\u001b[39;00m:\n\u001b[1;32m--> 132\u001b[0m     \u001b[38;5;28mself\u001b[39m\u001b[38;5;241m.\u001b[39m_get_pbf_elements(bounding_box)\n\u001b[0;32m    133\u001b[0m \u001b[38;5;28;01melif\u001b[39;00m \u001b[38;5;28mself\u001b[39m\u001b[38;5;241m.\u001b[39m_timestamp_changed:\n\u001b[0;32m    134\u001b[0m     \u001b[38;5;28mself\u001b[39m\u001b[38;5;241m.\u001b[39m_get_pbf_elements(bounding_box)\n",
      "File \u001b[1;32mc:\\Users\\charl\\anaconda3\\Lib\\site-packages\\pyrosm\\pyrosm.py:109\u001b[0m, in \u001b[0;36mOSM._get_pbf_elements\u001b[1;34m(self, bounding_box)\u001b[0m\n\u001b[0;32m    108\u001b[0m \u001b[38;5;28;01mdef\u001b[39;00m \u001b[38;5;21m_get_pbf_elements\u001b[39m(\u001b[38;5;28mself\u001b[39m, bounding_box):\n\u001b[1;32m--> 109\u001b[0m     nodes, ways, relations, node_coordinates \u001b[38;5;241m=\u001b[39m parse_osm_data(\n\u001b[0;32m    110\u001b[0m         \u001b[38;5;28mself\u001b[39m\u001b[38;5;241m.\u001b[39mfilepath,\n\u001b[0;32m    111\u001b[0m         bounding_box,\n\u001b[0;32m    112\u001b[0m         exclude_relations\u001b[38;5;241m=\u001b[39m\u001b[38;5;28;01mFalse\u001b[39;00m,\n\u001b[0;32m    113\u001b[0m         unix_time_filter\u001b[38;5;241m=\u001b[39m\u001b[38;5;28mself\u001b[39m\u001b[38;5;241m.\u001b[39m_current_timestamp,\n\u001b[0;32m    114\u001b[0m     )\n\u001b[0;32m    116\u001b[0m     \u001b[38;5;28mself\u001b[39m\u001b[38;5;241m.\u001b[39m_nodes \u001b[38;5;241m=\u001b[39m nodes\n\u001b[0;32m    117\u001b[0m     \u001b[38;5;28mself\u001b[39m\u001b[38;5;241m.\u001b[39m_way_records \u001b[38;5;241m=\u001b[39m ways\n",
      "File \u001b[1;32mc:\\Users\\charl\\anaconda3\\Lib\\site-packages\\pyrosm\\pbfreader.pyx:371\u001b[0m, in \u001b[0;36mpyrosm.pbfreader.parse_osm_data\u001b[1;34m()\u001b[0m\n",
      "File \u001b[1;32mc:\\Users\\charl\\anaconda3\\Lib\\site-packages\\pyrosm\\pbfreader.pyx:377\u001b[0m, in \u001b[0;36mpyrosm.pbfreader.parse_osm_data\u001b[1;34m()\u001b[0m\n",
      "File \u001b[1;32mc:\\Users\\charl\\anaconda3\\Lib\\site-packages\\pyrosm\\pbfreader.pyx:391\u001b[0m, in \u001b[0;36mpyrosm.pbfreader._parse_osm_data\u001b[1;34m()\u001b[0m\n",
      "File \u001b[1;32mc:\\Users\\charl\\anaconda3\\Lib\\site-packages\\pyrosm\\pbfreader.pyx:31\u001b[0m, in \u001b[0;36mpyrosm.pbfreader.get_primitive_blocks_and_string_tables\u001b[1;34m()\u001b[0m\n",
      "File \u001b[1;32mc:\\Users\\charl\\anaconda3\\Lib\\site-packages\\pyrosm\\pbfreader.pyx:72\u001b[0m, in \u001b[0;36mpyrosm.pbfreader.get_primitive_blocks_and_string_tables\u001b[1;34m()\u001b[0m\n",
      "\u001b[1;31mMemoryError\u001b[0m: Unable to allocate output buffer."
     ]
    }
   ],
   "source": [
    "solar_tags = {\n",
    "    \"power\": [\"plant\"],\n",
    "    \"plant:source\": [\"solar\"]\n",
    "}\n",
    "\n",
    "solar_pois = osm.get_pois(custom_filter=solar_tags)\n",
    "\n",
    "print(solar_pois[[\"name\", \"power\", \"plant:source\", \"geometry\"]].head())\n",
    "print(solar_pois.shape)\n"
   ]
  },
  {
   "cell_type": "markdown",
   "id": "a058b327",
   "metadata": {},
   "source": [
    "### Save as Parquet"
   ]
  },
  {
   "cell_type": "code",
   "execution_count": null,
   "id": "0db556d3",
   "metadata": {},
   "outputs": [
    {
     "ename": "AttributeError",
     "evalue": "'OSM' object has no attribute 'to_parquet'",
     "output_type": "error",
     "traceback": [
      "\u001b[1;31m---------------------------------------------------------------------------\u001b[0m",
      "\u001b[1;31mAttributeError\u001b[0m                            Traceback (most recent call last)",
      "Cell \u001b[1;32mIn[5], line 2\u001b[0m\n\u001b[0;32m      1\u001b[0m parquet_path \u001b[38;5;241m=\u001b[39m \u001b[38;5;124m\"\u001b[39m\u001b[38;5;124m../../data/mapdata/china_provinces.parquet\u001b[39m\u001b[38;5;124m\"\u001b[39m\n\u001b[1;32m----> 2\u001b[0m osm\u001b[38;5;241m.\u001b[39mto_parquet(parquet_path, index\u001b[38;5;241m=\u001b[39m\u001b[38;5;28;01mFalse\u001b[39;00m)\n\u001b[0;32m      3\u001b[0m \u001b[38;5;28mprint\u001b[39m(\u001b[38;5;124mf\u001b[39m\u001b[38;5;124m\"\u001b[39m\u001b[38;5;124mSaving file as parquet : \u001b[39m\u001b[38;5;132;01m{\u001b[39;00mparquet_path\u001b[38;5;132;01m}\u001b[39;00m\u001b[38;5;124m\"\u001b[39m)\n",
      "File \u001b[1;32mc:\\Users\\charl\\anaconda3\\Lib\\site-packages\\pyrosm\\pyrosm.py:917\u001b[0m, in \u001b[0;36mOSM.__getattribute__\u001b[1;34m(self, name)\u001b[0m\n\u001b[0;32m    915\u001b[0m \u001b[38;5;28;01mif\u001b[39;00m name \u001b[38;5;241m==\u001b[39m \u001b[38;5;124m\"\u001b[39m\u001b[38;5;124m_nodes_gdf\u001b[39m\u001b[38;5;124m\"\u001b[39m:\n\u001b[0;32m    916\u001b[0m     \u001b[38;5;28;01mreturn\u001b[39;00m create_nodes_gdf(\u001b[38;5;28msuper\u001b[39m(OSM, \u001b[38;5;28mself\u001b[39m)\u001b[38;5;241m.\u001b[39m\u001b[38;5;21m__getattribute__\u001b[39m(\u001b[38;5;124m\"\u001b[39m\u001b[38;5;124m_nodes\u001b[39m\u001b[38;5;124m\"\u001b[39m))\n\u001b[1;32m--> 917\u001b[0m \u001b[38;5;28;01mreturn\u001b[39;00m \u001b[38;5;28msuper\u001b[39m(OSM, \u001b[38;5;28mself\u001b[39m)\u001b[38;5;241m.\u001b[39m\u001b[38;5;21m__getattribute__\u001b[39m(name)\n",
      "\u001b[1;31mAttributeError\u001b[0m: 'OSM' object has no attribute 'to_parquet'"
     ]
    }
   ],
   "source": [
    "parquet_path = \"../../data/mapdata/china_provinces.parquet\"\n",
    "osm.to_parquet(parquet_path, index=False)\n",
    "print(f\"Saving file as parquet : {parquet_path}\")"
   ]
  },
  {
   "cell_type": "code",
   "execution_count": null,
   "id": "e68fa909",
   "metadata": {},
   "outputs": [
    {
     "name": "stdout",
     "output_type": "stream",
     "text": [
      "⚠️ Error when deleting PBFb file: name 'os' is not defined\n"
     ]
    }
   ],
   "source": [
    "#delete OMS file (too big for github)\n",
    "try:\n",
    "    os.remove(pbf_path)\n",
    "    print(f\"✅ PBF file deleted: {pbf_path}\")\n",
    "except Exception as e:\n",
    "    print(f\"⚠️ Error when deleting PBFb file: {e}\")"
   ]
  }
 ],
 "metadata": {
  "kernelspec": {
   "display_name": "base",
   "language": "python",
   "name": "python3"
  },
  "language_info": {
   "codemirror_mode": {
    "name": "ipython",
    "version": 3
   },
   "file_extension": ".py",
   "mimetype": "text/x-python",
   "name": "python",
   "nbconvert_exporter": "python",
   "pygments_lexer": "ipython3",
   "version": "3.12.3"
  }
 },
 "nbformat": 4,
 "nbformat_minor": 5
}
