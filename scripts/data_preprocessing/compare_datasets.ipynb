{
 "cells": [
  {
   "cell_type": "markdown",
   "id": "af627e1f",
   "metadata": {},
   "source": [
    "# Dataset Comparison & Validation "
   ]
  },
  {
   "cell_type": "markdown",
   "id": "49bdfa4d",
   "metadata": {},
   "source": [
    "This notebook aims to compare multiple datasets on solar power plants in China in order to assess their consistency, coverage, and accuracy, and to evaluate different methods used to detect or map solar installations.\n",
    "\n",
    "The comparison process includes:\n",
    "- General statistics : Spatial coverage, province-level and region-level distribution counts...\n",
    "- Visual inspection using map-based plots\n",
    "- Matching quality assessment between datasets\n",
    "\n",
    "Our goal is to assess how many installations are detected in each dataset, how they are distributed across provinces and to identify potential discrepancies or complementarities between them."
   ]
  },
  {
   "cell_type": "markdown",
   "id": "889892c0",
   "metadata": {},
   "source": [
    "# Setup"
   ]
  },
  {
   "cell_type": "code",
   "execution_count": null,
   "id": "a0a1c20a",
   "metadata": {},
   "outputs": [],
   "source": [
    "import pandas as pd \n",
    "import geopandas as gpd\n",
    "import plotly.express as px\n",
    "import matplotlib.pyplot as plt\n",
    "import seaborn as sns"
   ]
  },
  {
   "cell_type": "markdown",
   "id": "5ced1292",
   "metadata": {},
   "source": [
    "# Load the Datasets "
   ]
  },
  {
   "cell_type": "markdown",
   "id": "02258115",
   "metadata": {},
   "source": [
    "We'll compare the following datasets:\n",
    "- [GEM](https://globalenergymonitor.org/): Manual compilation of solar power plant data from public sources, reports, and satellite imagery, curated by the Global Energy Monitor (GEM) with geolocation and attribute verification.\n",
    "- [PV_China_2020 (Zhang et al., 2022)](https://doi.org/10.5194/essd-14-3743-2022): Pixel-based classification of Landsat-8 imagery using a Random Forest model in Google Earth Engine, with training data from crowdsourced and manually labeled PV/non-PV regions, followed by morphological filtering and polygon vectorization.\n",
    "- [ChinaPV_Vectorized_2020 (Liu et al., 2024)](https://doi.org/10.1038/s41597-024-04356-z): Random Forest classification on cloud-filtered Landsat-8 imagery enriched with texture features, refined by morphological operations and manual correction using Google Earth Pro to produce high-accuracy polygon vectors of PV installations.\n",
    "\n",
    "We focus on the year 2020 because it is the common reference year across all three datasets. This temporal alignment ensures that our comparison is meaningful and unbiased by time-based discrepancies."
   ]
  }
 ],
 "metadata": {
  "kernelspec": {
   "display_name": "base",
   "language": "python",
   "name": "python3"
  },
  "language_info": {
   "name": "python",
   "version": "3.12.3"
  }
 },
 "nbformat": 4,
 "nbformat_minor": 5
}
