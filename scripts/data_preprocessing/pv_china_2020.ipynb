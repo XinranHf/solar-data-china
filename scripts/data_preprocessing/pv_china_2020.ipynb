{
 "cells": [
  {
   "cell_type": "markdown",
   "id": "6e5a07bb",
   "metadata": {},
   "source": [
    "# PV China 2020 Dataset"
   ]
  },
  {
   "cell_type": "markdown",
   "id": "24e1a140",
   "metadata": {},
   "source": [
    "This dataset maps the distribution of photovoltaic (PV) solar power installations across China as of *2020*. It was generated using a pixel-based **Random Forest classifier** applied to **Landsat 8 Surface Reflectance** products, with all processing conducted on **Google Earth Engine (GEE)**.\n",
    "\n",
    "This dataset and its methodology are described in the following paper:\n",
    "\n",
    "> **Huang, Y., Liu, J., Xu, Y. et al. (2022)**  \n",
    "> *A high-resolution inventory of photovoltaic power installations in China.*  \n",
    "> *Earth System Science Data*, **14**, 2839–2854.  \n",
    "> [https://doi.org/10.5194/essd-14-2839-2022](https://doi.org/10.5194/essd-14-2839-2022)\n",
    "\n",
    "The dataset is publicly available on **Zenodo**:\n",
    "> [PV_China_2020 on Zenodo (Record #6849477)](https://zenodo.org/record/6849477)"
   ]
  },
  {
   "cell_type": "markdown",
   "id": "f7396f69",
   "metadata": {},
   "source": [
    "# Setup"
   ]
  },
  {
   "cell_type": "code",
   "execution_count": 6,
   "id": "ff9d05de",
   "metadata": {},
   "outputs": [],
   "source": [
    "import os\n",
    "import zipfile\n",
    "import requests\n",
    "import geopandas as gpd"
   ]
  },
  {
   "cell_type": "markdown",
   "id": "0e161323",
   "metadata": {},
   "source": [
    "## Download"
   ]
  },
  {
   "cell_type": "code",
   "execution_count": null,
   "id": "e859bf00",
   "metadata": {},
   "outputs": [
    {
     "name": "stdout",
     "output_type": "stream",
     "text": [
      "Downloading dataset...\n",
      "✅ Downloaded: pv_china_2020.zip\n",
      "Extracting files...\n",
      "Extracted files: ['PV_China_2020.cpg', 'PV_China_2020.dbf', 'PV_China_2020.prj', 'PV_China_2020.shp', 'PV_China_2020.shx', 'pv_china_2020.zip']\n"
     ]
    }
   ],
   "source": [
    "url = \"https://zenodo.org/record/6849477/files/PV_China_2020.zip?download=1\"\n",
    "\n",
    "# Output folder\n",
    "output_folder = os.path.join(\"..\", \"..\", \"data\", \"raw_data\", \"pv_china_2020\")\n",
    "os.makedirs(output_folder, exist_ok=True)\n",
    "\n",
    "zipname = \"pv_china_2020.zip\"\n",
    "zippath = os.path.join(output_folder, zipname)\n",
    "\n",
    "# Download the file\n",
    "print(\"Downloading dataset...\")\n",
    "response = requests.get(url)\n",
    "with open(zippath, \"wb\") as f:\n",
    "    f.write(response.content)\n",
    "print(\"✅ Downloaded:\", {zippath})\n",
    "\n",
    "# Extract files\n",
    "print(\"Extracting files...\")\n",
    "with zipfile.ZipFile(zippath, 'r') as zip_ref:\n",
    "    zip_ref.extractall(output_folder)\n",
    "os.remove(zippath)\n",
    "print(f\"Deleted zip file: {zipname}\")\n",
    "\n",
    "# List extracted files\n",
    "print(\"Extracted files:\", os.listdir(output_folder))\n"
   ]
  },
  {
   "cell_type": "markdown",
   "id": "c8c9e76c",
   "metadata": {},
   "source": [
    "## Exploratory analysis "
   ]
  },
  {
   "cell_type": "code",
   "execution_count": 9,
   "id": "f1015d39",
   "metadata": {},
   "outputs": [
    {
     "name": "stdout",
     "output_type": "stream",
     "text": [
      "<class 'geopandas.geodataframe.GeoDataFrame'>\n",
      "RangeIndex: 2539 entries, 0 to 2538\n",
      "Data columns (total 12 columns):\n",
      " #   Column     Non-Null Count  Dtype   \n",
      "---  ------     --------------  -----   \n",
      " 0   OBJECTID   2539 non-null   int32   \n",
      " 1   landcover  2539 non-null   int32   \n",
      " 2   area       2539 non-null   float64 \n",
      " 3   temp       2539 non-null   float64 \n",
      " 4   precip     2539 non-null   float64 \n",
      " 5   elev       2539 non-null   float64 \n",
      " 6   popu       2539 non-null   int64   \n",
      " 7   EVI_2013   2539 non-null   float64 \n",
      " 8   EVI_2020   2539 non-null   float64 \n",
      " 9   lat_centr  2539 non-null   float64 \n",
      " 10  lon_centr  2539 non-null   float64 \n",
      " 11  geometry   2539 non-null   geometry\n",
      "dtypes: float64(8), geometry(1), int32(2), int64(1)\n",
      "memory usage: 218.3 KB\n"
     ]
    }
   ],
   "source": [
    "gdf = gpd.read_file(\"../../data/raw_data/pv_china_2020/PV_China_2020.shp\")\n",
    "\n",
    "gdf.info()"
   ]
  },
  {
   "cell_type": "code",
   "execution_count": 10,
   "id": "91d8cfb0",
   "metadata": {},
   "outputs": [
    {
     "data": {
      "text/html": [
       "<div>\n",
       "<style scoped>\n",
       "    .dataframe tbody tr th:only-of-type {\n",
       "        vertical-align: middle;\n",
       "    }\n",
       "\n",
       "    .dataframe tbody tr th {\n",
       "        vertical-align: top;\n",
       "    }\n",
       "\n",
       "    .dataframe thead th {\n",
       "        text-align: right;\n",
       "    }\n",
       "</style>\n",
       "<table border=\"1\" class=\"dataframe\">\n",
       "  <thead>\n",
       "    <tr style=\"text-align: right;\">\n",
       "      <th></th>\n",
       "      <th>OBJECTID</th>\n",
       "      <th>landcover</th>\n",
       "      <th>area</th>\n",
       "      <th>temp</th>\n",
       "      <th>precip</th>\n",
       "      <th>elev</th>\n",
       "      <th>popu</th>\n",
       "      <th>EVI_2013</th>\n",
       "      <th>EVI_2020</th>\n",
       "      <th>lat_centr</th>\n",
       "      <th>lon_centr</th>\n",
       "      <th>geometry</th>\n",
       "    </tr>\n",
       "  </thead>\n",
       "  <tbody>\n",
       "    <tr>\n",
       "      <th>0</th>\n",
       "      <td>1050</td>\n",
       "      <td>40</td>\n",
       "      <td>0.63673</td>\n",
       "      <td>15.8</td>\n",
       "      <td>1160.2</td>\n",
       "      <td>87.8</td>\n",
       "      <td>240</td>\n",
       "      <td>0.426</td>\n",
       "      <td>0.326</td>\n",
       "      <td>31.539895</td>\n",
       "      <td>113.987199</td>\n",
       "      <td>MULTIPOLYGON (((113.98 31.54, 113.98 31.541, 1...</td>\n",
       "    </tr>\n",
       "    <tr>\n",
       "      <th>1</th>\n",
       "      <td>547</td>\n",
       "      <td>60</td>\n",
       "      <td>1.52337</td>\n",
       "      <td>9.6</td>\n",
       "      <td>170.1</td>\n",
       "      <td>256.5</td>\n",
       "      <td>9</td>\n",
       "      <td>0.096</td>\n",
       "      <td>0.095</td>\n",
       "      <td>44.929143</td>\n",
       "      <td>82.596528</td>\n",
       "      <td>POLYGON ((82.585 44.924, 82.585 44.926, 82.586...</td>\n",
       "    </tr>\n",
       "    <tr>\n",
       "      <th>2</th>\n",
       "      <td>966</td>\n",
       "      <td>80</td>\n",
       "      <td>0.49803</td>\n",
       "      <td>17.5</td>\n",
       "      <td>1665.0</td>\n",
       "      <td>4.4</td>\n",
       "      <td>640</td>\n",
       "      <td>0.155</td>\n",
       "      <td>0.232</td>\n",
       "      <td>29.505017</td>\n",
       "      <td>121.665288</td>\n",
       "      <td>MULTIPOLYGON (((121.65 29.502, 121.65 29.503, ...</td>\n",
       "    </tr>\n",
       "    <tr>\n",
       "      <th>3</th>\n",
       "      <td>1078</td>\n",
       "      <td>40</td>\n",
       "      <td>1.07808</td>\n",
       "      <td>17.0</td>\n",
       "      <td>1226.4</td>\n",
       "      <td>82.5</td>\n",
       "      <td>281</td>\n",
       "      <td>0.399</td>\n",
       "      <td>0.293</td>\n",
       "      <td>30.819104</td>\n",
       "      <td>112.938832</td>\n",
       "      <td>MULTIPOLYGON (((112.92 30.822, 112.92 30.823, ...</td>\n",
       "    </tr>\n",
       "    <tr>\n",
       "      <th>4</th>\n",
       "      <td>634</td>\n",
       "      <td>40</td>\n",
       "      <td>1.10933</td>\n",
       "      <td>6.6</td>\n",
       "      <td>425.5</td>\n",
       "      <td>181.3</td>\n",
       "      <td>42</td>\n",
       "      <td>0.244</td>\n",
       "      <td>0.183</td>\n",
       "      <td>45.226290</td>\n",
       "      <td>121.945304</td>\n",
       "      <td>POLYGON ((121.94 45.22, 121.94 45.22, 121.94 4...</td>\n",
       "    </tr>\n",
       "  </tbody>\n",
       "</table>\n",
       "</div>"
      ],
      "text/plain": [
       "   OBJECTID  landcover     area  temp  precip   elev  popu  EVI_2013  \\\n",
       "0      1050         40  0.63673  15.8  1160.2   87.8   240     0.426   \n",
       "1       547         60  1.52337   9.6   170.1  256.5     9     0.096   \n",
       "2       966         80  0.49803  17.5  1665.0    4.4   640     0.155   \n",
       "3      1078         40  1.07808  17.0  1226.4   82.5   281     0.399   \n",
       "4       634         40  1.10933   6.6   425.5  181.3    42     0.244   \n",
       "\n",
       "   EVI_2020  lat_centr   lon_centr  \\\n",
       "0     0.326  31.539895  113.987199   \n",
       "1     0.095  44.929143   82.596528   \n",
       "2     0.232  29.505017  121.665288   \n",
       "3     0.293  30.819104  112.938832   \n",
       "4     0.183  45.226290  121.945304   \n",
       "\n",
       "                                            geometry  \n",
       "0  MULTIPOLYGON (((113.98 31.54, 113.98 31.541, 1...  \n",
       "1  POLYGON ((82.585 44.924, 82.585 44.926, 82.586...  \n",
       "2  MULTIPOLYGON (((121.65 29.502, 121.65 29.503, ...  \n",
       "3  MULTIPOLYGON (((112.92 30.822, 112.92 30.823, ...  \n",
       "4  POLYGON ((121.94 45.22, 121.94 45.22, 121.94 4...  "
      ]
     },
     "execution_count": 10,
     "metadata": {},
     "output_type": "execute_result"
    }
   ],
   "source": [
    "gdf.head()"
   ]
  },
  {
   "cell_type": "code",
   "execution_count": 11,
   "id": "97487d68",
   "metadata": {},
   "outputs": [
    {
     "data": {
      "text/plain": [
       "<Axes: >"
      ]
     },
     "execution_count": 11,
     "metadata": {},
     "output_type": "execute_result"
    },
    {
     "data": {
      "image/png": "[encoded data removed]",
      "text/plain": [
       "<Figure size 1200x800 with 1 Axes>"
      ]
     },
     "metadata": {},
     "output_type": "display_data"
    }
   ],
   "source": [
    "gdf.plot(figsize=(12, 8), edgecolor=\"black\", linewidth=0.5)\n"
   ]
  }
 ],
 "metadata": {
  "kernelspec": {
   "display_name": "base",
   "language": "python",
   "name": "python3"
  },
  "language_info": {
   "codemirror_mode": {
    "name": "ipython",
    "version": 3
   },
   "file_extension": ".py",
   "mimetype": "text/x-python",
   "name": "python",
   "nbconvert_exporter": "python",
   "pygments_lexer": "ipython3",
   "version": "3.12.3"
  }
 },
 "nbformat": 4,
 "nbformat_minor": 5
}
