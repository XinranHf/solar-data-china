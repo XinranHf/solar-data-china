{
 "cells": [
  {
   "cell_type": "markdown",
   "id": "6e5a07bb",
   "metadata": {},
   "source": [
    "# PV China 2020 Dataset"
   ]
  },
  {
   "cell_type": "markdown",
   "id": "24e1a140",
   "metadata": {},
   "source": [
    "This dataset maps the distribution of photovoltaic (PV) solar power installations across China as of *2020*. It was generated using a pixel-based **Random Forest classifier** applied to **Landsat 8 Surface Reflectance** products, with all processing conducted on **Google Earth Engine (GEE)**.\n",
    "\n",
    "This dataset and its methodology are described in the following paper:\n",
    "\n",
    "> **Huang, Y., Liu, J., Xu, Y. et al. (2022)**  \n",
    "> *A high-resolution inventory of photovoltaic power installations in China.*  \n",
    "> *Earth System Science Data*, **14**, 2839–2854.  \n",
    "> [https://doi.org/10.5194/essd-14-2839-2022](https://doi.org/10.5194/essd-14-2839-2022)\n",
    "\n",
    "The dataset is publicly available on **Zenodo**:\n",
    "> [PV_China_2020 on Zenodo (Record #6849477)](https://zenodo.org/record/6849477)"
   ]
  },
  {
   "cell_type": "markdown",
   "id": "f7396f69",
   "metadata": {},
   "source": [
    "# Setup"
   ]
  },
  {
   "cell_type": "code",
   "execution_count": 3,
   "id": "ff9d05de",
   "metadata": {},
   "outputs": [],
   "source": [
    "import os\n",
    "import zipfile\n",
    "import requests\n",
    "import geopandas as gpd\n",
    "import plotly.express as px"
   ]
  },
  {
   "cell_type": "markdown",
   "id": "0e161323",
   "metadata": {},
   "source": [
    "## Download"
   ]
  },
  {
   "cell_type": "code",
   "execution_count": 4,
   "id": "e859bf00",
   "metadata": {},
   "outputs": [
    {
     "name": "stdout",
     "output_type": "stream",
     "text": [
      "Downloading dataset...\n",
      "✅ Downloaded: {'..\\\\..\\\\data\\\\raw_data\\\\pv_china_2020\\\\pv_china_2020.zip'}\n",
      "Extracting files...\n",
      "Deleted zip file: pv_china_2020.zip\n",
      "Extracted files: ['PV_China_2020.cpg', 'PV_China_2020.dbf', 'PV_China_2020.prj', 'PV_China_2020.shp', 'PV_China_2020.shx']\n"
     ]
    }
   ],
   "source": [
    "url = \"https://zenodo.org/record/6849477/files/PV_China_2020.zip?download=1\"\n",
    "\n",
    "# Output folder\n",
    "output_folder = os.path.join(\"..\", \"..\", \"data\", \"raw_data\", \"pv_china_2020\")\n",
    "os.makedirs(output_folder, exist_ok=True)\n",
    "\n",
    "zipname = \"pv_china_2020.zip\"\n",
    "zippath = os.path.join(output_folder, zipname)\n",
    "\n",
    "# Download the file\n",
    "print(\"Downloading dataset...\")\n",
    "response = requests.get(url)\n",
    "with open(zippath, \"wb\") as f:\n",
    "    f.write(response.content)\n",
    "print(\"✅ Downloaded:\", {zippath})\n",
    "\n",
    "# Extract files\n",
    "print(\"Extracting files...\")\n",
    "with zipfile.ZipFile(zippath, 'r') as zip_ref:\n",
    "    zip_ref.extractall(output_folder)\n",
    "os.remove(zippath)\n",
    "print(f\"Deleted zip file: {zipname}\")\n",
    "\n",
    "# List extracted files\n",
    "print(\"Extracted files:\", os.listdir(output_folder))\n"
   ]
  },
  {
   "cell_type": "markdown",
   "id": "c8c9e76c",
   "metadata": {},
   "source": [
    "## Clean"
   ]
  },
  {
   "cell_type": "code",
   "execution_count": 5,
   "id": "f1015d39",
   "metadata": {},
   "outputs": [
    {
     "name": "stdout",
     "output_type": "stream",
     "text": [
      "<class 'geopandas.geodataframe.GeoDataFrame'>\n",
      "RangeIndex: 2539 entries, 0 to 2538\n",
      "Data columns (total 12 columns):\n",
      " #   Column     Non-Null Count  Dtype   \n",
      "---  ------     --------------  -----   \n",
      " 0   OBJECTID   2539 non-null   int32   \n",
      " 1   landcover  2539 non-null   int32   \n",
      " 2   area       2539 non-null   float64 \n",
      " 3   temp       2539 non-null   float64 \n",
      " 4   precip     2539 non-null   float64 \n",
      " 5   elev       2539 non-null   float64 \n",
      " 6   popu       2539 non-null   int64   \n",
      " 7   EVI_2013   2539 non-null   float64 \n",
      " 8   EVI_2020   2539 non-null   float64 \n",
      " 9   lat_centr  2539 non-null   float64 \n",
      " 10  lon_centr  2539 non-null   float64 \n",
      " 11  geometry   2539 non-null   geometry\n",
      "dtypes: float64(8), geometry(1), int32(2), int64(1)\n",
      "memory usage: 218.3 KB\n"
     ]
    }
   ],
   "source": [
    "gdf = gpd.read_file(\"../../data/raw_data/pv_china_2020/PV_China_2020.shp\")\n",
    "\n",
    "gdf.info()"
   ]
  },
  {
   "cell_type": "code",
   "execution_count": 6,
   "id": "91d8cfb0",
   "metadata": {},
   "outputs": [
    {
     "data": {
      "text/html": [
       "<div>\n",
       "<style scoped>\n",
       "    .dataframe tbody tr th:only-of-type {\n",
       "        vertical-align: middle;\n",
       "    }\n",
       "\n",
       "    .dataframe tbody tr th {\n",
       "        vertical-align: top;\n",
       "    }\n",
       "\n",
       "    .dataframe thead th {\n",
       "        text-align: right;\n",
       "    }\n",
       "</style>\n",
       "<table border=\"1\" class=\"dataframe\">\n",
       "  <thead>\n",
       "    <tr style=\"text-align: right;\">\n",
       "      <th></th>\n",
       "      <th>OBJECTID</th>\n",
       "      <th>landcover</th>\n",
       "      <th>area</th>\n",
       "      <th>temp</th>\n",
       "      <th>precip</th>\n",
       "      <th>elev</th>\n",
       "      <th>popu</th>\n",
       "      <th>EVI_2013</th>\n",
       "      <th>EVI_2020</th>\n",
       "      <th>lat_centr</th>\n",
       "      <th>lon_centr</th>\n",
       "      <th>geometry</th>\n",
       "    </tr>\n",
       "  </thead>\n",
       "  <tbody>\n",
       "    <tr>\n",
       "      <th>0</th>\n",
       "      <td>1050</td>\n",
       "      <td>40</td>\n",
       "      <td>0.63673</td>\n",
       "      <td>15.8</td>\n",
       "      <td>1160.2</td>\n",
       "      <td>87.8</td>\n",
       "      <td>240</td>\n",
       "      <td>0.426</td>\n",
       "      <td>0.326</td>\n",
       "      <td>31.539895</td>\n",
       "      <td>113.987199</td>\n",
       "      <td>MULTIPOLYGON (((113.98 31.54, 113.98 31.541, 1...</td>\n",
       "    </tr>\n",
       "    <tr>\n",
       "      <th>1</th>\n",
       "      <td>547</td>\n",
       "      <td>60</td>\n",
       "      <td>1.52337</td>\n",
       "      <td>9.6</td>\n",
       "      <td>170.1</td>\n",
       "      <td>256.5</td>\n",
       "      <td>9</td>\n",
       "      <td>0.096</td>\n",
       "      <td>0.095</td>\n",
       "      <td>44.929143</td>\n",
       "      <td>82.596528</td>\n",
       "      <td>POLYGON ((82.585 44.924, 82.585 44.926, 82.586...</td>\n",
       "    </tr>\n",
       "    <tr>\n",
       "      <th>2</th>\n",
       "      <td>966</td>\n",
       "      <td>80</td>\n",
       "      <td>0.49803</td>\n",
       "      <td>17.5</td>\n",
       "      <td>1665.0</td>\n",
       "      <td>4.4</td>\n",
       "      <td>640</td>\n",
       "      <td>0.155</td>\n",
       "      <td>0.232</td>\n",
       "      <td>29.505017</td>\n",
       "      <td>121.665288</td>\n",
       "      <td>MULTIPOLYGON (((121.65 29.502, 121.65 29.503, ...</td>\n",
       "    </tr>\n",
       "    <tr>\n",
       "      <th>3</th>\n",
       "      <td>1078</td>\n",
       "      <td>40</td>\n",
       "      <td>1.07808</td>\n",
       "      <td>17.0</td>\n",
       "      <td>1226.4</td>\n",
       "      <td>82.5</td>\n",
       "      <td>281</td>\n",
       "      <td>0.399</td>\n",
       "      <td>0.293</td>\n",
       "      <td>30.819104</td>\n",
       "      <td>112.938832</td>\n",
       "      <td>MULTIPOLYGON (((112.92 30.822, 112.92 30.823, ...</td>\n",
       "    </tr>\n",
       "    <tr>\n",
       "      <th>4</th>\n",
       "      <td>634</td>\n",
       "      <td>40</td>\n",
       "      <td>1.10933</td>\n",
       "      <td>6.6</td>\n",
       "      <td>425.5</td>\n",
       "      <td>181.3</td>\n",
       "      <td>42</td>\n",
       "      <td>0.244</td>\n",
       "      <td>0.183</td>\n",
       "      <td>45.226290</td>\n",
       "      <td>121.945304</td>\n",
       "      <td>POLYGON ((121.94 45.22, 121.94 45.22, 121.94 4...</td>\n",
       "    </tr>\n",
       "  </tbody>\n",
       "</table>\n",
       "</div>"
      ],
      "text/plain": [
       "   OBJECTID  landcover     area  temp  precip   elev  popu  EVI_2013  \\\n",
       "0      1050         40  0.63673  15.8  1160.2   87.8   240     0.426   \n",
       "1       547         60  1.52337   9.6   170.1  256.5     9     0.096   \n",
       "2       966         80  0.49803  17.5  1665.0    4.4   640     0.155   \n",
       "3      1078         40  1.07808  17.0  1226.4   82.5   281     0.399   \n",
       "4       634         40  1.10933   6.6   425.5  181.3    42     0.244   \n",
       "\n",
       "   EVI_2020  lat_centr   lon_centr  \\\n",
       "0     0.326  31.539895  113.987199   \n",
       "1     0.095  44.929143   82.596528   \n",
       "2     0.232  29.505017  121.665288   \n",
       "3     0.293  30.819104  112.938832   \n",
       "4     0.183  45.226290  121.945304   \n",
       "\n",
       "                                            geometry  \n",
       "0  MULTIPOLYGON (((113.98 31.54, 113.98 31.541, 1...  \n",
       "1  POLYGON ((82.585 44.924, 82.585 44.926, 82.586...  \n",
       "2  MULTIPOLYGON (((121.65 29.502, 121.65 29.503, ...  \n",
       "3  MULTIPOLYGON (((112.92 30.822, 112.92 30.823, ...  \n",
       "4  POLYGON ((121.94 45.22, 121.94 45.22, 121.94 4...  "
      ]
     },
     "execution_count": 6,
     "metadata": {},
     "output_type": "execute_result"
    }
   ],
   "source": [
    "gdf.head()"
   ]
  },
  {
   "cell_type": "code",
   "execution_count": 7,
   "id": "8527efc9",
   "metadata": {},
   "outputs": [
    {
     "name": "stdout",
     "output_type": "stream",
     "text": [
      "EPSG:4326\n"
     ]
    }
   ],
   "source": [
    "# Check current CRS\n",
    "print(gdf.crs)"
   ]
  },
  {
   "cell_type": "markdown",
   "id": "eabf7e9d",
   "metadata": {},
   "source": [
    "EPSG:4326 is a geographic CRS — it uses latitude and longitude in degrees"
   ]
  },
  {
   "cell_type": "markdown",
   "id": "349bb3d4",
   "metadata": {},
   "source": [
    "### Find the province"
   ]
  },
  {
   "cell_type": "markdown",
   "id": "33358dcb",
   "metadata": {},
   "source": [
    "We aim to focus exclusively on mainland China. To ensure a fair and consistent comparison, we will remove data related to Taiwan.\n",
    "\n",
    "Approximate lat/lon ranges for Taiwan:\n",
    "- Latitude: 21.5 to 25.5\n",
    "- Longitude: 119.5 to 122.5\n"
   ]
  },
  {
   "cell_type": "code",
   "execution_count": 8,
   "id": "2c554ed7",
   "metadata": {},
   "outputs": [],
   "source": [
    "gdf = gdf[~(\n",
    "    (gdf['lat_centr'] >= 21.5) & (gdf['lat_centr'] <= 25.5) &\n",
    "    (gdf['lon_centr'] >= 119.5) & (gdf['lon_centr'] <= 122.5)\n",
    ")]"
   ]
  },
  {
   "cell_type": "code",
   "execution_count": 9,
   "id": "3c6cbff4",
   "metadata": {},
   "outputs": [
    {
     "data": {
      "text/html": [
       "<div>\n",
       "<style scoped>\n",
       "    .dataframe tbody tr th:only-of-type {\n",
       "        vertical-align: middle;\n",
       "    }\n",
       "\n",
       "    .dataframe tbody tr th {\n",
       "        vertical-align: top;\n",
       "    }\n",
       "\n",
       "    .dataframe thead th {\n",
       "        text-align: right;\n",
       "    }\n",
       "</style>\n",
       "<table border=\"1\" class=\"dataframe\">\n",
       "  <thead>\n",
       "    <tr style=\"text-align: right;\">\n",
       "      <th></th>\n",
       "      <th>OBJECTID</th>\n",
       "      <th>landcover</th>\n",
       "      <th>area</th>\n",
       "      <th>temp</th>\n",
       "      <th>precip</th>\n",
       "      <th>elev</th>\n",
       "      <th>popu</th>\n",
       "      <th>EVI_2013</th>\n",
       "      <th>EVI_2020</th>\n",
       "      <th>lat_centr</th>\n",
       "      <th>lon_centr</th>\n",
       "      <th>geometry</th>\n",
       "      <th>index_right</th>\n",
       "      <th>Province</th>\n",
       "      <th>Prefecture</th>\n",
       "      <th>County</th>\n",
       "    </tr>\n",
       "  </thead>\n",
       "  <tbody>\n",
       "    <tr>\n",
       "      <th>0</th>\n",
       "      <td>1050</td>\n",
       "      <td>40</td>\n",
       "      <td>0.63673</td>\n",
       "      <td>15.8</td>\n",
       "      <td>1160.2</td>\n",
       "      <td>87.8</td>\n",
       "      <td>240</td>\n",
       "      <td>0.426</td>\n",
       "      <td>0.326</td>\n",
       "      <td>31.539895</td>\n",
       "      <td>113.987199</td>\n",
       "      <td>MULTIPOLYGON (((113.98 31.54, 113.98 31.541, 1...</td>\n",
       "      <td>967.0</td>\n",
       "      <td>Hubei</td>\n",
       "      <td>SuizhouShi</td>\n",
       "      <td>Yingshan</td>\n",
       "    </tr>\n",
       "    <tr>\n",
       "      <th>1</th>\n",
       "      <td>547</td>\n",
       "      <td>60</td>\n",
       "      <td>1.52337</td>\n",
       "      <td>9.6</td>\n",
       "      <td>170.1</td>\n",
       "      <td>256.5</td>\n",
       "      <td>9</td>\n",
       "      <td>0.096</td>\n",
       "      <td>0.095</td>\n",
       "      <td>44.929143</td>\n",
       "      <td>82.596528</td>\n",
       "      <td>POLYGON ((82.585 44.924, 82.585 44.926, 82.586...</td>\n",
       "      <td>2081.0</td>\n",
       "      <td>Xinjiang</td>\n",
       "      <td>BörtalaMongol</td>\n",
       "      <td>Bole</td>\n",
       "    </tr>\n",
       "    <tr>\n",
       "      <th>2</th>\n",
       "      <td>966</td>\n",
       "      <td>80</td>\n",
       "      <td>0.49803</td>\n",
       "      <td>17.5</td>\n",
       "      <td>1665.0</td>\n",
       "      <td>4.4</td>\n",
       "      <td>640</td>\n",
       "      <td>0.155</td>\n",
       "      <td>0.232</td>\n",
       "      <td>29.505017</td>\n",
       "      <td>121.665288</td>\n",
       "      <td>MULTIPOLYGON (((121.65 29.502, 121.65 29.503, ...</td>\n",
       "      <td>2385.0</td>\n",
       "      <td>Zhejiang</td>\n",
       "      <td>Ningbo</td>\n",
       "      <td>Xiangshan</td>\n",
       "    </tr>\n",
       "    <tr>\n",
       "      <th>3</th>\n",
       "      <td>1078</td>\n",
       "      <td>40</td>\n",
       "      <td>1.07808</td>\n",
       "      <td>17.0</td>\n",
       "      <td>1226.4</td>\n",
       "      <td>82.5</td>\n",
       "      <td>281</td>\n",
       "      <td>0.399</td>\n",
       "      <td>0.293</td>\n",
       "      <td>30.819104</td>\n",
       "      <td>112.938832</td>\n",
       "      <td>MULTIPOLYGON (((112.92 30.822, 112.92 30.823, ...</td>\n",
       "      <td>946.0</td>\n",
       "      <td>Hubei</td>\n",
       "      <td>Jingmen</td>\n",
       "      <td>Jingshan</td>\n",
       "    </tr>\n",
       "    <tr>\n",
       "      <th>4</th>\n",
       "      <td>634</td>\n",
       "      <td>40</td>\n",
       "      <td>1.10933</td>\n",
       "      <td>6.6</td>\n",
       "      <td>425.5</td>\n",
       "      <td>181.3</td>\n",
       "      <td>42</td>\n",
       "      <td>0.244</td>\n",
       "      <td>0.183</td>\n",
       "      <td>45.226290</td>\n",
       "      <td>121.945304</td>\n",
       "      <td>POLYGON ((121.94 45.22, 121.94 45.22, 121.94 4...</td>\n",
       "      <td>NaN</td>\n",
       "      <td>NaN</td>\n",
       "      <td>NaN</td>\n",
       "      <td>NaN</td>\n",
       "    </tr>\n",
       "  </tbody>\n",
       "</table>\n",
       "</div>"
      ],
      "text/plain": [
       "   OBJECTID  landcover     area  temp  precip   elev  popu  EVI_2013  \\\n",
       "0      1050         40  0.63673  15.8  1160.2   87.8   240     0.426   \n",
       "1       547         60  1.52337   9.6   170.1  256.5     9     0.096   \n",
       "2       966         80  0.49803  17.5  1665.0    4.4   640     0.155   \n",
       "3      1078         40  1.07808  17.0  1226.4   82.5   281     0.399   \n",
       "4       634         40  1.10933   6.6   425.5  181.3    42     0.244   \n",
       "\n",
       "   EVI_2020  lat_centr   lon_centr  \\\n",
       "0     0.326  31.539895  113.987199   \n",
       "1     0.095  44.929143   82.596528   \n",
       "2     0.232  29.505017  121.665288   \n",
       "3     0.293  30.819104  112.938832   \n",
       "4     0.183  45.226290  121.945304   \n",
       "\n",
       "                                            geometry  index_right  Province  \\\n",
       "0  MULTIPOLYGON (((113.98 31.54, 113.98 31.541, 1...        967.0     Hubei   \n",
       "1  POLYGON ((82.585 44.924, 82.585 44.926, 82.586...       2081.0  Xinjiang   \n",
       "2  MULTIPOLYGON (((121.65 29.502, 121.65 29.503, ...       2385.0  Zhejiang   \n",
       "3  MULTIPOLYGON (((112.92 30.822, 112.92 30.823, ...        946.0     Hubei   \n",
       "4  POLYGON ((121.94 45.22, 121.94 45.22, 121.94 4...          NaN       NaN   \n",
       "\n",
       "      Prefecture     County  \n",
       "0     SuizhouShi   Yingshan  \n",
       "1  BörtalaMongol       Bole  \n",
       "2         Ningbo  Xiangshan  \n",
       "3        Jingmen   Jingshan  \n",
       "4            NaN        NaN  "
      ]
     },
     "execution_count": 9,
     "metadata": {},
     "output_type": "execute_result"
    }
   ],
   "source": [
    "gadm = gpd.read_file(\"../../data/data_processed/mapdata/gadm41_CHN_3_processed.json\")\n",
    "gdf = gdf.to_crs(gadm.crs)\n",
    "\n",
    "joined_within = gpd.sjoin(gdf, gadm[[\"Province\", \"Prefecture\", \"County\", \"geometry\"]], how=\"left\", predicate=\"within\")\n",
    "\n",
    "joined_within.head()\n"
   ]
  },
  {
   "cell_type": "code",
   "execution_count": 10,
   "id": "cb4393c3",
   "metadata": {},
   "outputs": [],
   "source": [
    "joined_within = joined_within.drop('index_right', axis = 1)"
   ]
  },
  {
   "cell_type": "code",
   "execution_count": null,
   "id": "904c3da7",
   "metadata": {},
   "outputs": [
    {
     "data": {
      "text/plain": [
       "OBJECTID        0\n",
       "landcover       0\n",
       "area            0\n",
       "temp            0\n",
       "precip          0\n",
       "elev            0\n",
       "popu            0\n",
       "EVI_2013        0\n",
       "EVI_2020        0\n",
       "lat_centr       0\n",
       "lon_centr       0\n",
       "geometry        0\n",
       "Province      254\n",
       "Prefecture    254\n",
       "County        254\n",
       "dtype: int64"
      ]
     },
     "execution_count": 11,
     "metadata": {},
     "output_type": "execute_result"
    }
   ],
   "source": [
    "joined_within.isna().sum()"
   ]
  },
  {
   "cell_type": "code",
   "execution_count": 12,
   "id": "f170a918",
   "metadata": {},
   "outputs": [],
   "source": [
    "# Identify unmatched features\n",
    "null_idx = joined_within[joined_within['Province'].isna()].index\n",
    "null_features = gdf.loc[null_idx]"
   ]
  },
  {
   "cell_type": "code",
   "execution_count": 13,
   "id": "3316f883",
   "metadata": {},
   "outputs": [
    {
     "data": {
      "application/vnd.plotly.v1+json": {
       "config": {
        "plotlyServerURL": "https://plot.ly"
       },
       "data": [
        {
         "customdata": [
          [
           45.22629,
           121.945304
          ],
          [
           38.560265,
           112.838878
          ],
          [
           30.327253,
           120.816199
          ],
          [
           31.554483,
           119.899174
          ],
          [
           40.332261,
           114.743002
          ],
          [
           28.371896,
           115.716877
          ],
          [
           40.841792,
           121.014479
          ],
          [
           32.474321,
           119.968966
          ],
          [
           32.590981,
           116.596676
          ],
          [
           29.040155,
           119.606106
          ],
          [
           20.272462,
           110.075555
          ],
          [
           36.388638,
           106.025852
          ],
          [
           31.50057,
           119.560306
          ],
          [
           28.796942,
           116.82757
          ],
          [
           33.124731,
           113.672118
          ],
          [
           31.007656,
           121.322215
          ],
          [
           41.478107,
           114.863381
          ],
          [
           38.582065,
           117.378018
          ],
          [
           35.4427,
           109.758735
          ],
          [
           46.250683,
           125.087317
          ],
          [
           29.110916,
           112.602526
          ],
          [
           33.871902,
           119.995118
          ],
          [
           31.92972,
           113.6082
          ],
          [
           28.752866,
           121.63971
          ],
          [
           36.465397,
           118.357309
          ],
          [
           29.753262,
           121.869745
          ],
          [
           25.518929,
           112.711255
          ],
          [
           34.716468,
           117.078898
          ],
          [
           27.927275,
           120.945621
          ],
          [
           33.121889,
           120.829843
          ],
          [
           30.168855,
           120.853514
          ],
          [
           37.718402,
           111.137539
          ],
          [
           27.497837,
           120.664854
          ],
          [
           31.752549,
           116.008409
          ],
          [
           39.841102,
           124.1385
          ],
          [
           35.190926,
           116.766627
          ],
          [
           32.57404,
           119.857595
          ],
          [
           37.569464,
           105.44305
          ],
          [
           35.677024,
           114.775748
          ],
          [
           23.228522,
           112.9849
          ],
          [
           34.564292,
           116.146105
          ],
          [
           35.193547,
           110.017792
          ],
          [
           34.387585,
           118.140068
          ],
          [
           33.151779,
           118.943347
          ],
          [
           27.596201,
           120.612539
          ],
          [
           33.423991,
           113.213824
          ],
          [
           19.769034,
           109.178484
          ],
          [
           38.188574,
           111.10115
          ],
          [
           40.701552,
           107.100083
          ],
          [
           31.461736,
           118.368058
          ],
          [
           26.776603,
           104.763668
          ],
          [
           31.815837,
           117.117077
          ],
          [
           28.125855,
           121.029567
          ],
          [
           37.610907,
           106.10688
          ],
          [
           34.786359,
           117.764876
          ],
          [
           24.806984,
           113.480361
          ],
          [
           38.400182,
           106.559226
          ],
          [
           27.900345,
           120.886343
          ],
          [
           35.3445,
           116.196527
          ],
          [
           37.560092,
           114.496011
          ],
          [
           34.214162,
           112.405627
          ],
          [
           37.454079,
           122.228547
          ],
          [
           34.924057,
           117.010721
          ],
          [
           37.87254,
           113.682786
          ],
          [
           29.088815,
           121.912505
          ],
          [
           43.764339,
           111.994512
          ],
          [
           21.071225,
           110.305166
          ],
          [
           25.784849,
           115.688514
          ],
          [
           33.041293,
           117.465119
          ],
          [
           25.578258,
           104.958223
          ],
          [
           34.003609,
           112.793293
          ],
          [
           32.65245,
           120.947973
          ],
          [
           27.261092,
           103.884923
          ],
          [
           28.958708,
           119.021513
          ],
          [
           28.303085,
           116.045568
          ],
          [
           21.883494,
           108.506974
          ],
          [
           41.593348,
           127.304195
          ],
          [
           32.380253,
           121.398989
          ],
          [
           32.165218,
           112.128401
          ],
          [
           31.735399,
           117.223398
          ],
          [
           38.698996,
           114.595237
          ],
          [
           24.038065,
           117.791824
          ],
          [
           28.38678,
           116.837134
          ],
          [
           33.975509,
           117.400253
          ],
          [
           38.052172,
           113.298988
          ],
          [
           32.233021,
           119.03696
          ],
          [
           29.614644,
           121.953733
          ],
          [
           31.937021,
           119.998207
          ],
          [
           38.684306,
           106.673651
          ],
          [
           43.442746,
           123.445341
          ],
          [
           30.359905,
           120.388102
          ],
          [
           38.193377,
           106.013043
          ],
          [
           28.577852,
           121.535444
          ],
          [
           21.004817,
           109.696297
          ],
          [
           34.56868,
           112.347711
          ],
          [
           38.107024,
           113.538162
          ],
          [
           30.21627,
           120.670338
          ],
          [
           28.876147,
           118.943717
          ],
          [
           31.131556,
           114.00635
          ],
          [
           44.479645,
           83.535323
          ],
          [
           34.458121,
           118.404269
          ],
          [
           40.016526,
           112.975731
          ],
          [
           41.096961,
           112.613209
          ],
          [
           34.021956,
           119.558739
          ],
          [
           45.576567,
           123.067707
          ],
          [
           30.704353,
           114.521972
          ],
          [
           25.474678,
           105.465793
          ],
          [
           34.141932,
           117.080773
          ],
          [
           29.77269,
           111.592766
          ],
          [
           36.806282,
           117.618343
          ],
          [
           25.434605,
           119.314083
          ],
          [
           28.319103,
           117.556812
          ],
          [
           33.806145,
           118.466363
          ],
          [
           40.659666,
           114.773588
          ],
          [
           38.997196,
           115.099416
          ],
          [
           36.532733,
           115.149301
          ],
          [
           23.035597,
           114.312396
          ],
          [
           36.054702,
           113.385901
          ],
          [
           37.12326,
           119.114108
          ],
          [
           40.465262,
           114.013671
          ],
          [
           36.705488,
           109.866826
          ],
          [
           38.02665,
           117.393571
          ],
          [
           36.988636,
           105.147603
          ],
          [
           29.055417,
           118.870318
          ],
          [
           30.099792,
           120.943329
          ],
          [
           41.498707,
           113.994055
          ],
          [
           30.500744,
           120.141289
          ],
          [
           28.308111,
           117.779944
          ],
          [
           40.269062,
           115.435554
          ],
          [
           29.096295,
           121.840669
          ],
          [
           28.073158,
           116.534475
          ],
          [
           35.151274,
           109.156919
          ],
          [
           38.837912,
           114.504245
          ],
          [
           46.384131,
           125.009264
          ],
          [
           31.761837,
           113.519791
          ],
          [
           27.399161,
           102.722952
          ],
          [
           39.285955,
           110.717409
          ],
          [
           35.206073,
           115.557237
          ],
          [
           19.946829,
           110.274733
          ],
          [
           36.256721,
           118.796224
          ],
          [
           32.569488,
           115.297468
          ],
          [
           32.523104,
           121.10332
          ],
          [
           33.804658,
           118.376122
          ],
          [
           37.31503,
           105.984198
          ],
          [
           31.936937,
           119.410408
          ],
          [
           31.432053,
           121.451044
          ],
          [
           34.610171,
           115.488768
          ],
          [
           46.182525,
           125.083471
          ],
          [
           40.634247,
           115.122821
          ],
          [
           28.159067,
           121.319172
          ],
          [
           30.589737,
           121.026666
          ],
          [
           28.165043,
           121.089727
          ],
          [
           34.459096,
           116.734519
          ],
          [
           35.727165,
           117.452522
          ],
          [
           30.805177,
           120.745683
          ],
          [
           31.665313,
           121.181724
          ],
          [
           28.387346,
           121.612518
          ],
          [
           29.900815,
           115.714697
          ],
          [
           21.924386,
           111.71768
          ],
          [
           27.695523,
           120.685068
          ],
          [
           28.80509,
           113.186731
          ],
          [
           20.446311,
           110.000109
          ],
          [
           33.235225,
           117.984089
          ],
          [
           35.455439,
           116.700026
          ],
          [
           34.63452,
           113.669913
          ],
          [
           25.057228,
           114.187299
          ],
          [
           42.584918,
           123.830064
          ],
          [
           39.298056,
           106.89585
          ],
          [
           29.768886,
           122.117689
          ],
          [
           38.20681,
           117.520113
          ],
          [
           30.587661,
           120.329124
          ],
          [
           33.690701,
           118.461324
          ],
          [
           34.370535,
           120.067707
          ],
          [
           42.770084,
           122.615137
          ],
          [
           36.632301,
           121.100675
          ],
          [
           23.316293,
           112.837486
          ],
          [
           25.330202,
           104.916949
          ],
          [
           41.242446,
           111.210415
          ],
          [
           33.191934,
           115.420932
          ],
          [
           21.572028,
           110.816297
          ],
          [
           30.330841,
           121.303823
          ],
          [
           25.756872,
           100.346802
          ],
          [
           41.380208,
           121.535738
          ],
          [
           38.040917,
           114.261525
          ],
          [
           22.793484,
           113.341063
          ],
          [
           29.285054,
           91.887436
          ],
          [
           29.008169,
           118.422823
          ],
          [
           31.838893,
           121.876388
          ],
          [
           31.015338,
           120.966229
          ],
          [
           43.575197,
           111.951988
          ],
          [
           37.001823,
           114.293924
          ],
          [
           35.15132,
           117.582947
          ],
          [
           36.999683,
           119.218742
          ],
          [
           34.899396,
           116.847888
          ],
          [
           35.46686,
           119.051397
          ],
          [
           31.921766,
           115.924808
          ],
          [
           29.010634,
           121.694597
          ],
          [
           36.066969,
           114.047548
          ],
          [
           36.095432,
           118.998975
          ],
          [
           33.593739,
           119.164183
          ],
          [
           21.547498,
           108.108364
          ],
          [
           32.048355,
           121.719952
          ],
          [
           38.187079,
           109.520245
          ],
          [
           37.145962,
           121.597714
          ],
          [
           40.116655,
           118.226687
          ],
          [
           25.949018,
           101.751782
          ],
          [
           36.477837,
           111.600295
          ],
          [
           29.69204,
           115.705467
          ],
          [
           33.073632,
           118.941176
          ],
          [
           32.870018,
           115.47341
          ],
          [
           31.941118,
           117.329945
          ],
          [
           33.175355,
           114.268462
          ],
          [
           25.603288,
           105.180158
          ],
          [
           32.657439,
           119.902223
          ],
          [
           33.277727,
           119.693329
          ],
          [
           35.744605,
           119.05803
          ],
          [
           39.063603,
           76.139316
          ],
          [
           22.757074,
           113.705758
          ],
          [
           33.919079,
           117.648783
          ],
          [
           31.714978,
           120.029071
          ],
          [
           25.36387,
           105.550487
          ],
          [
           37.431838,
           105.947366
          ],
          [
           38.066531,
           114.942264
          ],
          [
           30.649129,
           120.042005
          ],
          [
           38.60912,
           102.14365
          ],
          [
           30.770436,
           115.587133
          ],
          [
           32.655146,
           119.200658
          ],
          [
           48.046515,
           124.610961
          ],
          [
           29.119232,
           121.473539
          ],
          [
           30.904511,
           119.570964
          ],
          [
           19.582513,
           110.424198
          ],
          [
           36.870156,
           118.080827
          ],
          [
           38.541454,
           106.629413
          ],
          [
           36.088737,
           118.903491
          ],
          [
           32.779323,
           120.922749
          ],
          [
           30.287084,
           121.113394
          ],
          [
           40.482102,
           115.221579
          ],
          [
           32.228728,
           121.390243
          ],
          [
           30.072436,
           121.61399
          ],
          [
           36.056639,
           116.683151
          ],
          [
           34.581841,
           115.771569
          ],
          [
           41.924685,
           124.108103
          ],
          [
           31.422306,
           114.043437
          ],
          [
           44.516185,
           123.134764
          ],
          [
           30.269176,
           119.835346
          ],
          [
           37.334439,
           105.489251
          ],
          [
           39.324048,
           106.739805
          ],
          [
           31.720452,
           120.532922
          ],
          [
           37.56142,
           105.039247
          ],
          [
           24.502052,
           102.669888
          ],
          [
           36.272952,
           113.965639
          ],
          [
           30.753813,
           121.394459
          ],
          [
           35.181877,
           112.755545
          ],
          [
           32.169985,
           112.201178
          ]
         ],
         "hovertemplate": "lat_centr=%{customdata[0]}<br>lon_centr=%{customdata[1]}<extra></extra>",
         "lat": [
          45.22629,
          38.560265,
          30.327253,
          31.554483,
          40.332261,
          28.371896,
          40.841792,
          32.474321,
          32.590981,
          29.040155,
          20.272462,
          36.388638,
          31.50057,
          28.796942,
          33.124731,
          31.007656,
          41.478107,
          38.582065,
          35.4427,
          46.250683,
          29.110916,
          33.871902,
          31.92972,
          28.752866,
          36.465397,
          29.753262,
          25.518929,
          34.716468,
          27.927275,
          33.121889,
          30.168855,
          37.718402,
          27.497837,
          31.752549,
          39.841102,
          35.190926,
          32.57404,
          37.569464,
          35.677024,
          23.228522,
          34.564292,
          35.193547,
          34.387585,
          33.151779,
          27.596201,
          33.423991,
          19.769034,
          38.188574,
          40.701552,
          31.461736,
          26.776603,
          31.815837,
          28.125855,
          37.610907,
          34.786359,
          24.806984,
          38.400182,
          27.900345,
          35.3445,
          37.560092,
          34.214162,
          37.454079,
          34.924057,
          37.87254,
          29.088815,
          43.764339,
          21.071225,
          25.784849,
          33.041293,
          25.578258,
          34.003609,
          32.65245,
          27.261092,
          28.958708,
          28.303085,
          21.883494,
          41.593348,
          32.380253,
          32.165218,
          31.735399,
          38.698996,
          24.038065,
          28.38678,
          33.975509,
          38.052172,
          32.233021,
          29.614644,
          31.937021,
          38.684306,
          43.442746,
          30.359905,
          38.193377,
          28.577852,
          21.004817,
          34.56868,
          38.107024,
          30.21627,
          28.876147,
          31.131556,
          44.479645,
          34.458121,
          40.016526,
          41.096961,
          34.021956,
          45.576567,
          30.704353,
          25.474678,
          34.141932,
          29.77269,
          36.806282,
          25.434605,
          28.319103,
          33.806145,
          40.659666,
          38.997196,
          36.532733,
          23.035597,
          36.054702,
          37.12326,
          40.465262,
          36.705488,
          38.02665,
          36.988636,
          29.055417,
          30.099792,
          41.498707,
          30.500744,
          28.308111,
          40.269062,
          29.096295,
          28.073158,
          35.151274,
          38.837912,
          46.384131,
          31.761837,
          27.399161,
          39.285955,
          35.206073,
          19.946829,
          36.256721,
          32.569488,
          32.523104,
          33.804658,
          37.31503,
          31.936937,
          31.432053,
          34.610171,
          46.182525,
          40.634247,
          28.159067,
          30.589737,
          28.165043,
          34.459096,
          35.727165,
          30.805177,
          31.665313,
          28.387346,
          29.900815,
          21.924386,
          27.695523,
          28.80509,
          20.446311,
          33.235225,
          35.455439,
          34.63452,
          25.057228,
          42.584918,
          39.298056,
          29.768886,
          38.20681,
          30.587661,
          33.690701,
          34.370535,
          42.770084,
          36.632301,
          23.316293,
          25.330202,
          41.242446,
          33.191934,
          21.572028,
          30.330841,
          25.756872,
          41.380208,
          38.040917,
          22.793484,
          29.285054,
          29.008169,
          31.838893,
          31.015338,
          43.575197,
          37.001823,
          35.15132,
          36.999683,
          34.899396,
          35.46686,
          31.921766,
          29.010634,
          36.066969,
          36.095432,
          33.593739,
          21.547498,
          32.048355,
          38.187079,
          37.145962,
          40.116655,
          25.949018,
          36.477837,
          29.69204,
          33.073632,
          32.870018,
          31.941118,
          33.175355,
          25.603288,
          32.657439,
          33.277727,
          35.744605,
          39.063603,
          22.757074,
          33.919079,
          31.714978,
          25.36387,
          37.431838,
          38.066531,
          30.649129,
          38.60912,
          30.770436,
          32.655146,
          48.046515,
          29.119232,
          30.904511,
          19.582513,
          36.870156,
          38.541454,
          36.088737,
          32.779323,
          30.287084,
          40.482102,
          32.228728,
          30.072436,
          36.056639,
          34.581841,
          41.924685,
          31.422306,
          44.516185,
          30.269176,
          37.334439,
          39.324048,
          31.720452,
          37.56142,
          24.502052,
          36.272952,
          30.753813,
          35.181877,
          32.169985
         ],
         "legendgroup": "",
         "lon": [
          121.945304,
          112.838878,
          120.816199,
          119.899174,
          114.743002,
          115.716877,
          121.014479,
          119.968966,
          116.596676,
          119.606106,
          110.075555,
          106.025852,
          119.560306,
          116.82757,
          113.672118,
          121.322215,
          114.863381,
          117.378018,
          109.758735,
          125.087317,
          112.602526,
          119.995118,
          113.6082,
          121.63971,
          118.357309,
          121.869745,
          112.711255,
          117.078898,
          120.945621,
          120.829843,
          120.853514,
          111.137539,
          120.664854,
          116.008409,
          124.1385,
          116.766627,
          119.857595,
          105.44305,
          114.775748,
          112.9849,
          116.146105,
          110.017792,
          118.140068,
          118.943347,
          120.612539,
          113.213824,
          109.178484,
          111.10115,
          107.100083,
          118.368058,
          104.763668,
          117.117077,
          121.029567,
          106.10688,
          117.764876,
          113.480361,
          106.559226,
          120.886343,
          116.196527,
          114.496011,
          112.405627,
          122.228547,
          117.010721,
          113.682786,
          121.912505,
          111.994512,
          110.305166,
          115.688514,
          117.465119,
          104.958223,
          112.793293,
          120.947973,
          103.884923,
          119.021513,
          116.045568,
          108.506974,
          127.304195,
          121.398989,
          112.128401,
          117.223398,
          114.595237,
          117.791824,
          116.837134,
          117.400253,
          113.298988,
          119.03696,
          121.953733,
          119.998207,
          106.673651,
          123.445341,
          120.388102,
          106.013043,
          121.535444,
          109.696297,
          112.347711,
          113.538162,
          120.670338,
          118.943717,
          114.00635,
          83.535323,
          118.404269,
          112.975731,
          112.613209,
          119.558739,
          123.067707,
          114.521972,
          105.465793,
          117.080773,
          111.592766,
          117.618343,
          119.314083,
          117.556812,
          118.466363,
          114.773588,
          115.099416,
          115.149301,
          114.312396,
          113.385901,
          119.114108,
          114.013671,
          109.866826,
          117.393571,
          105.147603,
          118.870318,
          120.943329,
          113.994055,
          120.141289,
          117.779944,
          115.435554,
          121.840669,
          116.534475,
          109.156919,
          114.504245,
          125.009264,
          113.519791,
          102.722952,
          110.717409,
          115.557237,
          110.274733,
          118.796224,
          115.297468,
          121.10332,
          118.376122,
          105.984198,
          119.410408,
          121.451044,
          115.488768,
          125.083471,
          115.122821,
          121.319172,
          121.026666,
          121.089727,
          116.734519,
          117.452522,
          120.745683,
          121.181724,
          121.612518,
          115.714697,
          111.71768,
          120.685068,
          113.186731,
          110.000109,
          117.984089,
          116.700026,
          113.669913,
          114.187299,
          123.830064,
          106.89585,
          122.117689,
          117.520113,
          120.329124,
          118.461324,
          120.067707,
          122.615137,
          121.100675,
          112.837486,
          104.916949,
          111.210415,
          115.420932,
          110.816297,
          121.303823,
          100.346802,
          121.535738,
          114.261525,
          113.341063,
          91.887436,
          118.422823,
          121.876388,
          120.966229,
          111.951988,
          114.293924,
          117.582947,
          119.218742,
          116.847888,
          119.051397,
          115.924808,
          121.694597,
          114.047548,
          118.998975,
          119.164183,
          108.108364,
          121.719952,
          109.520245,
          121.597714,
          118.226687,
          101.751782,
          111.600295,
          115.705467,
          118.941176,
          115.47341,
          117.329945,
          114.268462,
          105.180158,
          119.902223,
          119.693329,
          119.05803,
          76.139316,
          113.705758,
          117.648783,
          120.029071,
          105.550487,
          105.947366,
          114.942264,
          120.042005,
          102.14365,
          115.587133,
          119.200658,
          124.610961,
          121.473539,
          119.570964,
          110.424198,
          118.080827,
          106.629413,
          118.903491,
          120.922749,
          121.113394,
          115.221579,
          121.390243,
          121.61399,
          116.683151,
          115.771569,
          124.108103,
          114.043437,
          123.134764,
          119.835346,
          105.489251,
          106.739805,
          120.532922,
          105.039247,
          102.669888,
          113.965639,
          121.394459,
          112.755545,
          112.201178
         ],
         "marker": {
          "color": "red"
         },
         "mode": "markers",
         "name": "",
         "showlegend": false,
         "subplot": "map",
         "type": "scattermap"
        }
       ],
       "layout": {
        "height": 600,
        "legend": {
         "tracegroupgap": 0
        },
        "map": {
         "center": {
          "lat": 33.19998377952756,
          "lon": 115.54578549606299
         },
         "domain": {
          "x": [
           0,
           1
          ],
          "y": [
           0,
           1
          ]
         },
         "zoom": 4
        },
        "mapbox": {
         "center": {
          "lat": 33.19998377952756,
          "lon": 115.54578549606299
         },
         "style": "open-street-map",
         "zoom": 4
        },
        "margin": {
         "b": 0,
         "l": 0,
         "r": 0,
         "t": 30
        },
        "showlegend": false,
        "template": {
         "data": {
          "bar": [
           {
            "error_x": {
             "color": "#2a3f5f"
            },
            "error_y": {
             "color": "#2a3f5f"
            },
            "marker": {
             "line": {
              "color": "#E5ECF6",
              "width": 0.5
             },
             "pattern": {
              "fillmode": "overlay",
              "size": 10,
              "solidity": 0.2
             }
            },
            "type": "bar"
           }
          ],
          "barpolar": [
           {
            "marker": {
             "line": {
              "color": "#E5ECF6",
              "width": 0.5
             },
             "pattern": {
              "fillmode": "overlay",
              "size": 10,
              "solidity": 0.2
             }
            },
            "type": "barpolar"
           }
          ],
          "carpet": [
           {
            "aaxis": {
             "endlinecolor": "#2a3f5f",
             "gridcolor": "white",
             "linecolor": "white",
             "minorgridcolor": "white",
             "startlinecolor": "#2a3f5f"
            },
            "baxis": {
             "endlinecolor": "#2a3f5f",
             "gridcolor": "white",
             "linecolor": "white",
             "minorgridcolor": "white",
             "startlinecolor": "#2a3f5f"
            },
            "type": "carpet"
           }
          ],
          "choropleth": [
           {
            "colorbar": {
             "outlinewidth": 0,
             "ticks": ""
            },
            "type": "choropleth"
           }
          ],
          "contour": [
           {
            "colorbar": {
             "outlinewidth": 0,
             "ticks": ""
            },
            "colorscale": [
             [
              0,
              "#0d0887"
             ],
             [
              0.1111111111111111,
              "#46039f"
             ],
             [
              0.2222222222222222,
              "#7201a8"
             ],
             [
              0.3333333333333333,
              "#9c179e"
             ],
             [
              0.4444444444444444,
              "#bd3786"
             ],
             [
              0.5555555555555556,
              "#d8576b"
             ],
             [
              0.6666666666666666,
              "#ed7953"
             ],
             [
              0.7777777777777778,
              "#fb9f3a"
             ],
             [
              0.8888888888888888,
              "#fdca26"
             ],
             [
              1,
              "#f0f921"
             ]
            ],
            "type": "contour"
           }
          ],
          "contourcarpet": [
           {
            "colorbar": {
             "outlinewidth": 0,
             "ticks": ""
            },
            "type": "contourcarpet"
           }
          ],
          "heatmap": [
           {
            "colorbar": {
             "outlinewidth": 0,
             "ticks": ""
            },
            "colorscale": [
             [
              0,
              "#0d0887"
             ],
             [
              0.1111111111111111,
              "#46039f"
             ],
             [
              0.2222222222222222,
              "#7201a8"
             ],
             [
              0.3333333333333333,
              "#9c179e"
             ],
             [
              0.4444444444444444,
              "#bd3786"
             ],
             [
              0.5555555555555556,
              "#d8576b"
             ],
             [
              0.6666666666666666,
              "#ed7953"
             ],
             [
              0.7777777777777778,
              "#fb9f3a"
             ],
             [
              0.8888888888888888,
              "#fdca26"
             ],
             [
              1,
              "#f0f921"
             ]
            ],
            "type": "heatmap"
           }
          ],
          "heatmapgl": [
           {
            "colorbar": {
             "outlinewidth": 0,
             "ticks": ""
            },
            "colorscale": [
             [
              0,
              "#0d0887"
             ],
             [
              0.1111111111111111,
              "#46039f"
             ],
             [
              0.2222222222222222,
              "#7201a8"
             ],
             [
              0.3333333333333333,
              "#9c179e"
             ],
             [
              0.4444444444444444,
              "#bd3786"
             ],
             [
              0.5555555555555556,
              "#d8576b"
             ],
             [
              0.6666666666666666,
              "#ed7953"
             ],
             [
              0.7777777777777778,
              "#fb9f3a"
             ],
             [
              0.8888888888888888,
              "#fdca26"
             ],
             [
              1,
              "#f0f921"
             ]
            ],
            "type": "heatmapgl"
           }
          ],
          "histogram": [
           {
            "marker": {
             "pattern": {
              "fillmode": "overlay",
              "size": 10,
              "solidity": 0.2
             }
            },
            "type": "histogram"
           }
          ],
          "histogram2d": [
           {
            "colorbar": {
             "outlinewidth": 0,
             "ticks": ""
            },
            "colorscale": [
             [
              0,
              "#0d0887"
             ],
             [
              0.1111111111111111,
              "#46039f"
             ],
             [
              0.2222222222222222,
              "#7201a8"
             ],
             [
              0.3333333333333333,
              "#9c179e"
             ],
             [
              0.4444444444444444,
              "#bd3786"
             ],
             [
              0.5555555555555556,
              "#d8576b"
             ],
             [
              0.6666666666666666,
              "#ed7953"
             ],
             [
              0.7777777777777778,
              "#fb9f3a"
             ],
             [
              0.8888888888888888,
              "#fdca26"
             ],
             [
              1,
              "#f0f921"
             ]
            ],
            "type": "histogram2d"
           }
          ],
          "histogram2dcontour": [
           {
            "colorbar": {
             "outlinewidth": 0,
             "ticks": ""
            },
            "colorscale": [
             [
              0,
              "#0d0887"
             ],
             [
              0.1111111111111111,
              "#46039f"
             ],
             [
              0.2222222222222222,
              "#7201a8"
             ],
             [
              0.3333333333333333,
              "#9c179e"
             ],
             [
              0.4444444444444444,
              "#bd3786"
             ],
             [
              0.5555555555555556,
              "#d8576b"
             ],
             [
              0.6666666666666666,
              "#ed7953"
             ],
             [
              0.7777777777777778,
              "#fb9f3a"
             ],
             [
              0.8888888888888888,
              "#fdca26"
             ],
             [
              1,
              "#f0f921"
             ]
            ],
            "type": "histogram2dcontour"
           }
          ],
          "mesh3d": [
           {
            "colorbar": {
             "outlinewidth": 0,
             "ticks": ""
            },
            "type": "mesh3d"
           }
          ],
          "parcoords": [
           {
            "line": {
             "colorbar": {
              "outlinewidth": 0,
              "ticks": ""
             }
            },
            "type": "parcoords"
           }
          ],
          "pie": [
           {
            "automargin": true,
            "type": "pie"
           }
          ],
          "scatter": [
           {
            "fillpattern": {
             "fillmode": "overlay",
             "size": 10,
             "solidity": 0.2
            },
            "type": "scatter"
           }
          ],
          "scatter3d": [
           {
            "line": {
             "colorbar": {
              "outlinewidth": 0,
              "ticks": ""
             }
            },
            "marker": {
             "colorbar": {
              "outlinewidth": 0,
              "ticks": ""
             }
            },
            "type": "scatter3d"
           }
          ],
          "scattercarpet": [
           {
            "marker": {
             "colorbar": {
              "outlinewidth": 0,
              "ticks": ""
             }
            },
            "type": "scattercarpet"
           }
          ],
          "scattergeo": [
           {
            "marker": {
             "colorbar": {
              "outlinewidth": 0,
              "ticks": ""
             }
            },
            "type": "scattergeo"
           }
          ],
          "scattergl": [
           {
            "marker": {
             "colorbar": {
              "outlinewidth": 0,
              "ticks": ""
             }
            },
            "type": "scattergl"
           }
          ],
          "scattermapbox": [
           {
            "marker": {
             "colorbar": {
              "outlinewidth": 0,
              "ticks": ""
             }
            },
            "type": "scattermapbox"
           }
          ],
          "scatterpolar": [
           {
            "marker": {
             "colorbar": {
              "outlinewidth": 0,
              "ticks": ""
             }
            },
            "type": "scatterpolar"
           }
          ],
          "scatterpolargl": [
           {
            "marker": {
             "colorbar": {
              "outlinewidth": 0,
              "ticks": ""
             }
            },
            "type": "scatterpolargl"
           }
          ],
          "scatterternary": [
           {
            "marker": {
             "colorbar": {
              "outlinewidth": 0,
              "ticks": ""
             }
            },
            "type": "scatterternary"
           }
          ],
          "surface": [
           {
            "colorbar": {
             "outlinewidth": 0,
             "ticks": ""
            },
            "colorscale": [
             [
              0,
              "#0d0887"
             ],
             [
              0.1111111111111111,
              "#46039f"
             ],
             [
              0.2222222222222222,
              "#7201a8"
             ],
             [
              0.3333333333333333,
              "#9c179e"
             ],
             [
              0.4444444444444444,
              "#bd3786"
             ],
             [
              0.5555555555555556,
              "#d8576b"
             ],
             [
              0.6666666666666666,
              "#ed7953"
             ],
             [
              0.7777777777777778,
              "#fb9f3a"
             ],
             [
              0.8888888888888888,
              "#fdca26"
             ],
             [
              1,
              "#f0f921"
             ]
            ],
            "type": "surface"
           }
          ],
          "table": [
           {
            "cells": {
             "fill": {
              "color": "#EBF0F8"
             },
             "line": {
              "color": "white"
             }
            },
            "header": {
             "fill": {
              "color": "#C8D4E3"
             },
             "line": {
              "color": "white"
             }
            },
            "type": "table"
           }
          ]
         },
         "layout": {
          "annotationdefaults": {
           "arrowcolor": "#2a3f5f",
           "arrowhead": 0,
           "arrowwidth": 1
          },
          "autotypenumbers": "strict",
          "coloraxis": {
           "colorbar": {
            "outlinewidth": 0,
            "ticks": ""
           }
          },
          "colorscale": {
           "diverging": [
            [
             0,
             "#8e0152"
            ],
            [
             0.1,
             "#c51b7d"
            ],
            [
             0.2,
             "#de77ae"
            ],
            [
             0.3,
             "#f1b6da"
            ],
            [
             0.4,
             "#fde0ef"
            ],
            [
             0.5,
             "#f7f7f7"
            ],
            [
             0.6,
             "#e6f5d0"
            ],
            [
             0.7,
             "#b8e186"
            ],
            [
             0.8,
             "#7fbc41"
            ],
            [
             0.9,
             "#4d9221"
            ],
            [
             1,
             "#276419"
            ]
           ],
           "sequential": [
            [
             0,
             "#0d0887"
            ],
            [
             0.1111111111111111,
             "#46039f"
            ],
            [
             0.2222222222222222,
             "#7201a8"
            ],
            [
             0.3333333333333333,
             "#9c179e"
            ],
            [
             0.4444444444444444,
             "#bd3786"
            ],
            [
             0.5555555555555556,
             "#d8576b"
            ],
            [
             0.6666666666666666,
             "#ed7953"
            ],
            [
             0.7777777777777778,
             "#fb9f3a"
            ],
            [
             0.8888888888888888,
             "#fdca26"
            ],
            [
             1,
             "#f0f921"
            ]
           ],
           "sequentialminus": [
            [
             0,
             "#0d0887"
            ],
            [
             0.1111111111111111,
             "#46039f"
            ],
            [
             0.2222222222222222,
             "#7201a8"
            ],
            [
             0.3333333333333333,
             "#9c179e"
            ],
            [
             0.4444444444444444,
             "#bd3786"
            ],
            [
             0.5555555555555556,
             "#d8576b"
            ],
            [
             0.6666666666666666,
             "#ed7953"
            ],
            [
             0.7777777777777778,
             "#fb9f3a"
            ],
            [
             0.8888888888888888,
             "#fdca26"
            ],
            [
             1,
             "#f0f921"
            ]
           ]
          },
          "colorway": [
           "#636efa",
           "#EF553B",
           "#00cc96",
           "#ab63fa",
           "#FFA15A",
           "#19d3f3",
           "#FF6692",
           "#B6E880",
           "#FF97FF",
           "#FECB52"
          ],
          "font": {
           "color": "#2a3f5f"
          },
          "geo": {
           "bgcolor": "white",
           "lakecolor": "white",
           "landcolor": "#E5ECF6",
           "showlakes": true,
           "showland": true,
           "subunitcolor": "white"
          },
          "hoverlabel": {
           "align": "left"
          },
          "hovermode": "closest",
          "mapbox": {
           "style": "light"
          },
          "paper_bgcolor": "white",
          "plot_bgcolor": "#E5ECF6",
          "polar": {
           "angularaxis": {
            "gridcolor": "white",
            "linecolor": "white",
            "ticks": ""
           },
           "bgcolor": "#E5ECF6",
           "radialaxis": {
            "gridcolor": "white",
            "linecolor": "white",
            "ticks": ""
           }
          },
          "scene": {
           "xaxis": {
            "backgroundcolor": "#E5ECF6",
            "gridcolor": "white",
            "gridwidth": 2,
            "linecolor": "white",
            "showbackground": true,
            "ticks": "",
            "zerolinecolor": "white"
           },
           "yaxis": {
            "backgroundcolor": "#E5ECF6",
            "gridcolor": "white",
            "gridwidth": 2,
            "linecolor": "white",
            "showbackground": true,
            "ticks": "",
            "zerolinecolor": "white"
           },
           "zaxis": {
            "backgroundcolor": "#E5ECF6",
            "gridcolor": "white",
            "gridwidth": 2,
            "linecolor": "white",
            "showbackground": true,
            "ticks": "",
            "zerolinecolor": "white"
           }
          },
          "shapedefaults": {
           "line": {
            "color": "#2a3f5f"
           }
          },
          "ternary": {
           "aaxis": {
            "gridcolor": "white",
            "linecolor": "white",
            "ticks": ""
           },
           "baxis": {
            "gridcolor": "white",
            "linecolor": "white",
            "ticks": ""
           },
           "bgcolor": "#E5ECF6",
           "caxis": {
            "gridcolor": "white",
            "linecolor": "white",
            "ticks": ""
           }
          },
          "title": {
           "x": 0.05
          },
          "xaxis": {
           "automargin": true,
           "gridcolor": "white",
           "linecolor": "white",
           "ticks": "",
           "title": {
            "standoff": 15
           },
           "zerolinecolor": "white",
           "zerolinewidth": 2
          },
          "yaxis": {
           "automargin": true,
           "gridcolor": "white",
           "linecolor": "white",
           "ticks": "",
           "title": {
            "standoff": 15
           },
           "zerolinecolor": "white",
           "zerolinewidth": 2
          }
         }
        },
        "width": 800
       }
      }
     },
     "metadata": {},
     "output_type": "display_data"
    }
   ],
   "source": [
    "# Plot to see common points between unmatched features\n",
    "unmatched = joined_within[joined_within['Province'].isna()]\n",
    "\n",
    "fig = px.scatter_map(\n",
    "    unmatched,\n",
    "    lat=\"lat_centr\",\n",
    "    lon=\"lon_centr\",\n",
    "    hover_data={\"lat_centr\": True, \"lon_centr\": True},\n",
    "    color_discrete_sequence=[\"red\"],  \n",
    "    zoom=4,\n",
    "    height=600,\n",
    "    width=800,\n",
    ")\n",
    "\n",
    "fig.update_layout(\n",
    "    mapbox_style=\"open-street-map\", \n",
    "    margin={\"r\":0,\"t\":30,\"l\":0,\"b\":0},\n",
    "    showlegend=False,\n",
    ")\n",
    "\n",
    "fig.show()"
   ]
  },
  {
   "cell_type": "markdown",
   "id": "20b55ccf",
   "metadata": {},
   "source": [
    "Some provinces have `null` values after the spatial join because their geometries do not fully contain the points or polygons from the original dataset. This can happen if the features lie exactly on the boundary between provinces (see the map) because `within` excludes points that are only touching but not fully inside a province polygon..\n",
    "\n",
    "Thus for unmatched fatures, we can do an `intersect` join to faind all provinces that touch them and then choose the province with the largest overlapping area proportion as the \"main province\". For any features still unmatched, assign the nearest province."
   ]
  },
  {
   "cell_type": "code",
   "execution_count": 14,
   "id": "820c71a8",
   "metadata": {},
   "outputs": [
    {
     "data": {
      "text/html": [
       "<div>\n",
       "<style scoped>\n",
       "    .dataframe tbody tr th:only-of-type {\n",
       "        vertical-align: middle;\n",
       "    }\n",
       "\n",
       "    .dataframe tbody tr th {\n",
       "        vertical-align: top;\n",
       "    }\n",
       "\n",
       "    .dataframe thead th {\n",
       "        text-align: right;\n",
       "    }\n",
       "</style>\n",
       "<table border=\"1\" class=\"dataframe\">\n",
       "  <thead>\n",
       "    <tr style=\"text-align: right;\">\n",
       "      <th></th>\n",
       "      <th>OBJECTID</th>\n",
       "      <th>landcover</th>\n",
       "      <th>area</th>\n",
       "      <th>temp</th>\n",
       "      <th>precip</th>\n",
       "      <th>elev</th>\n",
       "      <th>popu</th>\n",
       "      <th>EVI_2013</th>\n",
       "      <th>EVI_2020</th>\n",
       "      <th>lat_centr</th>\n",
       "      <th>lon_centr</th>\n",
       "      <th>geometry</th>\n",
       "      <th>index_right</th>\n",
       "      <th>Province</th>\n",
       "      <th>Prefecture</th>\n",
       "      <th>County</th>\n",
       "    </tr>\n",
       "  </thead>\n",
       "  <tbody>\n",
       "    <tr>\n",
       "      <th>4</th>\n",
       "      <td>634</td>\n",
       "      <td>40</td>\n",
       "      <td>1.10933</td>\n",
       "      <td>6.6</td>\n",
       "      <td>425.5</td>\n",
       "      <td>181.3</td>\n",
       "      <td>42</td>\n",
       "      <td>0.244</td>\n",
       "      <td>0.183</td>\n",
       "      <td>45.226290</td>\n",
       "      <td>121.945304</td>\n",
       "      <td>POLYGON ((121.94 45.22, 121.94 45.22, 121.94 4...</td>\n",
       "      <td>1481.0</td>\n",
       "      <td>Inner Mongolia</td>\n",
       "      <td>Xing'an</td>\n",
       "      <td>HorqinRightMiddle</td>\n",
       "    </tr>\n",
       "    <tr>\n",
       "      <th>4</th>\n",
       "      <td>634</td>\n",
       "      <td>40</td>\n",
       "      <td>1.10933</td>\n",
       "      <td>6.6</td>\n",
       "      <td>425.5</td>\n",
       "      <td>181.3</td>\n",
       "      <td>42</td>\n",
       "      <td>0.244</td>\n",
       "      <td>0.183</td>\n",
       "      <td>45.226290</td>\n",
       "      <td>121.945304</td>\n",
       "      <td>POLYGON ((121.94 45.22, 121.94 45.22, 121.94 4...</td>\n",
       "      <td>1483.0</td>\n",
       "      <td>Inner Mongolia</td>\n",
       "      <td>Xing'an</td>\n",
       "      <td>Tuquan</td>\n",
       "    </tr>\n",
       "    <tr>\n",
       "      <th>11</th>\n",
       "      <td>1457</td>\n",
       "      <td>40</td>\n",
       "      <td>1.01549</td>\n",
       "      <td>8.5</td>\n",
       "      <td>548.4</td>\n",
       "      <td>765.5</td>\n",
       "      <td>203</td>\n",
       "      <td>0.347</td>\n",
       "      <td>0.230</td>\n",
       "      <td>38.560265</td>\n",
       "      <td>112.838878</td>\n",
       "      <td>POLYGON ((112.83 38.562, 112.83 38.563, 112.83...</td>\n",
       "      <td>1861.0</td>\n",
       "      <td>Shanxi</td>\n",
       "      <td>Xinzhou</td>\n",
       "      <td>Xinfu</td>\n",
       "    </tr>\n",
       "    <tr>\n",
       "      <th>11</th>\n",
       "      <td>1457</td>\n",
       "      <td>40</td>\n",
       "      <td>1.01549</td>\n",
       "      <td>8.5</td>\n",
       "      <td>548.4</td>\n",
       "      <td>765.5</td>\n",
       "      <td>203</td>\n",
       "      <td>0.347</td>\n",
       "      <td>0.230</td>\n",
       "      <td>38.560265</td>\n",
       "      <td>112.838878</td>\n",
       "      <td>POLYGON ((112.83 38.562, 112.83 38.563, 112.83...</td>\n",
       "      <td>1851.0</td>\n",
       "      <td>Shanxi</td>\n",
       "      <td>Xinzhou</td>\n",
       "      <td>Dingxiang</td>\n",
       "    </tr>\n",
       "    <tr>\n",
       "      <th>15</th>\n",
       "      <td>2014</td>\n",
       "      <td>40</td>\n",
       "      <td>2.51504</td>\n",
       "      <td>17.4</td>\n",
       "      <td>1617.2</td>\n",
       "      <td>0.0</td>\n",
       "      <td>1097</td>\n",
       "      <td>0.236</td>\n",
       "      <td>0.141</td>\n",
       "      <td>30.327253</td>\n",
       "      <td>120.816199</td>\n",
       "      <td>MULTIPOLYGON (((120.78 30.317, 120.78 30.318, ...</td>\n",
       "      <td>NaN</td>\n",
       "      <td>NaN</td>\n",
       "      <td>NaN</td>\n",
       "      <td>NaN</td>\n",
       "    </tr>\n",
       "  </tbody>\n",
       "</table>\n",
       "</div>"
      ],
      "text/plain": [
       "    OBJECTID  landcover     area  temp  precip   elev  popu  EVI_2013  \\\n",
       "4        634         40  1.10933   6.6   425.5  181.3    42     0.244   \n",
       "4        634         40  1.10933   6.6   425.5  181.3    42     0.244   \n",
       "11      1457         40  1.01549   8.5   548.4  765.5   203     0.347   \n",
       "11      1457         40  1.01549   8.5   548.4  765.5   203     0.347   \n",
       "15      2014         40  2.51504  17.4  1617.2    0.0  1097     0.236   \n",
       "\n",
       "    EVI_2020  lat_centr   lon_centr  \\\n",
       "4      0.183  45.226290  121.945304   \n",
       "4      0.183  45.226290  121.945304   \n",
       "11     0.230  38.560265  112.838878   \n",
       "11     0.230  38.560265  112.838878   \n",
       "15     0.141  30.327253  120.816199   \n",
       "\n",
       "                                             geometry  index_right  \\\n",
       "4   POLYGON ((121.94 45.22, 121.94 45.22, 121.94 4...       1481.0   \n",
       "4   POLYGON ((121.94 45.22, 121.94 45.22, 121.94 4...       1483.0   \n",
       "11  POLYGON ((112.83 38.562, 112.83 38.563, 112.83...       1861.0   \n",
       "11  POLYGON ((112.83 38.562, 112.83 38.563, 112.83...       1851.0   \n",
       "15  MULTIPOLYGON (((120.78 30.317, 120.78 30.318, ...          NaN   \n",
       "\n",
       "          Province Prefecture             County  \n",
       "4   Inner Mongolia    Xing'an  HorqinRightMiddle  \n",
       "4   Inner Mongolia    Xing'an             Tuquan  \n",
       "11          Shanxi    Xinzhou              Xinfu  \n",
       "11          Shanxi    Xinzhou          Dingxiang  \n",
       "15             NaN        NaN                NaN  "
      ]
     },
     "execution_count": 14,
     "metadata": {},
     "output_type": "execute_result"
    }
   ],
   "source": [
    "intersects = gpd.sjoin(null_features, gadm[['Province', 'Prefecture','County', 'geometry']], how='left', predicate='intersects')\n",
    "intersects.head()"
   ]
  },
  {
   "cell_type": "markdown",
   "id": "fba767fc",
   "metadata": {},
   "source": [
    "Geographic coordinates (like latitude and longitude in EPSG:4326) represent locations on a curved surface (the Earth), which means calculations of area or distance directly on these coordinates are often inaccurate. To perform precise spatial operations such as measuring areas or calculating overlaps, geometries need to be transformed into a projected coordinate reference system (CRS). A projected CRS translates the curved Earth surface onto a flat plane, using units like meters, allowing for accurate measurement and spatial analysis. In this case, reprojecting to EPSG:32650 (a UTM zone) ensures that area calculations reflect real-world sizes, making the overlap proportion meaningful and reliable."
   ]
  },
  {
   "cell_type": "code",
   "execution_count": 15,
   "id": "99e9fe5f",
   "metadata": {},
   "outputs": [
    {
     "name": "stdout",
     "output_type": "stream",
     "text": [
      "                  Province   Prefecture             County\n",
      "orig_index                                                \n",
      "4           Inner Mongolia      Xing'an  HorqinRightMiddle\n",
      "11                  Shanxi      Xinzhou              Xinfu\n",
      "20                 Jiangsu         Wuxi             Yixing\n",
      "33                   Hebei  Zhangjiakou           Yangyuan\n",
      "35                 Jiangxi     Nanchang             Xingan\n"
     ]
    }
   ],
   "source": [
    "# Reproject both datasets to a projected CRS (e.g. UTM zone 50N for SE Asia)\n",
    "projected_crs = \"EPSG:32650\"  \n",
    "\n",
    "# Make sure both datasets are using the same projected CRS\n",
    "intersects_proj = intersects.to_crs(projected_crs)\n",
    "gadm_proj = gadm.to_crs(projected_crs)\n",
    "\n",
    "# Reset index and rename for clarity\n",
    "intersects_proj = intersects_proj.rename_axis('orig_index').reset_index()\n",
    "\n",
    "# Merge with GADM to get province/prefecture/county geometry (already projected)\n",
    "intersects_proj = intersects_proj.merge(\n",
    "    gadm_proj[['Province', 'Prefecture', 'County', 'geometry']],\n",
    "    left_on='index_right',\n",
    "    right_index=True,\n",
    "    suffixes=('', '_prov')\n",
    ")\n",
    "\n",
    "# Calculate the intersection area between feature and administrative unit\n",
    "intersects_proj['intersection_area'] = intersects_proj.geometry.intersection(intersects_proj.geometry_prov).area\n",
    "\n",
    "# Calculate the total area of the original feature\n",
    "intersects_proj['feature_area'] = intersects_proj.geometry.area\n",
    "\n",
    "# Compute the proportion of overlap\n",
    "intersects_proj['overlap_ratio'] = intersects_proj['intersection_area'] / intersects_proj['feature_area']\n",
    "\n",
    "# For each original feature, keep the province/prefecture/county with the highest overlap\n",
    "idx_max = intersects_proj.groupby('orig_index')['overlap_ratio'].idxmax()\n",
    "best_matches = intersects_proj.loc[idx_max, ['orig_index', 'Province', 'Prefecture', 'County']].set_index('orig_index')\n",
    "\n",
    "# (Optional) Preview result\n",
    "print(best_matches.head())\n"
   ]
  },
  {
   "cell_type": "code",
   "execution_count": 16,
   "id": "97495b4a",
   "metadata": {},
   "outputs": [
    {
     "data": {
      "text/html": [
       "<div>\n",
       "<style scoped>\n",
       "    .dataframe tbody tr th:only-of-type {\n",
       "        vertical-align: middle;\n",
       "    }\n",
       "\n",
       "    .dataframe tbody tr th {\n",
       "        vertical-align: top;\n",
       "    }\n",
       "\n",
       "    .dataframe thead th {\n",
       "        text-align: right;\n",
       "    }\n",
       "</style>\n",
       "<table border=\"1\" class=\"dataframe\">\n",
       "  <thead>\n",
       "    <tr style=\"text-align: right;\">\n",
       "      <th></th>\n",
       "      <th>OBJECTID</th>\n",
       "      <th>landcover</th>\n",
       "      <th>area</th>\n",
       "      <th>temp</th>\n",
       "      <th>precip</th>\n",
       "      <th>elev</th>\n",
       "      <th>popu</th>\n",
       "      <th>EVI_2013</th>\n",
       "      <th>EVI_2020</th>\n",
       "      <th>lat_centr</th>\n",
       "      <th>lon_centr</th>\n",
       "      <th>geometry</th>\n",
       "      <th>Province</th>\n",
       "      <th>Prefecture</th>\n",
       "      <th>County</th>\n",
       "    </tr>\n",
       "  </thead>\n",
       "  <tbody>\n",
       "    <tr>\n",
       "      <th>0</th>\n",
       "      <td>1050</td>\n",
       "      <td>40</td>\n",
       "      <td>0.63673</td>\n",
       "      <td>15.8</td>\n",
       "      <td>1160.2</td>\n",
       "      <td>87.8</td>\n",
       "      <td>240</td>\n",
       "      <td>0.426</td>\n",
       "      <td>0.326</td>\n",
       "      <td>31.539895</td>\n",
       "      <td>113.987199</td>\n",
       "      <td>MULTIPOLYGON (((113.98 31.54, 113.98 31.541, 1...</td>\n",
       "      <td>Hubei</td>\n",
       "      <td>SuizhouShi</td>\n",
       "      <td>Yingshan</td>\n",
       "    </tr>\n",
       "    <tr>\n",
       "      <th>1</th>\n",
       "      <td>547</td>\n",
       "      <td>60</td>\n",
       "      <td>1.52337</td>\n",
       "      <td>9.6</td>\n",
       "      <td>170.1</td>\n",
       "      <td>256.5</td>\n",
       "      <td>9</td>\n",
       "      <td>0.096</td>\n",
       "      <td>0.095</td>\n",
       "      <td>44.929143</td>\n",
       "      <td>82.596528</td>\n",
       "      <td>POLYGON ((82.585 44.924, 82.585 44.926, 82.586...</td>\n",
       "      <td>Xinjiang</td>\n",
       "      <td>BörtalaMongol</td>\n",
       "      <td>Bole</td>\n",
       "    </tr>\n",
       "    <tr>\n",
       "      <th>2</th>\n",
       "      <td>966</td>\n",
       "      <td>80</td>\n",
       "      <td>0.49803</td>\n",
       "      <td>17.5</td>\n",
       "      <td>1665.0</td>\n",
       "      <td>4.4</td>\n",
       "      <td>640</td>\n",
       "      <td>0.155</td>\n",
       "      <td>0.232</td>\n",
       "      <td>29.505017</td>\n",
       "      <td>121.665288</td>\n",
       "      <td>MULTIPOLYGON (((121.65 29.502, 121.65 29.503, ...</td>\n",
       "      <td>Zhejiang</td>\n",
       "      <td>Ningbo</td>\n",
       "      <td>Xiangshan</td>\n",
       "    </tr>\n",
       "    <tr>\n",
       "      <th>3</th>\n",
       "      <td>1078</td>\n",
       "      <td>40</td>\n",
       "      <td>1.07808</td>\n",
       "      <td>17.0</td>\n",
       "      <td>1226.4</td>\n",
       "      <td>82.5</td>\n",
       "      <td>281</td>\n",
       "      <td>0.399</td>\n",
       "      <td>0.293</td>\n",
       "      <td>30.819104</td>\n",
       "      <td>112.938832</td>\n",
       "      <td>MULTIPOLYGON (((112.92 30.822, 112.92 30.823, ...</td>\n",
       "      <td>Hubei</td>\n",
       "      <td>Jingmen</td>\n",
       "      <td>Jingshan</td>\n",
       "    </tr>\n",
       "    <tr>\n",
       "      <th>4</th>\n",
       "      <td>634</td>\n",
       "      <td>40</td>\n",
       "      <td>1.10933</td>\n",
       "      <td>6.6</td>\n",
       "      <td>425.5</td>\n",
       "      <td>181.3</td>\n",
       "      <td>42</td>\n",
       "      <td>0.244</td>\n",
       "      <td>0.183</td>\n",
       "      <td>45.226290</td>\n",
       "      <td>121.945304</td>\n",
       "      <td>POLYGON ((121.94 45.22, 121.94 45.22, 121.94 4...</td>\n",
       "      <td>Inner Mongolia</td>\n",
       "      <td>Xing'an</td>\n",
       "      <td>HorqinRightMiddle</td>\n",
       "    </tr>\n",
       "  </tbody>\n",
       "</table>\n",
       "</div>"
      ],
      "text/plain": [
       "   OBJECTID  landcover     area  temp  precip   elev  popu  EVI_2013  \\\n",
       "0      1050         40  0.63673  15.8  1160.2   87.8   240     0.426   \n",
       "1       547         60  1.52337   9.6   170.1  256.5     9     0.096   \n",
       "2       966         80  0.49803  17.5  1665.0    4.4   640     0.155   \n",
       "3      1078         40  1.07808  17.0  1226.4   82.5   281     0.399   \n",
       "4       634         40  1.10933   6.6   425.5  181.3    42     0.244   \n",
       "\n",
       "   EVI_2020  lat_centr   lon_centr  \\\n",
       "0     0.326  31.539895  113.987199   \n",
       "1     0.095  44.929143   82.596528   \n",
       "2     0.232  29.505017  121.665288   \n",
       "3     0.293  30.819104  112.938832   \n",
       "4     0.183  45.226290  121.945304   \n",
       "\n",
       "                                            geometry        Province  \\\n",
       "0  MULTIPOLYGON (((113.98 31.54, 113.98 31.541, 1...           Hubei   \n",
       "1  POLYGON ((82.585 44.924, 82.585 44.926, 82.586...        Xinjiang   \n",
       "2  MULTIPOLYGON (((121.65 29.502, 121.65 29.503, ...        Zhejiang   \n",
       "3  MULTIPOLYGON (((112.92 30.822, 112.92 30.823, ...           Hubei   \n",
       "4  POLYGON ((121.94 45.22, 121.94 45.22, 121.94 4...  Inner Mongolia   \n",
       "\n",
       "      Prefecture             County  \n",
       "0     SuizhouShi           Yingshan  \n",
       "1  BörtalaMongol               Bole  \n",
       "2         Ningbo          Xiangshan  \n",
       "3        Jingmen           Jingshan  \n",
       "4        Xing'an  HorqinRightMiddle  "
      ]
     },
     "execution_count": 16,
     "metadata": {},
     "output_type": "execute_result"
    }
   ],
   "source": [
    "# Update province in joined_within\n",
    "joined_within.loc[best_matches.index, ['Province', 'Prefecture', 'County']] = best_matches[['Province', 'Prefecture', 'County']]\n",
    "joined_within.head()"
   ]
  },
  {
   "cell_type": "code",
   "execution_count": 17,
   "id": "c4638088",
   "metadata": {},
   "outputs": [
    {
     "data": {
      "text/plain": [
       "OBJECTID       0\n",
       "landcover      0\n",
       "area           0\n",
       "temp           0\n",
       "precip         0\n",
       "elev           0\n",
       "popu           0\n",
       "EVI_2013       0\n",
       "EVI_2020       0\n",
       "lat_centr      0\n",
       "lon_centr      0\n",
       "geometry       0\n",
       "Province      11\n",
       "Prefecture    11\n",
       "County        11\n",
       "dtype: int64"
      ]
     },
     "execution_count": 17,
     "metadata": {},
     "output_type": "execute_result"
    }
   ],
   "source": [
    "joined_within.isna().sum()"
   ]
  },
  {
   "cell_type": "code",
   "execution_count": 18,
   "id": "034fecf4",
   "metadata": {},
   "outputs": [
    {
     "data": {
      "application/vnd.plotly.v1+json": {
       "config": {
        "plotlyServerURL": "https://plot.ly"
       },
       "data": [
        {
         "customdata": [
          [
           30.327253,
           120.816199
          ],
          [
           29.753262,
           121.869745
          ],
          [
           27.927275,
           120.945621
          ],
          [
           27.596201,
           120.612539
          ],
          [
           28.125855,
           121.029567
          ],
          [
           27.900345,
           120.886343
          ],
          [
           32.65245,
           120.947973
          ],
          [
           28.165043,
           121.089727
          ],
          [
           28.387346,
           121.612518
          ],
          [
           32.048355,
           121.719952
          ],
          [
           32.779323,
           120.922749
          ]
         ],
         "hovertemplate": "lat_centr=%{customdata[0]}<br>lon_centr=%{customdata[1]}<extra></extra>",
         "lat": [
          30.327253,
          29.753262,
          27.927275,
          27.596201,
          28.125855,
          27.900345,
          32.65245,
          28.165043,
          28.387346,
          32.048355,
          32.779323
         ],
         "legendgroup": "",
         "lon": [
          120.816199,
          121.869745,
          120.945621,
          120.612539,
          121.029567,
          120.886343,
          120.947973,
          121.089727,
          121.612518,
          121.719952,
          120.922749
         ],
         "marker": {
          "color": "red"
         },
         "mode": "markers",
         "name": "",
         "showlegend": false,
         "subplot": "map",
         "type": "scattermap"
        }
       ],
       "layout": {
        "height": 600,
        "legend": {
         "tracegroupgap": 0
        },
        "map": {
         "center": {
          "lat": 29.60570072727273,
          "lon": 121.13208481818182
         },
         "domain": {
          "x": [
           0,
           1
          ],
          "y": [
           0,
           1
          ]
         },
         "zoom": 4
        },
        "mapbox": {
         "center": {
          "lat": 29.60570072727273,
          "lon": 121.13208481818182
         },
         "style": "open-street-map",
         "zoom": 4
        },
        "margin": {
         "b": 0,
         "l": 0,
         "r": 0,
         "t": 30
        },
        "showlegend": false,
        "template": {
         "data": {
          "bar": [
           {
            "error_x": {
             "color": "#2a3f5f"
            },
            "error_y": {
             "color": "#2a3f5f"
            },
            "marker": {
             "line": {
              "color": "#E5ECF6",
              "width": 0.5
             },
             "pattern": {
              "fillmode": "overlay",
              "size": 10,
              "solidity": 0.2
             }
            },
            "type": "bar"
           }
          ],
          "barpolar": [
           {
            "marker": {
             "line": {
              "color": "#E5ECF6",
              "width": 0.5
             },
             "pattern": {
              "fillmode": "overlay",
              "size": 10,
              "solidity": 0.2
             }
            },
            "type": "barpolar"
           }
          ],
          "carpet": [
           {
            "aaxis": {
             "endlinecolor": "#2a3f5f",
             "gridcolor": "white",
             "linecolor": "white",
             "minorgridcolor": "white",
             "startlinecolor": "#2a3f5f"
            },
            "baxis": {
             "endlinecolor": "#2a3f5f",
             "gridcolor": "white",
             "linecolor": "white",
             "minorgridcolor": "white",
             "startlinecolor": "#2a3f5f"
            },
            "type": "carpet"
           }
          ],
          "choropleth": [
           {
            "colorbar": {
             "outlinewidth": 0,
             "ticks": ""
            },
            "type": "choropleth"
           }
          ],
          "contour": [
           {
            "colorbar": {
             "outlinewidth": 0,
             "ticks": ""
            },
            "colorscale": [
             [
              0,
              "#0d0887"
             ],
             [
              0.1111111111111111,
              "#46039f"
             ],
             [
              0.2222222222222222,
              "#7201a8"
             ],
             [
              0.3333333333333333,
              "#9c179e"
             ],
             [
              0.4444444444444444,
              "#bd3786"
             ],
             [
              0.5555555555555556,
              "#d8576b"
             ],
             [
              0.6666666666666666,
              "#ed7953"
             ],
             [
              0.7777777777777778,
              "#fb9f3a"
             ],
             [
              0.8888888888888888,
              "#fdca26"
             ],
             [
              1,
              "#f0f921"
             ]
            ],
            "type": "contour"
           }
          ],
          "contourcarpet": [
           {
            "colorbar": {
             "outlinewidth": 0,
             "ticks": ""
            },
            "type": "contourcarpet"
           }
          ],
          "heatmap": [
           {
            "colorbar": {
             "outlinewidth": 0,
             "ticks": ""
            },
            "colorscale": [
             [
              0,
              "#0d0887"
             ],
             [
              0.1111111111111111,
              "#46039f"
             ],
             [
              0.2222222222222222,
              "#7201a8"
             ],
             [
              0.3333333333333333,
              "#9c179e"
             ],
             [
              0.4444444444444444,
              "#bd3786"
             ],
             [
              0.5555555555555556,
              "#d8576b"
             ],
             [
              0.6666666666666666,
              "#ed7953"
             ],
             [
              0.7777777777777778,
              "#fb9f3a"
             ],
             [
              0.8888888888888888,
              "#fdca26"
             ],
             [
              1,
              "#f0f921"
             ]
            ],
            "type": "heatmap"
           }
          ],
          "heatmapgl": [
           {
            "colorbar": {
             "outlinewidth": 0,
             "ticks": ""
            },
            "colorscale": [
             [
              0,
              "#0d0887"
             ],
             [
              0.1111111111111111,
              "#46039f"
             ],
             [
              0.2222222222222222,
              "#7201a8"
             ],
             [
              0.3333333333333333,
              "#9c179e"
             ],
             [
              0.4444444444444444,
              "#bd3786"
             ],
             [
              0.5555555555555556,
              "#d8576b"
             ],
             [
              0.6666666666666666,
              "#ed7953"
             ],
             [
              0.7777777777777778,
              "#fb9f3a"
             ],
             [
              0.8888888888888888,
              "#fdca26"
             ],
             [
              1,
              "#f0f921"
             ]
            ],
            "type": "heatmapgl"
           }
          ],
          "histogram": [
           {
            "marker": {
             "pattern": {
              "fillmode": "overlay",
              "size": 10,
              "solidity": 0.2
             }
            },
            "type": "histogram"
           }
          ],
          "histogram2d": [
           {
            "colorbar": {
             "outlinewidth": 0,
             "ticks": ""
            },
            "colorscale": [
             [
              0,
              "#0d0887"
             ],
             [
              0.1111111111111111,
              "#46039f"
             ],
             [
              0.2222222222222222,
              "#7201a8"
             ],
             [
              0.3333333333333333,
              "#9c179e"
             ],
             [
              0.4444444444444444,
              "#bd3786"
             ],
             [
              0.5555555555555556,
              "#d8576b"
             ],
             [
              0.6666666666666666,
              "#ed7953"
             ],
             [
              0.7777777777777778,
              "#fb9f3a"
             ],
             [
              0.8888888888888888,
              "#fdca26"
             ],
             [
              1,
              "#f0f921"
             ]
            ],
            "type": "histogram2d"
           }
          ],
          "histogram2dcontour": [
           {
            "colorbar": {
             "outlinewidth": 0,
             "ticks": ""
            },
            "colorscale": [
             [
              0,
              "#0d0887"
             ],
             [
              0.1111111111111111,
              "#46039f"
             ],
             [
              0.2222222222222222,
              "#7201a8"
             ],
             [
              0.3333333333333333,
              "#9c179e"
             ],
             [
              0.4444444444444444,
              "#bd3786"
             ],
             [
              0.5555555555555556,
              "#d8576b"
             ],
             [
              0.6666666666666666,
              "#ed7953"
             ],
             [
              0.7777777777777778,
              "#fb9f3a"
             ],
             [
              0.8888888888888888,
              "#fdca26"
             ],
             [
              1,
              "#f0f921"
             ]
            ],
            "type": "histogram2dcontour"
           }
          ],
          "mesh3d": [
           {
            "colorbar": {
             "outlinewidth": 0,
             "ticks": ""
            },
            "type": "mesh3d"
           }
          ],
          "parcoords": [
           {
            "line": {
             "colorbar": {
              "outlinewidth": 0,
              "ticks": ""
             }
            },
            "type": "parcoords"
           }
          ],
          "pie": [
           {
            "automargin": true,
            "type": "pie"
           }
          ],
          "scatter": [
           {
            "fillpattern": {
             "fillmode": "overlay",
             "size": 10,
             "solidity": 0.2
            },
            "type": "scatter"
           }
          ],
          "scatter3d": [
           {
            "line": {
             "colorbar": {
              "outlinewidth": 0,
              "ticks": ""
             }
            },
            "marker": {
             "colorbar": {
              "outlinewidth": 0,
              "ticks": ""
             }
            },
            "type": "scatter3d"
           }
          ],
          "scattercarpet": [
           {
            "marker": {
             "colorbar": {
              "outlinewidth": 0,
              "ticks": ""
             }
            },
            "type": "scattercarpet"
           }
          ],
          "scattergeo": [
           {
            "marker": {
             "colorbar": {
              "outlinewidth": 0,
              "ticks": ""
             }
            },
            "type": "scattergeo"
           }
          ],
          "scattergl": [
           {
            "marker": {
             "colorbar": {
              "outlinewidth": 0,
              "ticks": ""
             }
            },
            "type": "scattergl"
           }
          ],
          "scattermapbox": [
           {
            "marker": {
             "colorbar": {
              "outlinewidth": 0,
              "ticks": ""
             }
            },
            "type": "scattermapbox"
           }
          ],
          "scatterpolar": [
           {
            "marker": {
             "colorbar": {
              "outlinewidth": 0,
              "ticks": ""
             }
            },
            "type": "scatterpolar"
           }
          ],
          "scatterpolargl": [
           {
            "marker": {
             "colorbar": {
              "outlinewidth": 0,
              "ticks": ""
             }
            },
            "type": "scatterpolargl"
           }
          ],
          "scatterternary": [
           {
            "marker": {
             "colorbar": {
              "outlinewidth": 0,
              "ticks": ""
             }
            },
            "type": "scatterternary"
           }
          ],
          "surface": [
           {
            "colorbar": {
             "outlinewidth": 0,
             "ticks": ""
            },
            "colorscale": [
             [
              0,
              "#0d0887"
             ],
             [
              0.1111111111111111,
              "#46039f"
             ],
             [
              0.2222222222222222,
              "#7201a8"
             ],
             [
              0.3333333333333333,
              "#9c179e"
             ],
             [
              0.4444444444444444,
              "#bd3786"
             ],
             [
              0.5555555555555556,
              "#d8576b"
             ],
             [
              0.6666666666666666,
              "#ed7953"
             ],
             [
              0.7777777777777778,
              "#fb9f3a"
             ],
             [
              0.8888888888888888,
              "#fdca26"
             ],
             [
              1,
              "#f0f921"
             ]
            ],
            "type": "surface"
           }
          ],
          "table": [
           {
            "cells": {
             "fill": {
              "color": "#EBF0F8"
             },
             "line": {
              "color": "white"
             }
            },
            "header": {
             "fill": {
              "color": "#C8D4E3"
             },
             "line": {
              "color": "white"
             }
            },
            "type": "table"
           }
          ]
         },
         "layout": {
          "annotationdefaults": {
           "arrowcolor": "#2a3f5f",
           "arrowhead": 0,
           "arrowwidth": 1
          },
          "autotypenumbers": "strict",
          "coloraxis": {
           "colorbar": {
            "outlinewidth": 0,
            "ticks": ""
           }
          },
          "colorscale": {
           "diverging": [
            [
             0,
             "#8e0152"
            ],
            [
             0.1,
             "#c51b7d"
            ],
            [
             0.2,
             "#de77ae"
            ],
            [
             0.3,
             "#f1b6da"
            ],
            [
             0.4,
             "#fde0ef"
            ],
            [
             0.5,
             "#f7f7f7"
            ],
            [
             0.6,
             "#e6f5d0"
            ],
            [
             0.7,
             "#b8e186"
            ],
            [
             0.8,
             "#7fbc41"
            ],
            [
             0.9,
             "#4d9221"
            ],
            [
             1,
             "#276419"
            ]
           ],
           "sequential": [
            [
             0,
             "#0d0887"
            ],
            [
             0.1111111111111111,
             "#46039f"
            ],
            [
             0.2222222222222222,
             "#7201a8"
            ],
            [
             0.3333333333333333,
             "#9c179e"
            ],
            [
             0.4444444444444444,
             "#bd3786"
            ],
            [
             0.5555555555555556,
             "#d8576b"
            ],
            [
             0.6666666666666666,
             "#ed7953"
            ],
            [
             0.7777777777777778,
             "#fb9f3a"
            ],
            [
             0.8888888888888888,
             "#fdca26"
            ],
            [
             1,
             "#f0f921"
            ]
           ],
           "sequentialminus": [
            [
             0,
             "#0d0887"
            ],
            [
             0.1111111111111111,
             "#46039f"
            ],
            [
             0.2222222222222222,
             "#7201a8"
            ],
            [
             0.3333333333333333,
             "#9c179e"
            ],
            [
             0.4444444444444444,
             "#bd3786"
            ],
            [
             0.5555555555555556,
             "#d8576b"
            ],
            [
             0.6666666666666666,
             "#ed7953"
            ],
            [
             0.7777777777777778,
             "#fb9f3a"
            ],
            [
             0.8888888888888888,
             "#fdca26"
            ],
            [
             1,
             "#f0f921"
            ]
           ]
          },
          "colorway": [
           "#636efa",
           "#EF553B",
           "#00cc96",
           "#ab63fa",
           "#FFA15A",
           "#19d3f3",
           "#FF6692",
           "#B6E880",
           "#FF97FF",
           "#FECB52"
          ],
          "font": {
           "color": "#2a3f5f"
          },
          "geo": {
           "bgcolor": "white",
           "lakecolor": "white",
           "landcolor": "#E5ECF6",
           "showlakes": true,
           "showland": true,
           "subunitcolor": "white"
          },
          "hoverlabel": {
           "align": "left"
          },
          "hovermode": "closest",
          "mapbox": {
           "style": "light"
          },
          "paper_bgcolor": "white",
          "plot_bgcolor": "#E5ECF6",
          "polar": {
           "angularaxis": {
            "gridcolor": "white",
            "linecolor": "white",
            "ticks": ""
           },
           "bgcolor": "#E5ECF6",
           "radialaxis": {
            "gridcolor": "white",
            "linecolor": "white",
            "ticks": ""
           }
          },
          "scene": {
           "xaxis": {
            "backgroundcolor": "#E5ECF6",
            "gridcolor": "white",
            "gridwidth": 2,
            "linecolor": "white",
            "showbackground": true,
            "ticks": "",
            "zerolinecolor": "white"
           },
           "yaxis": {
            "backgroundcolor": "#E5ECF6",
            "gridcolor": "white",
            "gridwidth": 2,
            "linecolor": "white",
            "showbackground": true,
            "ticks": "",
            "zerolinecolor": "white"
           },
           "zaxis": {
            "backgroundcolor": "#E5ECF6",
            "gridcolor": "white",
            "gridwidth": 2,
            "linecolor": "white",
            "showbackground": true,
            "ticks": "",
            "zerolinecolor": "white"
           }
          },
          "shapedefaults": {
           "line": {
            "color": "#2a3f5f"
           }
          },
          "ternary": {
           "aaxis": {
            "gridcolor": "white",
            "linecolor": "white",
            "ticks": ""
           },
           "baxis": {
            "gridcolor": "white",
            "linecolor": "white",
            "ticks": ""
           },
           "bgcolor": "#E5ECF6",
           "caxis": {
            "gridcolor": "white",
            "linecolor": "white",
            "ticks": ""
           }
          },
          "title": {
           "x": 0.05
          },
          "xaxis": {
           "automargin": true,
           "gridcolor": "white",
           "linecolor": "white",
           "ticks": "",
           "title": {
            "standoff": 15
           },
           "zerolinecolor": "white",
           "zerolinewidth": 2
          },
          "yaxis": {
           "automargin": true,
           "gridcolor": "white",
           "linecolor": "white",
           "ticks": "",
           "title": {
            "standoff": 15
           },
           "zerolinecolor": "white",
           "zerolinewidth": 2
          }
         }
        },
        "width": 800
       }
      }
     },
     "metadata": {},
     "output_type": "display_data"
    }
   ],
   "source": [
    "# Plot to see common points between unmatched features\n",
    "unmatched = joined_within[joined_within['Province'].isna()]\n",
    "\n",
    "fig = px.scatter_map(\n",
    "    unmatched,\n",
    "    lat=\"lat_centr\",\n",
    "    lon=\"lon_centr\",\n",
    "    hover_data={\"lat_centr\": True, \"lon_centr\": True},\n",
    "    color_discrete_sequence=[\"red\"],  \n",
    "    zoom=4,\n",
    "    height=600,\n",
    "    width=800,\n",
    ")\n",
    "\n",
    "fig.update_layout(\n",
    "    mapbox_style=\"open-street-map\", \n",
    "    margin={\"r\":0,\"t\":30,\"l\":0,\"b\":0},\n",
    "    showlegend=False,\n",
    ")\n",
    "\n",
    "fig.show()"
   ]
  },
  {
   "cell_type": "code",
   "execution_count": 19,
   "id": "8242e6c5",
   "metadata": {},
   "outputs": [],
   "source": [
    "# Step 3: For features still unmatched after spatial joins, perform nearest neighbor join\n",
    "# This will assign the nearest province geometry to points without a match.still_null_idx = joined_within[joined_within['Province'].isna()].index\n",
    "\n",
    "# Get points still missing 'Province' after previous joins\n",
    "still_null_idx = joined_within[joined_within['Province'].isna()].index\n",
    "still_null = gdf.loc[still_null_idx].copy()\n",
    "\n",
    "# Ensure both GeoDataFrames have the same CRS\n",
    "still_null = still_null.to_crs(gadm_proj.crs)\n",
    "\n",
    "# Create a GeoSeries of gadm geometries for fast nearest neighbor search\n",
    "gadm_geom = gadm_proj.geometry.reset_index(drop=True)\n",
    "\n",
    "# Function to find nearest geometry index from gadm for each point\n",
    "def find_nearest(point, candidates):\n",
    "    nearest_geom = candidates.distance(point).idxmin()\n",
    "    return nearest_geom\n",
    "\n",
    "# Find nearest province index for each unmatched point\n",
    "nearest_indices = still_null.geometry.apply(lambda x: find_nearest(x, gadm_geom))\n",
    "\n",
    "# Assign provinces/counties from nearest gadm geometries\n",
    "joined_within.loc[still_null_idx, ['Province', 'Prefecture', 'County']] = gadm_proj.loc[nearest_indices, ['Province', 'Prefecture', 'County']].values\n"
   ]
  },
  {
   "cell_type": "code",
   "execution_count": 20,
   "id": "d7b56a01",
   "metadata": {},
   "outputs": [
    {
     "name": "stdout",
     "output_type": "stream",
     "text": [
      "Provinces assigned to previously unmatched points by nearest neighbor:\n",
      "      lat_centr   lon_centr  Province Prefecture    County\n",
      "15    30.327253  120.816199  Zhejiang    Jiaxing   Haining\n",
      "296   29.753262  121.869745  Zhejiang     Ningbo   Zhenhai\n",
      "312   27.927275  120.945621  Zhejiang    Wenzhou   Yueqing\n",
      "461   27.596201  120.612539  Zhejiang    Wenzhou  Pingyang\n",
      "539   28.125855  121.029567  Zhejiang    Wenzhou   Yueqing\n",
      "583   27.900345  120.886343  Zhejiang    Wenzhou     Ouhai\n",
      "731   32.652450  120.947973   Jiangsu   Yancheng   Dongtai\n",
      "1528  28.165043  121.089727  Zhejiang    Wenzhou   Yueqing\n",
      "1567  28.387346  121.612518  Zhejiang    Taizhou   Wenling\n",
      "1980  32.048355  121.719952   Jiangsu    Nantong    Qidong\n",
      "2360  32.779323  120.922749   Jiangsu   Yancheng   Dongtai\n",
      "https://www.google.com/maps/search/?api=1&query=30.327253,120.816199\n"
     ]
    }
   ],
   "source": [
    "# Display which provinces were assigned for those previously unmatched points\n",
    "assigned_provinces = joined_within.loc[still_null_idx, ['lat_centr', 'lon_centr','Province', 'Prefecture', 'County']]\n",
    "print(\"Provinces assigned to previously unmatched points by nearest neighbor:\")\n",
    "print(assigned_provinces)\n",
    "\n",
    "lat = assigned_provinces.iloc[0]['lat_centr']\n",
    "lon = assigned_provinces.iloc[0]['lon_centr']\n",
    "print(f\"https://www.google.com/maps/search/?api=1&query={lat},{lon}\")"
   ]
  },
  {
   "cell_type": "markdown",
   "id": "b51df084",
   "metadata": {},
   "source": [
    "The nearest neighbor assignments match the actual locations on Google Maps perfectly."
   ]
  },
  {
   "cell_type": "code",
   "execution_count": 21,
   "id": "77bade91",
   "metadata": {},
   "outputs": [
    {
     "data": {
      "text/plain": [
       "OBJECTID      0\n",
       "landcover     0\n",
       "area          0\n",
       "temp          0\n",
       "precip        0\n",
       "elev          0\n",
       "popu          0\n",
       "EVI_2013      0\n",
       "EVI_2020      0\n",
       "lat_centr     0\n",
       "lon_centr     0\n",
       "geometry      0\n",
       "Province      0\n",
       "Prefecture    0\n",
       "County        0\n",
       "dtype: int64"
      ]
     },
     "execution_count": 21,
     "metadata": {},
     "output_type": "execute_result"
    }
   ],
   "source": [
    "joined_within.isna().sum()"
   ]
  },
  {
   "cell_type": "code",
   "execution_count": 22,
   "id": "3acbe966",
   "metadata": {},
   "outputs": [
    {
     "name": "stdout",
     "output_type": "stream",
     "text": [
      "Provinces in pv_china: ['Anhui' 'Beijing' 'Chongqing' 'Fujian' 'Gansu' 'Guangdong' 'Guangxi'\n",
      " 'Guizhou' 'Hainan' 'Hebei' 'Heilongjiang' 'Henan' 'Hubei' 'Hunan'\n",
      " 'Inner Mongolia' 'Jiangsu' 'Jiangxi' 'Jilin' 'Liaoning' 'Ningxia'\n",
      " 'Qinghai' 'Shaanxi' 'Shandong' 'Shanghai' 'Shanxi' 'Sichuan' 'Tianjin'\n",
      " 'Tibet' 'Xinjiang' 'Yunnan' 'Zhejiang']\n"
     ]
    }
   ],
   "source": [
    "print(\"Provinces in pv_china:\", joined_within['Province'].sort_values().unique())"
   ]
  },
  {
   "cell_type": "markdown",
   "id": "cfb24e43",
   "metadata": {},
   "source": [
    "### Rename de columns for consistency"
   ]
  },
  {
   "cell_type": "code",
   "execution_count": 23,
   "id": "40759035",
   "metadata": {},
   "outputs": [],
   "source": [
    "gdf = joined_within.rename(columns={\n",
    "    \"area\": \"Area\",\n",
    "    \"lat_centr\": \"Latitude\",\n",
    "    \"lon_centr\": \"Longitude\"\n",
    "})\n"
   ]
  },
  {
   "cell_type": "markdown",
   "id": "bc3db304",
   "metadata": {},
   "source": [
    "### Save"
   ]
  },
  {
   "cell_type": "code",
   "execution_count": 24,
   "id": "f4d11b34",
   "metadata": {},
   "outputs": [],
   "source": [
    "# Save as a new GeoJSON (easier to manipulate with python in the future)\n",
    "gdf.to_file(\"../../data/data_processed/pv_china_2020.geojson\", driver=\"GeoJSON\")"
   ]
  },
  {
   "cell_type": "markdown",
   "id": "01e3d112",
   "metadata": {},
   "source": [
    "## Exploratory analysis"
   ]
  },
  {
   "cell_type": "code",
   "execution_count": 25,
   "id": "97487d68",
   "metadata": {},
   "outputs": [
    {
     "data": {
      "text/plain": [
       "<Axes: >"
      ]
     },
     "execution_count": 25,
     "metadata": {},
     "output_type": "execute_result"
    },
    {
     "data": {
      "image/png": "[encoded data removed]",
      "text/plain": [
       "<Figure size 1200x800 with 1 Axes>"
      ]
     },
     "metadata": {},
     "output_type": "display_data"
    }
   ],
   "source": [
    "gdf.plot(figsize=(12, 8), edgecolor=\"black\")\n"
   ]
  },
  {
   "cell_type": "code",
   "execution_count": 30,
   "id": "adcbfd5c",
   "metadata": {},
   "outputs": [
    {
     "name": "stdout",
     "output_type": "stream",
     "text": [
      "0.04002\n",
      "104.23753\n"
     ]
    }
   ],
   "source": [
    "print(gdf['Area'].min())\n",
    "print(gdf['Area'].max())"
   ]
  },
  {
   "cell_type": "markdown",
   "id": "91990c34",
   "metadata": {},
   "source": [
    "The minimum area is 0.04002 km² (~40,000 m²), and the maximum is 104.23753 km².\n",
    "Installations at the lower end (0.04 km²) are likely to be small utility-scale or possibly large commercial/industrial rooftop solar, but are generally too large for typical household rooftop PV (which are usually <0.01 km²).The upper end (over 100 km²) is characteristic of large utility-scale solar farms.\n",
    "Therefore, most of the data likely represents utility-scale solar installations, with some smaller sites possibly being large commercial or community solar, but not typical household PV."
   ]
  }
 ],
 "metadata": {
  "kernelspec": {
   "display_name": "Python 3",
   "language": "python",
   "name": "python3"
  },
  "language_info": {
   "codemirror_mode": {
    "name": "ipython",
    "version": 3
   },
   "file_extension": ".py",
   "mimetype": "text/x-python",
   "name": "python",
   "nbconvert_exporter": "python",
   "pygments_lexer": "ipython3",
   "version": "3.12.3"
  }
 },
 "nbformat": 4,
 "nbformat_minor": 5
}
