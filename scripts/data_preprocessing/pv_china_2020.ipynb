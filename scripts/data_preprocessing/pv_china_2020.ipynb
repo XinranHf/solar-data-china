{
 "cells": [
  {
   "cell_type": "markdown",
   "id": "6e5a07bb",
   "metadata": {},
   "source": [
    "# PV China 2020 Dataset"
   ]
  },
  {
   "cell_type": "markdown",
   "id": "24e1a140",
   "metadata": {},
   "source": [
    "This dataset maps the distribution of photovoltaic (PV) solar power installations across China as of *2020*. It was generated using a pixel-based **Random Forest classifier** applied to **Landsat 8 Surface Reflectance** products, with all processing conducted on **Google Earth Engine (GEE)**.\n",
    "\n",
    "This dataset and its methodology are described in the following paper:\n",
    "\n",
    "> **Huang, Y., Liu, J., Xu, Y. et al. (2022)**  \n",
    "> *A high-resolution inventory of photovoltaic power installations in China.*  \n",
    "> *Earth System Science Data*, **14**, 2839–2854.  \n",
    "> [https://doi.org/10.5194/essd-14-2839-2022](https://doi.org/10.5194/essd-14-2839-2022)\n",
    "\n",
    "The dataset is publicly available on **Zenodo**:\n",
    "> **[PV_China_2020 on Zenodo (Record #6849477)](https://zenodo.org/record/6849477)**"
   ]
  },
  {
   "cell_type": "markdown",
   "id": "f7396f69",
   "metadata": {},
   "source": [
    "# Setup"
   ]
  },
  {
   "cell_type": "code",
   "execution_count": 9,
   "id": "ff9d05de",
   "metadata": {},
   "outputs": [],
   "source": [
    "import os\n",
    "import zipfile\n",
    "import requests"
   ]
  },
  {
   "cell_type": "markdown",
   "id": "0e161323",
   "metadata": {},
   "source": [
    "## Download"
   ]
  },
  {
   "cell_type": "code",
   "execution_count": 11,
   "id": "e859bf00",
   "metadata": {},
   "outputs": [
    {
     "ename": "PermissionError",
     "evalue": "[WinError 5] Accès refusé: '..\\\\..\\\\data'",
     "output_type": "error",
     "traceback": [
      "\u001b[1;31m---------------------------------------------------------------------------\u001b[0m",
      "\u001b[1;31mPermissionError\u001b[0m                           Traceback (most recent call last)",
      "Cell \u001b[1;32mIn[11], line 5\u001b[0m\n\u001b[0;32m      3\u001b[0m \u001b[38;5;66;03m# Output folder\u001b[39;00m\n\u001b[0;32m      4\u001b[0m output_folder \u001b[38;5;241m=\u001b[39m os\u001b[38;5;241m.\u001b[39mpath\u001b[38;5;241m.\u001b[39mjoin(\u001b[38;5;124m\"\u001b[39m\u001b[38;5;124m..\u001b[39m\u001b[38;5;124m\"\u001b[39m, \u001b[38;5;124m\"\u001b[39m\u001b[38;5;124m..\u001b[39m\u001b[38;5;124m\"\u001b[39m, \u001b[38;5;124m\"\u001b[39m\u001b[38;5;124mdata\u001b[39m\u001b[38;5;124m\"\u001b[39m, \u001b[38;5;124m\"\u001b[39m\u001b[38;5;124mraw_data\u001b[39m\u001b[38;5;124m\"\u001b[39m, \u001b[38;5;124m\"\u001b[39m\u001b[38;5;124mpv_china_2020\u001b[39m\u001b[38;5;124m\"\u001b[39m)\n\u001b[1;32m----> 5\u001b[0m os\u001b[38;5;241m.\u001b[39mmakedirs(output_folder, exist_ok\u001b[38;5;241m=\u001b[39m\u001b[38;5;28;01mTrue\u001b[39;00m)\n\u001b[0;32m      7\u001b[0m zipname \u001b[38;5;241m=\u001b[39m \u001b[38;5;124m\"\u001b[39m\u001b[38;5;124mpv_china_2020.zip\u001b[39m\u001b[38;5;124m\"\u001b[39m\n\u001b[0;32m      8\u001b[0m zippath \u001b[38;5;241m=\u001b[39m os\u001b[38;5;241m.\u001b[39mpath\u001b[38;5;241m.\u001b[39mjoin(output_folder, zipname)\n",
      "File \u001b[1;32m<frozen os>:215\u001b[0m, in \u001b[0;36mmakedirs\u001b[1;34m(name, mode, exist_ok)\u001b[0m\n",
      "File \u001b[1;32m<frozen os>:215\u001b[0m, in \u001b[0;36mmakedirs\u001b[1;34m(name, mode, exist_ok)\u001b[0m\n",
      "File \u001b[1;32m<frozen os>:225\u001b[0m, in \u001b[0;36mmakedirs\u001b[1;34m(name, mode, exist_ok)\u001b[0m\n",
      "\u001b[1;31mPermissionError\u001b[0m: [WinError 5] Accès refusé: '..\\\\..\\\\data'"
     ]
    }
   ],
   "source": [
    "url = \"https://zenodo.org/record/6849477/files/PV_China_2020.zip?download=1\"\n",
    "\n",
    "# Output folder\n",
    "output_folder = os.path.join(\"..\", \"..\", \"data\", \"raw_data\", \"pv_china_2020\")\n",
    "os.makedirs(output_folder, exist_ok=True)\n",
    "\n",
    "zipname = \"pv_china_2020.zip\"\n",
    "zippath = os.path.join(output_folder, zipname)\n",
    "\n",
    "# Download the file\n",
    "print(\"Downloading dataset...\")\n",
    "response = requests.get(url)\n",
    "with open(zippath, \"wb\") as f:\n",
    "    f.write(response.content)\n",
    "print(\"✅ Downloaded:\", zipname)\n",
    "\n",
    "# Extract files\n",
    "print(\"Extracting files...\")\n",
    "with zipfile.ZipFile(zippath, 'r') as zip_ref:\n",
    "    zip_ref.extractall(output_folder)\n",
    "\n",
    "# List extracted files\n",
    "print(\"Extracted files:\", os.listdir(output_folder))\n"
   ]
  },
  {
   "cell_type": "code",
   "execution_count": 12,
   "id": "f1015d39",
   "metadata": {},
   "outputs": [
    {
     "data": {
      "text/plain": [
       "False"
      ]
     },
     "execution_count": 12,
     "metadata": {},
     "output_type": "execute_result"
    }
   ],
   "source": [
    "os.path.isdir(\"../../data\")\n",
    "os.access(\"../../data\", os.W_OK)"
   ]
  }
 ],
 "metadata": {
  "kernelspec": {
   "display_name": "base",
   "language": "python",
   "name": "python3"
  },
  "language_info": {
   "codemirror_mode": {
    "name": "ipython",
    "version": 3
   },
   "file_extension": ".py",
   "mimetype": "text/x-python",
   "name": "python",
   "nbconvert_exporter": "python",
   "pygments_lexer": "ipython3",
   "version": "3.12.3"
  }
 },
 "nbformat": 4,
 "nbformat_minor": 5
}
