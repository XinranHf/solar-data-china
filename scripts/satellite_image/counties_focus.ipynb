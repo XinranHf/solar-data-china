{
 "cells": [
  {
   "cell_type": "markdown",
   "id": "9d8705db",
   "metadata": {},
   "source": [
    "# Counties focus "
   ]
  },
  {
   "cell_type": "markdown",
   "id": "dbbe8fcb",
   "metadata": {},
   "source": [
    "In order to reduce both sampling and computational costs in the initial phase of our study, we will focus on a subset of 16 counties. This targeted approach allows us to efficiently analyze representative regions before scaling up to a larger dataset.\n",
    "\n",
    "The selected counties are:\n",
    "\n",
    "- Gansu: Heshui\n",
    "- Hebei: Daming, Xuanhua\n",
    "- Henan: Gushi, Sheqi, Yanjin\n",
    "- Hunan: Yuanling, Shuangfeng\n",
    "- Shandong: Yiyuan, Cao\n",
    "- Shanxi: Hanbing, Baihe\n",
    "- Sichuan: Yuechi, Jinyang\n",
    "- Yunnan: Autonomous county of Bai and Pumi of Laping, Yongshan\n",
    "\n",
    "This selection covers a diverse range of geographic and socio-economic contexts, providing a solid foundation for our initial analyses.\n",
    "\n"
   ]
  },
  {
   "cell_type": "markdown",
   "id": "835d41da",
   "metadata": {},
   "source": [
    "## Setup "
   ]
  },
  {
   "cell_type": "code",
   "execution_count": 395,
   "id": "048b9b3f",
   "metadata": {},
   "outputs": [
    {
     "name": "stdout",
     "output_type": "stream",
     "text": [
      "Requirement already satisfied: rasterio in c:\\users\\charl\\anaconda3\\lib\\site-packages (1.4.3)\n",
      "Requirement already satisfied: affine in c:\\users\\charl\\anaconda3\\lib\\site-packages (from rasterio) (2.4.0)\n",
      "Requirement already satisfied: attrs in c:\\users\\charl\\anaconda3\\lib\\site-packages (from rasterio) (23.1.0)\n",
      "Requirement already satisfied: certifi in c:\\users\\charl\\anaconda3\\lib\\site-packages (from rasterio) (2025.6.15)\n",
      "Requirement already satisfied: click>=4.0 in c:\\users\\charl\\anaconda3\\lib\\site-packages (from rasterio) (8.1.7)\n",
      "Requirement already satisfied: cligj>=0.5 in c:\\users\\charl\\anaconda3\\lib\\site-packages (from rasterio) (0.7.2)\n",
      "Requirement already satisfied: numpy>=1.24 in c:\\users\\charl\\anaconda3\\lib\\site-packages (from rasterio) (1.26.4)\n",
      "Requirement already satisfied: click-plugins in c:\\users\\charl\\anaconda3\\lib\\site-packages (from rasterio) (1.1.1)\n",
      "Requirement already satisfied: pyparsing in c:\\users\\charl\\anaconda3\\lib\\site-packages (from rasterio) (3.1.2)\n",
      "Requirement already satisfied: colorama in c:\\users\\charl\\anaconda3\\lib\\site-packages (from click>=4.0->rasterio) (0.4.6)\n",
      "Note: you may need to restart the kernel to use updated packages.\n"
     ]
    }
   ],
   "source": [
    "%pip install rasterio "
   ]
  },
  {
   "cell_type": "code",
   "execution_count": null,
   "id": "aee70393",
   "metadata": {},
   "outputs": [],
   "source": [
    "import geopandas as gpd\n",
    "import matplotlib.pyplot as plt\n",
    "import numpy as np\n",
    "import pandas as pd\n",
    "import osmnx as ox\n",
    "from shapely.geometry import mapping, shape, Polygon\n",
    "import plotly.express as px\n",
    "import os\n",
    "import rasterio"
   ]
  },
  {
   "cell_type": "markdown",
   "id": "d8888dca",
   "metadata": {},
   "source": [
    "## County Selection Overview"
   ]
  },
  {
   "cell_type": "code",
   "execution_count": 252,
   "id": "5d2e109a",
   "metadata": {},
   "outputs": [],
   "source": [
    "# List of selected counties with their province\n",
    "counties = [\n",
    "    {\"province\": \"Gansu\", \"prefecture\": \"Qingyang\", \"county\": \"Heshui\"},\n",
    "    {\"province\": \"Hebei\", \"prefecture\": \"Handan\", \"county\": \"Daming\"},\n",
    "    {\"province\": \"Hebei\", \"prefecture\": \"Zhangjiakou\", \"county\": \"Xuanhua\"},\n",
    "    {\"province\": \"Henan\", \"prefecture\": \"Xinyang\", \"county\": \"Gushi\"},\n",
    "    {\"province\": \"Henan\", \"prefecture\": \"Nanyang\", \"county\": \"Sheqi\"},\n",
    "    {\"province\": \"Henan\", \"prefecture\": \"Xinxiang\", \"county\": \"Yanjin\"},\n",
    "    {\"province\": \"Hunan\", \"prefecture\": \"Huaihua\", \"county\": \"Yuanling\"},\n",
    "    {\"province\": \"Hunan\", \"prefecture\": \"Loudi\", \"county\": \"Shuangfeng\"},\n",
    "    {\"province\": \"Shandong\", \"prefecture\": \"Zibo\", \"county\": \"Yiyuan\"},\n",
    "    {\"province\": \"Shandong\", \"prefecture\": \"Heze\", \"county\": \"Cao\"},\n",
    "    {\"province\": \"Shanxi\", \"prefecture\": \"Ankang\", \"county\": \"Hanbin\"},  \n",
    "    {\"province\": \"Shanxi\", \"prefecture\": \"Ankang\", \"county\": \"Baihe\"},     \n",
    "    {\"province\": \"Sichuan\", \"prefecture\": \"Guang'an\", \"county\": \"Yuechi\"},\n",
    "    {\"province\": \"Sichuan\", \"prefecture\": \"LiangshanYi\", \"county\": \"Jinyang\"},\n",
    "    {\"province\": \"Yunnan\", \"prefecture\": \"NujiangLisu\", \"county\": \"Autonomous county of Bai and Pumi of Laping\"},  \n",
    "    {\"province\": \"Yunnan\", \"prefecture\": \"Zhaotong\", \"county\": \"Yongshan\"},\n",
    "]"
   ]
  },
  {
   "cell_type": "code",
   "execution_count": 316,
   "id": "a7e42d5c",
   "metadata": {},
   "outputs": [],
   "source": [
    "# Make sure that the counties we selected are in the GADM file\n",
    "\n",
    "gadm_path = \"../../data/data_processed/mapdata/gadm41_CHN_3_processed.json\"\n",
    "gdf = gpd.read_file(gadm_path)\n"
   ]
  },
  {
   "cell_type": "code",
   "execution_count": 254,
   "id": "1745f591",
   "metadata": {},
   "outputs": [],
   "source": [
    "def check_counties_in_gadm(counties, gdf, verbose=True):\n",
    "    \"\"\"\n",
    "    Checks which counties from the list are found in the GADM GeoDataFrame.\n",
    "\n",
    "    Args:\n",
    "        counties (list of dict): List of counties with 'province', 'prefecture', 'county' keys.\n",
    "        gdf (GeoDataFrame): GADM data with 'Province', 'Prefecture', 'County' columns.\n",
    "        verbose (bool): If True, prints the results.\n",
    "\n",
    "    Returns:\n",
    "        found (list): List of county dicts found in GADM.\n",
    "        not_found (list): List of tuples (county dict, fail_levels).\n",
    "    \"\"\"\n",
    "    found = []\n",
    "    not_found = []\n",
    "\n",
    "    for entry in counties:\n",
    "        # Try to match by province, prefecture, and county name (case-insensitive, partial match for county and prefecture)\n",
    "        matches = gdf[\n",
    "            (gdf['Province'].str.contains(entry['province'], case=False, na=False)) &\n",
    "            (gdf['Prefecture'].str.contains(entry['prefecture'], case=False, na=False)) &\n",
    "            (gdf['County'].str.contains(entry['county'], case=False, na=False))\n",
    "        ]\n",
    "        if not matches.empty:\n",
    "            found.append(entry)\n",
    "        else:\n",
    "            # Check which level(s) failed\n",
    "            province_match = gdf['Province'].str.contains(entry['province'], case=False, na=False)\n",
    "            prefecture_match = gdf['Prefecture'].str.contains(entry['prefecture'], case=False, na=False)\n",
    "            county_match = gdf['County'].str.contains(entry['county'], case=False, na=False)\n",
    "            fail_levels = []\n",
    "            if not province_match.any():\n",
    "                fail_levels.append(\"province\")\n",
    "            elif not prefecture_match[province_match].any():\n",
    "                fail_levels.append(\"prefecture\")\n",
    "            elif not county_match[province_match & prefecture_match].any():\n",
    "                fail_levels.append(\"county\")\n",
    "            not_found.append((entry, fail_levels))\n",
    "\n",
    "    if verbose:\n",
    "        print(\"Counties found in GADM:\")\n",
    "        for entry in found:\n",
    "            print(f\"{entry['province']} - {entry['prefecture']} - {entry['county']}\")\n",
    "\n",
    "        print(\"\\nCounties NOT found in GADM:\")\n",
    "        for entry, fail_levels in not_found:\n",
    "            print(f\"{entry['province']} - {entry['prefecture']} - {entry['county']}\")\n",
    "            if fail_levels:\n",
    "                print(f\"  -> No match at: {', '.join(fail_levels)} level(s)\")\n",
    "            else:\n",
    "                print(\"  -> No match, but could not determine which level failed\")\n",
    "    return found, not_found\n"
   ]
  },
  {
   "cell_type": "code",
   "execution_count": 255,
   "id": "a7d5e642",
   "metadata": {},
   "outputs": [
    {
     "name": "stdout",
     "output_type": "stream",
     "text": [
      "Counties found in GADM:\n",
      "Hebei - Handan - Daming\n",
      "Hebei - Zhangjiakou - Xuanhua\n",
      "Henan - Xinyang - Gushi\n",
      "Henan - Nanyang - Sheqi\n",
      "Henan - Xinxiang - Yanjin\n",
      "Hunan - Huaihua - Yuanling\n",
      "Hunan - Loudi - Shuangfeng\n",
      "Shandong - Zibo - Yiyuan\n",
      "Shandong - Heze - Cao\n",
      "Sichuan - Guang'an - Yuechi\n",
      "Yunnan - Zhaotong - Yongshan\n",
      "\n",
      "Counties NOT found in GADM:\n",
      "Gansu - Qingyang - Heshui\n",
      "  -> No match at: county level(s)\n",
      "Shanxi - Ankang - Hanbin\n",
      "  -> No match at: prefecture level(s)\n",
      "Shanxi - Ankang - Baihe\n",
      "  -> No match at: prefecture level(s)\n",
      "Sichuan - LiangshanYi - Jinyang\n",
      "  -> No match at: county level(s)\n",
      "Yunnan - NujiangLisu - Autonomous county of Bai and Pumi of Laping\n",
      "  -> No match at: county level(s)\n"
     ]
    }
   ],
   "source": [
    "found, not_found = check_counties_in_gadm(counties, gdf)"
   ]
  },
  {
   "cell_type": "code",
   "execution_count": 256,
   "id": "da05b035",
   "metadata": {},
   "outputs": [
    {
     "name": "stdout",
     "output_type": "stream",
     "text": [
      "\n",
      "Exploring: Gansu - Qingyang - Heshui\n",
      "Fail levels: ['county']\n",
      "\n",
      "Counties in GADM for this prefecture:\n",
      "['Hezheng' 'Huachi' 'Huan' 'Ning' 'Qingyang' 'Xifeng' 'Zhengning'\n",
      " 'Zhenyuan']\n",
      "No close matches found for county name. Check for typos or alternate names.\n",
      "\n",
      "Exploring: Shanxi - Ankang - Hanbin\n",
      "Fail levels: ['prefecture']\n",
      "\n",
      "Prefectures in GADM for this province:\n",
      "['Changzhi' 'Datong' 'Jincheng' 'Jinzhong' 'Linfen' 'Luliang' 'Shuozhou'\n",
      " 'Taiyuan' 'Xinzhou' 'Yangquan' 'Yuncheng']\n",
      "No matches for prefecture name. Possible typo or different prefecture name in GADM.\n",
      "\n",
      "Exploring: Shanxi - Ankang - Baihe\n",
      "Fail levels: ['prefecture']\n",
      "\n",
      "Prefectures in GADM for this province:\n",
      "['Changzhi' 'Datong' 'Jincheng' 'Jinzhong' 'Linfen' 'Luliang' 'Shuozhou'\n",
      " 'Taiyuan' 'Xinzhou' 'Yangquan' 'Yuncheng']\n",
      "No matches for prefecture name. Possible typo or different prefecture name in GADM.\n",
      "\n",
      "Exploring: Sichuan - LiangshanYi - Jinyang\n",
      "Fail levels: ['county']\n",
      "\n",
      "Counties in GADM for this prefecture:\n",
      "['Butuo' 'Dechang' 'Ganluo' 'Huidong' 'Huili' 'Jingyang' 'Leibo' 'Meigu'\n",
      " 'Mianning' 'MuliTibetan' 'Ningnan' 'Puge' 'Xichang' 'Xide' 'Yanyuan'\n",
      " 'Yuexi' 'Zhaojue']\n",
      "Possible close matches for county name:\n",
      "['Jingyang']\n",
      "\n",
      "Exploring: Yunnan - NujiangLisu - Autonomous county of Bai and Pumi of Laping\n",
      "Fail levels: ['county']\n",
      "\n",
      "Counties in GADM for this prefecture:\n",
      "['Bijiang' 'GongshanDerungandNu' 'LanpingBaiandPumi' 'Lushui']\n",
      "No close matches found for county name. Check for typos or alternate names.\n"
     ]
    }
   ],
   "source": [
    "# Let's explore the counties not found in GADM to understand why (e.g., typos, alternate spellings, or different naming conventions)\n",
    "\n",
    "for entry, fail_levels in not_found:\n",
    "    print(f\"\\nExploring: {entry['province']} - {entry['prefecture']} - {entry['county']}\")\n",
    "    print(f\"Fail levels: {fail_levels}\\n\")\n",
    "    if \"province\" in fail_levels:\n",
    "        print(\"No matches for province name. Possible typo or different province name in GADM.\")\n",
    "        print(\"Provinces available in GADM:\")\n",
    "        print(gdf['Province'].unique())\n",
    "        continue\n",
    "\n",
    "    # Province matched, so filter by province (perfect match, case-insensitive)\n",
    "    province_matches = gdf[gdf['Province'].str.lower() == entry['province'].lower()]\n",
    "\n",
    "    if \"prefecture\" in fail_levels:\n",
    "        print(\"Prefectures in GADM for this province:\")\n",
    "        print(province_matches['Prefecture'].unique())\n",
    "        print(\"No matches for prefecture name. Possible typo or different prefecture name in GADM.\")\n",
    "        continue\n",
    "\n",
    "    # Prefecture matched, so filter by prefecture as well (perfect match, case-insensitive)\n",
    "    prefecture_matches = province_matches[province_matches['Prefecture'].str.lower() == entry['prefecture'].lower()]\n",
    "    print(\"Counties in GADM for this prefecture:\")\n",
    "    print(prefecture_matches['County'].unique())\n",
    "\n",
    "    if \"county\" in fail_levels:\n",
    "        # Try fuzzy matching (partial match) for county name\n",
    "        county_substr = entry['county'][:3] if len(entry['county']) >= 3 else entry['county']\n",
    "        close_matches = prefecture_matches[prefecture_matches['County'].str.contains(county_substr, case=False, na=False)]\n",
    "        if not close_matches.empty:\n",
    "            print(\"Possible close matches for county name:\")\n",
    "            print(close_matches['County'].unique())\n",
    "        else:\n",
    "            print(\"No close matches found for county name. Check for typos or alternate names.\")\n",
    "    else:\n",
    "        print(\"Could not determine which level failed, or all levels matched unexpectedly.\")\n"
   ]
  },
  {
   "cell_type": "markdown",
   "id": "b57082e8",
   "metadata": {},
   "source": [
    "- For Qiangshang: Since it is classified as a \"qu\", there is no separate county-level division. In this case, we should use the corresponding prefecture-level city as its administrative unit, as observed in the `GADM.ipynb` notebook.\n",
    "\n",
    "- For the two counties in Ankang: Let's investigate further to understand why they are not matching.\n",
    "\n",
    "- For LiangshanYi: This is probably referring to Jingyang. Let's double check it with the chinese character 金阳 to see if it really match.\n",
    "\n",
    "- For autonomous county of Bai and Pumi of Laping : It likely correspond to LanpingBaiandPumi."
   ]
  },
  {
   "cell_type": "code",
   "execution_count": 257,
   "id": "95559df7",
   "metadata": {},
   "outputs": [
    {
     "name": "stdout",
     "output_type": "stream",
     "text": [
      "[('Anhui', '安徽|安徽'), ('Beijing', '北京|北京'), ('Chongqing', '重慶|重庆'), ('Fujian', '福建'), ('Gansu', '甘肅|甘肃'), ('Guangdong', '廣東|广东'), ('Guangxi', '廣西壯族自治區|广西壮族自治区'), ('Guizhou', '貴州|贵州'), ('Hainan', '海南'), ('Hebei', '河北'), ('Heilongjiang', '黑龙江省|黑龍江省'), ('Henan', '河南'), ('Hubei', '湖北'), ('Hunan', '湖南'), ('Jiangsu', '江蘇|江苏'), ('Jiangxi', '江西'), ('Jilin', '吉林'), ('Liaoning', '遼寧|辽宁'), ('Macau', None), ('Inner Mongolia', '內蒙古自治區|内蒙古自治区'), ('Ningxia', '寧夏回族自治區|宁夏回族自治区'), ('Qinghai', '青海'), ('Shaanxi', '陝西|陕西'), ('Shandong', '山東|山东'), ('Shanghai', '上海|上海'), ('Shanxi', '山西'), ('Sichuan', '四川'), ('Tianjin', '天津|天津'), ('Xinjiang', '新疆維吾爾自治區|新疆维吾尔自治区'), ('Tibet', '西藏自治區|西藏自治区'), ('Yunnan', '雲南|云南'), ('Zhejiang', '浙江')]\n"
     ]
    }
   ],
   "source": [
    "print(list(zip(gdf[\"Province\"].unique(), gdf[\"Province_hanzi\"].unique())))"
   ]
  },
  {
   "cell_type": "markdown",
   "id": "0edc4ac2",
   "metadata": {},
   "source": [
    "As we can see, there is ('Shaanxi', '陝西|陕西') and ('Shanxi', '山西'), which correspond to two different regions. Now, let's explore Shaanxi further."
   ]
  },
  {
   "cell_type": "code",
   "execution_count": 258,
   "id": "99db330c",
   "metadata": {},
   "outputs": [
    {
     "name": "stdout",
     "output_type": "stream",
     "text": [
      "['Ankang' 'Baoji' 'Hanzhong' 'Shangluo' 'Tongchuan' 'Weinan' \"Xi'an\"\n",
      " 'Xianyang' \"Yan'an\" 'Yulin']\n"
     ]
    }
   ],
   "source": [
    "print(gdf[gdf[\"Province\"] == \"Shaanxi\"][\"Prefecture\"].unique())"
   ]
  },
  {
   "cell_type": "code",
   "execution_count": 259,
   "id": "03e7de31",
   "metadata": {},
   "outputs": [
    {
     "name": "stdout",
     "output_type": "stream",
     "text": [
      "['Ankang' 'Baihe' 'Hanyin' 'Langao' 'Ningshan' 'Pingli' 'Shiquan'\n",
      " 'Xunyang' 'Zhenping' 'Ziyang']\n"
     ]
    }
   ],
   "source": [
    "print(gdf[gdf[\"Prefecture\"] == \"Ankang\"][\"County\"].unique())"
   ]
  },
  {
   "cell_type": "markdown",
   "id": "98096457",
   "metadata": {},
   "source": [
    "For Ankang:\n",
    "- Baihe: This is OK, the county matches as expected.\n",
    "- Hanbin: Same remark as before regarding 'qu' (district); since it is a district-level division, we will use the corresponding prefecture-level city (Ankang) as its administrative unit instead of a separate county.\n"
   ]
  },
  {
   "cell_type": "code",
   "execution_count": 260,
   "id": "da1c7fe3",
   "metadata": {},
   "outputs": [
    {
     "data": {
      "text/html": [
       "<div>\n",
       "<style scoped>\n",
       "    .dataframe tbody tr th:only-of-type {\n",
       "        vertical-align: middle;\n",
       "    }\n",
       "\n",
       "    .dataframe tbody tr th {\n",
       "        vertical-align: top;\n",
       "    }\n",
       "\n",
       "    .dataframe thead th {\n",
       "        text-align: right;\n",
       "    }\n",
       "</style>\n",
       "<table border=\"1\" class=\"dataframe\">\n",
       "  <thead>\n",
       "    <tr style=\"text-align: right;\">\n",
       "      <th></th>\n",
       "      <th>GID_3</th>\n",
       "      <th>GID_0</th>\n",
       "      <th>Country</th>\n",
       "      <th>GID_1</th>\n",
       "      <th>Province</th>\n",
       "      <th>Province_hanzi</th>\n",
       "      <th>GID_2</th>\n",
       "      <th>Prefecture</th>\n",
       "      <th>Prefecture_hanzi</th>\n",
       "      <th>County</th>\n",
       "      <th>County_pinying</th>\n",
       "      <th>County_hanzi</th>\n",
       "      <th>County_type_pinying</th>\n",
       "      <th>County_type_eng</th>\n",
       "      <th>CC_3</th>\n",
       "      <th>HASC_3</th>\n",
       "      <th>geometry</th>\n",
       "    </tr>\n",
       "  </thead>\n",
       "  <tbody>\n",
       "    <tr>\n",
       "      <th>1610</th>\n",
       "      <td>CHN.22.8.4_1</td>\n",
       "      <td>CHN</td>\n",
       "      <td>China</td>\n",
       "      <td>CHN.22_1</td>\n",
       "      <td>Shaanxi</td>\n",
       "      <td>陝西|陕西</td>\n",
       "      <td>CHN.22.8_1</td>\n",
       "      <td>Xianyang</td>\n",
       "      <td>咸阳市</td>\n",
       "      <td>Jingyang</td>\n",
       "      <td>Jīngyáng</td>\n",
       "      <td>泾阳县</td>\n",
       "      <td>Xiàn</td>\n",
       "      <td>County</td>\n",
       "      <td>None</td>\n",
       "      <td>None</td>\n",
       "      <td>MULTIPOLYGON (((108.94 34.579, 108.94 34.572, ...</td>\n",
       "    </tr>\n",
       "    <tr>\n",
       "      <th>1953</th>\n",
       "      <td>CHN.26.9.6_1</td>\n",
       "      <td>CHN</td>\n",
       "      <td>China</td>\n",
       "      <td>CHN.26_1</td>\n",
       "      <td>Sichuan</td>\n",
       "      <td>四川</td>\n",
       "      <td>CHN.26.9_1</td>\n",
       "      <td>LiangshanYi</td>\n",
       "      <td>凉山彝族自治州</td>\n",
       "      <td>Jingyang</td>\n",
       "      <td>Jīngyáng</td>\n",
       "      <td>旌阳区</td>\n",
       "      <td>Shìxiáqū</td>\n",
       "      <td>District</td>\n",
       "      <td>None</td>\n",
       "      <td>None</td>\n",
       "      <td>MULTIPOLYGON (((102.95 27.419, 102.95 27.422, ...</td>\n",
       "    </tr>\n",
       "  </tbody>\n",
       "</table>\n",
       "</div>"
      ],
      "text/plain": [
       "             GID_3 GID_0 Country     GID_1 Province Province_hanzi  \\\n",
       "1610  CHN.22.8.4_1   CHN   China  CHN.22_1  Shaanxi          陝西|陕西   \n",
       "1953  CHN.26.9.6_1   CHN   China  CHN.26_1  Sichuan             四川   \n",
       "\n",
       "           GID_2   Prefecture Prefecture_hanzi    County County_pinying  \\\n",
       "1610  CHN.22.8_1     Xianyang              咸阳市  Jingyang       Jīngyáng   \n",
       "1953  CHN.26.9_1  LiangshanYi          凉山彝族自治州  Jingyang       Jīngyáng   \n",
       "\n",
       "     County_hanzi County_type_pinying County_type_eng  CC_3 HASC_3  \\\n",
       "1610          泾阳县                Xiàn          County  None   None   \n",
       "1953          旌阳区            Shìxiáqū        District  None   None   \n",
       "\n",
       "                                               geometry  \n",
       "1610  MULTIPOLYGON (((108.94 34.579, 108.94 34.572, ...  \n",
       "1953  MULTIPOLYGON (((102.95 27.419, 102.95 27.422, ...  "
      ]
     },
     "execution_count": 260,
     "metadata": {},
     "output_type": "execute_result"
    }
   ],
   "source": [
    "# Print the row where the county is Jingyang\n",
    "row = gdf[\n",
    "    (gdf['County'].str.contains('Jingyang', case=False, na=False))\n",
    "]\n",
    "\n",
    "row"
   ]
  },
  {
   "cell_type": "markdown",
   "id": "2370141a",
   "metadata": {},
   "source": [
    "This is not the county we are searching for..."
   ]
  },
  {
   "cell_type": "code",
   "execution_count": 261,
   "id": "b1f044dd",
   "metadata": {},
   "outputs": [
    {
     "data": {
      "image/png": "[encoded data removed]",
      "text/plain": [
       "<Figure size 1000x1000 with 1 Axes>"
      ]
     },
     "metadata": {},
     "output_type": "display_data"
    }
   ],
   "source": [
    "liangshan = gdf[gdf[\"Prefecture\"] == \"LiangshanYi\"]\n",
    "\n",
    "fig, ax = plt.subplots(figsize=(10, 10))\n",
    "liangshan.plot(ax=ax, edgecolor='black', facecolor='lightyellow')\n",
    "\n",
    "for idx, row in liangshan.iterrows():\n",
    "    if row[\"geometry\"].centroid.is_empty:\n",
    "        continue\n",
    "    plt.annotate(\n",
    "        text=row[\"County\"],\n",
    "        xy=(row[\"geometry\"].centroid.x, row[\"geometry\"].centroid.y),\n",
    "        ha='center',\n",
    "        fontsize=8\n",
    ")\n",
    "\n",
    "ax.set_title(\"Counties in Liangshan Prefecture\", fontsize=14)\n",
    "ax.axis(\"off\")\n",
    "plt.show()"
   ]
  },
  {
   "cell_type": "code",
   "execution_count": 262,
   "id": "4788cd78",
   "metadata": {},
   "outputs": [
    {
     "name": "stdout",
     "output_type": "stream",
     "text": [
      "Google Maps link for 金阳 (Jinyang), Sichuan:\n",
      "https://www.google.com/maps/search/%E9%87%91%E9%98%B3%20%E5%9B%9B%E5%B7%9D%20%E4%B8%AD%E5%9B%BD\n",
      "\n",
      "Google Maps link for 旌阳 (Jingyang), Sichuan:\n",
      "https://www.google.com/maps/search/%E6%97%8C%E9%98%B3%20%E5%9B%9B%E5%B7%9D%20%E4%B8%AD%E5%9B%BD\n"
     ]
    }
   ],
   "source": [
    "# Generate Google Maps search URLs for 金阳 and 旌阳 in Sichuan\n",
    "def google_maps_search_link(place, province=\"四川\", country=\"中国\"):\n",
    "    import urllib.parse\n",
    "    query = f\"{place} {province} {country}\"\n",
    "    base_url = \"https://www.google.com/maps/search/\"\n",
    "    return base_url + urllib.parse.quote(query)\n",
    "\n",
    "jinyang_url = google_maps_search_link(\"金阳\")\n",
    "jingyang_url = google_maps_search_link(\"旌阳\")\n",
    "\n",
    "print(\"Google Maps link for 金阳 (Jinyang), Sichuan:\")\n",
    "print(jinyang_url)\n",
    "print(\"\\nGoogle Maps link for 旌阳 (Jingyang), Sichuan:\")\n",
    "print(jingyang_url)\n",
    "\n"
   ]
  },
  {
   "cell_type": "markdown",
   "id": "bc6b0fe0",
   "metadata": {},
   "source": [
    "It seems to be an error in the gadm dataset since 旌阳 (Jingyang) in GADM match the location of Jinyang 金阳 (Jinyang). 旌阳 (Jingyang) shoud be in Deyang prefecture..."
   ]
  },
  {
   "cell_type": "code",
   "execution_count": 263,
   "id": "4ce4c9b1",
   "metadata": {},
   "outputs": [
    {
     "name": "stdout",
     "output_type": "stream",
     "text": [
      "['Bazhong' 'Chengdu' 'Dazhou' 'Deyang' 'GarzêTibetan' \"Guang'an\"\n",
      " 'Guangyuan' 'Leshan' 'LiangshanYi' 'Luzhou' 'Meishan' 'Mianyang'\n",
      " 'Nanchong' 'Neijiang' 'Neijiang]]' 'NgawaTibetanandQiang' 'Panzhihua'\n",
      " 'Suining' \"Ya'an\" 'Yibin' 'Zigong' 'Ziyang']\n",
      "\n",
      " County\n",
      "['Deyang' 'Guanghan' 'Mianzhu' 'Shifang' 'Zhongjiang']\n"
     ]
    }
   ],
   "source": [
    "print(gdf[gdf[\"Province\"] == \"Sichuan\"][\"Prefecture\"].unique())\n",
    "print(\"\\n County\")\n",
    "print(gdf[gdf[\"Prefecture\"] == \"Deyang\"][\"County\"].unique())\n",
    "\n"
   ]
  },
  {
   "cell_type": "code",
   "execution_count": 264,
   "id": "043eb3b0",
   "metadata": {},
   "outputs": [
    {
     "name": "stdout",
     "output_type": "stream",
     "text": [
      "\n",
      "Corrected province name to: Shaanxi - Ankang - Hanbin\n",
      "\n",
      "Corrected province name to: Shaanxi - Ankang - Baihe\n",
      "\n",
      "Corrected county name to: Sichuan - LiangshanYi - Jingyang\n",
      "\n",
      "Corrected county name to: Yunnan - NujiangLisu - LanpingBaiandPumi\n"
     ]
    }
   ],
   "source": [
    "# For Ankang : correct the province name to Shaanxi\n",
    "\n",
    "# For Ankang (Hanbing) and Qiangshang: Since it is classified as a \"qu\", there is no separate county-level division.\n",
    "\n",
    "# For LiangshanYi : Jingyang in GADM seems to correspond to the location of Jinyang.\n",
    "\n",
    "# For autonomous county of Bai and Pumi of Lanping: It likely corresponds to LanpingBaiandPumi.\n",
    "\n",
    "for entry in counties:\n",
    "    if entry.get('province') == 'Shanxi':\n",
    "        entry['province'] = 'Shaanxi'\n",
    "        #if entry.get('county') == 'Hanbing':\n",
    "            #entry['county'] = 'Ankang'\n",
    "        print(f\"\\nCorrected province name to: {entry['province']} - {entry['prefecture']} - {entry['county']}\")\n",
    "\n",
    "    # if entry.get('county') == 'Heshui':\n",
    "    #     entry['county'] = entry['prefecture']\n",
    "    #     print(f\"\\nCorrected county name to: {entry['province']} - {entry['prefecture']} - {entry['county']}\")\n",
    "\n",
    "    if entry.get('county') == 'Jinyang' : \n",
    "        entry['county'] = 'Jingyang'\n",
    "        print(f\"\\nCorrected county name to: {entry['province']} - {entry['prefecture']} - {entry['county']}\")\n",
    "\n",
    "    if entry.get('county') == 'Autonomous county of Bai and Pumi of Laping' : \n",
    "        entry['county'] = \"LanpingBaiandPumi\"\n",
    "        print(f\"\\nCorrected county name to: {entry['province']} - {entry['prefecture']} - {entry['county']}\")"
   ]
  },
  {
   "cell_type": "code",
   "execution_count": 265,
   "id": "19a82b02",
   "metadata": {},
   "outputs": [
    {
     "name": "stdout",
     "output_type": "stream",
     "text": [
      "Counties found in GADM:\n",
      "Hebei - Handan - Daming\n",
      "Hebei - Zhangjiakou - Xuanhua\n",
      "Henan - Xinyang - Gushi\n",
      "Henan - Nanyang - Sheqi\n",
      "Henan - Xinxiang - Yanjin\n",
      "Hunan - Huaihua - Yuanling\n",
      "Hunan - Loudi - Shuangfeng\n",
      "Shandong - Zibo - Yiyuan\n",
      "Shandong - Heze - Cao\n",
      "Shaanxi - Ankang - Baihe\n",
      "Sichuan - Guang'an - Yuechi\n",
      "Sichuan - LiangshanYi - Jingyang\n",
      "Yunnan - NujiangLisu - LanpingBaiandPumi\n",
      "Yunnan - Zhaotong - Yongshan\n",
      "\n",
      "Counties NOT found in GADM:\n",
      "Gansu - Qingyang - Heshui\n",
      "  -> No match at: county level(s)\n",
      "Shaanxi - Ankang - Hanbin\n",
      "  -> No match at: county level(s)\n"
     ]
    }
   ],
   "source": [
    "# Check if all the counties are found now \n",
    "found, not_found = check_counties_in_gadm(counties, gdf)"
   ]
  },
  {
   "cell_type": "code",
   "execution_count": 266,
   "id": "24ecbc0a",
   "metadata": {},
   "outputs": [],
   "source": [
    "# Add the boundary geometry of each county to the found list\n",
    "\n",
    "# Add geometry to found counties from gdf\n",
    "for entry in found:\n",
    "    # Find the matching row in gdf\n",
    "    match = gdf[\n",
    "        (gdf[\"Province\"] == entry.get(\"province\")) &\n",
    "        (gdf[\"Prefecture\"] == entry.get(\"prefecture\")) &\n",
    "        (gdf[\"County\"] == entry.get(\"county\"))\n",
    "    ]\n",
    "    if not match.empty:\n",
    "        # Store geometry as GeoJSON-like dict\n",
    "        entry[\"geometry\"] = mapping(match.iloc[0].geometry)\n",
    "    else:\n",
    "        entry[\"geometry\"] = None  # fallback if not found"
   ]
  },
  {
   "cell_type": "code",
   "execution_count": 267,
   "id": "6746ee0d",
   "metadata": {},
   "outputs": [
    {
     "name": "stdout",
     "output_type": "stream",
     "text": [
      "Querying OSM for: Heshui, Qingyang, Gansu, China\n",
      "Found polygon geometry for Heshui, Qingyang, Gansu, China: Polygon\n",
      "Querying OSM for: Hanbin, Ankang, Shaanxi, China\n",
      "Found polygon geometry for Hanbin, Ankang, Shaanxi, China: Polygon\n"
     ]
    }
   ],
   "source": [
    "# For counties not found, try to get their boundary from OSM using osmnx\n",
    "\n",
    "for idx, entry in enumerate(not_found):\n",
    "    # Extract data dict from entry\n",
    "    if isinstance(entry, tuple) and len(entry) > 0 and isinstance(entry[0], dict):\n",
    "        data = entry[0]  # dict inside tuple\n",
    "        entry_is_tuple = True\n",
    "    elif isinstance(entry, dict):\n",
    "        data = entry\n",
    "        entry_is_tuple = False\n",
    "    else:\n",
    "        print(f\"Unsupported entry format: {entry}\")\n",
    "        continue\n",
    "\n",
    "    query_name = f\"{data.get('county', '')}, {data.get('prefecture', '')}, {data.get('province', '')}, China\"\n",
    "    print(f\"Querying OSM for: {query_name}\")\n",
    "\n",
    "    try:\n",
    "        # Remove max_results argument, as it is not supported in some osmnx versions\n",
    "        gdf_osm = ox.geocode_to_gdf(query_name)\n",
    "        if not gdf_osm.empty:\n",
    "            # Prefer polygons/multipolygons\n",
    "            poly_gdf = gdf_osm[gdf_osm.geometry.geom_type.isin(['Polygon', 'MultiPolygon'])]\n",
    "            if not poly_gdf.empty:\n",
    "                geom = poly_gdf.iloc[0].geometry\n",
    "                print(f\"Found polygon geometry for {query_name}: {geom.geom_type}\")\n",
    "                data['geometry'] = mapping(geom)\n",
    "            else:\n",
    "                # Fallback: use the first result (could be Point/LineString)\n",
    "                geom = gdf_osm.iloc[0].geometry\n",
    "                print(f\"No polygon found, using geometry for {query_name}: {geom.geom_type}\")\n",
    "                data['geometry'] = mapping(geom)\n",
    "        else:\n",
    "            print(f\"No geometry found for {query_name}\")\n",
    "            data['geometry'] = None\n",
    "    except Exception as e:\n",
    "        print(f\"Error for {query_name}: {e}\")\n",
    "        data['geometry'] = None\n",
    "\n",
    "    # If the entry was a tuple, update not_found with the modified dict inside the tuple\n",
    "    if entry_is_tuple:\n",
    "        # Replace the tuple in not_found with a new tuple containing the updated dict and any other elements\n",
    "        not_found[idx] = (data,) + entry[1:]\n",
    "    else:\n",
    "        not_found[idx] = data\n"
   ]
  },
  {
   "cell_type": "code",
   "execution_count": 268,
   "id": "006e4b77",
   "metadata": {},
   "outputs": [
    {
     "name": "stdout",
     "output_type": "stream",
     "text": [
      "  province   prefecture   county  \\\n",
      "0    Hebei       Handan   Daming   \n",
      "1    Hebei  Zhangjiakou  Xuanhua   \n",
      "2    Henan      Xinyang    Gushi   \n",
      "3    Henan      Nanyang    Sheqi   \n",
      "4    Henan     Xinxiang   Yanjin   \n",
      "\n",
      "                                            geometry  \n",
      "0  {'type': 'MultiPolygon', 'coordinates': [(((11...  \n",
      "1  {'type': 'MultiPolygon', 'coordinates': [(((11...  \n",
      "2  {'type': 'MultiPolygon', 'coordinates': [(((11...  \n",
      "3  {'type': 'MultiPolygon', 'coordinates': [(((11...  \n",
      "4  {'type': 'MultiPolygon', 'coordinates': [(((11...  \n",
      "<class 'pandas.core.frame.DataFrame'>\n",
      "RangeIndex: 16 entries, 0 to 15\n",
      "Data columns (total 4 columns):\n",
      " #   Column      Non-Null Count  Dtype \n",
      "---  ------      --------------  ----- \n",
      " 0   province    16 non-null     object\n",
      " 1   prefecture  16 non-null     object\n",
      " 2   county      16 non-null     object\n",
      " 3   geometry    16 non-null     object\n",
      "dtypes: object(4)\n",
      "memory usage: 644.0+ bytes\n",
      "None\n"
     ]
    }
   ],
   "source": [
    "# Combine found and not_found into a single list for further analysis\n",
    "all_counties = []\n",
    "\n",
    "# found is a list of dicts\n",
    "all_counties.extend(found)\n",
    "\n",
    "# not_found may be a list of dicts or tuples with dicts as first element\n",
    "for entry in not_found:\n",
    "    if isinstance(entry, dict):\n",
    "        all_counties.append(entry)\n",
    "    elif isinstance(entry, tuple) and len(entry) > 0 and isinstance(entry[0], dict):\n",
    "        all_counties.append(entry[0])\n",
    "    else:\n",
    "        print(f\"Skipping entry with unexpected format in not_found: {entry}\")\n",
    "\n",
    "\n",
    "all_counties_df = pd.DataFrame(all_counties)\n",
    "print(all_counties_df.head())\n",
    "print(all_counties_df.info())\n"
   ]
  },
  {
   "cell_type": "code",
   "execution_count": null,
   "id": "27c07e68",
   "metadata": {},
   "outputs": [],
   "source": [
    "# Save all counties (combined DataFrame) to CSV for further analysis\n",
    "\n",
    "all_counties_df.to_csv(\"../../focus_counties.csv\", index=False, encoding=\"utf-8\")\n"
   ]
  },
  {
   "cell_type": "markdown",
   "id": "72fa2460",
   "metadata": {},
   "source": [
    "## Sampling Overview"
   ]
  },
  {
   "cell_type": "markdown",
   "id": "cce26598",
   "metadata": {},
   "source": [
    "For sampling, we will use the Google Static Maps API to obtain satellite images of each county. \n",
    "We aim to optimize  the number of samples required while still ensuring adequate coverage of each area."
   ]
  },
  {
   "cell_type": "code",
   "execution_count": 360,
   "id": "4bb60b2d",
   "metadata": {},
   "outputs": [],
   "source": [
    "focus_gdf = gpd.GeoDataFrame(all_counties_df, geometry='geometry')"
   ]
  },
  {
   "cell_type": "code",
   "execution_count": 361,
   "id": "0b74eb8e",
   "metadata": {},
   "outputs": [
    {
     "name": "stdout",
     "output_type": "stream",
     "text": [
      "    province   prefecture             county  centroid_lon  utm_zone  \\\n",
      "0      Hebei       Handan             Daming    115.240668        50   \n",
      "1      Hebei  Zhangjiakou            Xuanhua    115.072826        50   \n",
      "2      Henan      Xinyang              Gushi    115.695957        50   \n",
      "3      Henan      Nanyang              Sheqi    112.979143        49   \n",
      "4      Henan     Xinxiang             Yanjin    114.218579        50   \n",
      "5      Hunan      Huaihua           Yuanling    110.591599        49   \n",
      "6      Hunan        Loudi         Shuangfeng    112.174453        49   \n",
      "7   Shandong         Zibo             Yiyuan    118.177145        50   \n",
      "8   Shandong         Heze                Cao    115.540379        50   \n",
      "9    Shaanxi       Ankang              Baihe    109.907555        49   \n",
      "10   Sichuan     Guang'an             Yuechi    106.411594        48   \n",
      "11   Sichuan  LiangshanYi           Jingyang    103.190004        48   \n",
      "12    Yunnan  NujiangLisu  LanpingBaiandPumi     99.260527        47   \n",
      "13    Yunnan     Zhaotong           Yongshan    103.644229        48   \n",
      "14     Gansu     Qingyang             Heshui    108.298762        49   \n",
      "15   Shaanxi       Ankang             Hanbin    108.885779        49   \n",
      "\n",
      "       utm_crs  \n",
      "0   EPSG:32650  \n",
      "1   EPSG:32650  \n",
      "2   EPSG:32650  \n",
      "3   EPSG:32649  \n",
      "4   EPSG:32650  \n",
      "5   EPSG:32649  \n",
      "6   EPSG:32649  \n",
      "7   EPSG:32650  \n",
      "8   EPSG:32650  \n",
      "9   EPSG:32649  \n",
      "10  EPSG:32648  \n",
      "11  EPSG:32648  \n",
      "12  EPSG:32647  \n",
      "13  EPSG:32648  \n",
      "14  EPSG:32649  \n",
      "15  EPSG:32649  \n"
     ]
    }
   ],
   "source": [
    "# Calculate the best UTM zone for each county based on centroid longitude\n",
    "def get_utm_zone(longitude):\n",
    "    \"\"\"Given a longitude in degrees, return the UTM zone number (1-60).\"\"\"\n",
    "    return int((longitude + 180) / 6) + 1\n",
    "\n",
    "# Compute centroid longitude for each county\n",
    "focus_gdf = gpd.GeoDataFrame(all_counties_df, geometry='geometry')\n",
    "focus_gdf['centroid_lon'] = focus_gdf.geometry.centroid.x\n",
    "\n",
    "# Assign UTM zone for each county\n",
    "focus_gdf['utm_zone'] = focus_gdf['centroid_lon'].apply(get_utm_zone)\n",
    "focus_gdf['utm_crs'] = focus_gdf['utm_zone'].apply(lambda z: f\"EPSG:{32600 + z}\")\n",
    "\n",
    "# Show a sample of the assigned UTM zones and CRS\n",
    "print(focus_gdf[['province', 'prefecture', 'county', 'centroid_lon', 'utm_zone', 'utm_crs']])\n"
   ]
  },
  {
   "cell_type": "code",
   "execution_count": 366,
   "id": "511ad7e0",
   "metadata": {},
   "outputs": [
    {
     "name": "stdout",
     "output_type": "stream",
     "text": [
      "    province   prefecture             county     area_km2\n",
      "0      Hunan      Huaihua           Yuanling  5792.169932\n",
      "1     Yunnan  NujiangLisu  LanpingBaiandPumi  4390.926975\n",
      "2    Shaanxi       Ankang             Hanbin  3607.770912\n",
      "3      Henan      Xinyang              Gushi  2934.058010\n",
      "4      Gansu     Qingyang             Heshui  2933.981362\n",
      "5     Yunnan     Zhaotong           Yongshan  2783.168607\n",
      "6      Hebei  Zhangjiakou            Xuanhua  2505.822025\n",
      "7   Shandong         Heze                Cao  1964.911376\n",
      "8   Shandong         Zibo             Yiyuan  1733.571708\n",
      "9      Hunan        Loudi         Shuangfeng  1713.735430\n",
      "10   Sichuan  LiangshanYi           Jingyang  1594.135153\n",
      "11   Sichuan     Guang'an             Yuechi  1465.450956\n",
      "12   Shaanxi       Ankang              Baihe  1431.626178\n",
      "13     Henan      Nanyang              Sheqi  1123.678665\n",
      "14     Hebei       Handan             Daming  1063.269894\n",
      "15     Henan     Xinxiang             Yanjin   954.188461\n"
     ]
    }
   ],
   "source": [
    "# Calculate the area of each county using its assigned UTM zone\n",
    "areas = []\n",
    "for idx, row in focus_gdf.iterrows():\n",
    "    utm_crs = row['utm_crs']\n",
    "    geom = row['geometry']\n",
    "    # Project the geometry to the county's UTM CRS for accurate area calculation\n",
    "    geom_proj = gpd.GeoSeries([geom], crs=\"EPSG:4326\").to_crs(utm_crs).iloc[0]\n",
    "    area_km2 = geom_proj.area / 1e6  # convert from m^2 to km^2\n",
    "    areas.append(area_km2)\n",
    "focus_gdf['area_km2'] = areas\n",
    "\n",
    "# Show the calculated areas using UTM\n",
    "print(focus_gdf[['province', 'prefecture', 'county','area_km2']].sort_values(by='area_km2', ascending=False).reset_index(drop=True))\n"
   ]
  },
  {
   "cell_type": "code",
   "execution_count": 371,
   "id": "b1b5e60f",
   "metadata": {},
   "outputs": [
    {
     "name": "stdout",
     "output_type": "stream",
     "text": [
      "    province   prefecture             county     area_km2  samples_03m  \\\n",
      "0      Hunan      Huaihua           Yuanling  5792.169932       245505   \n",
      "1     Yunnan  NujiangLisu  LanpingBaiandPumi  4390.926975       186112   \n",
      "2    Shaanxi       Ankang             Hanbin  3607.770912       152918   \n",
      "3      Henan      Xinyang              Gushi  2934.058010       124362   \n",
      "4      Gansu     Qingyang             Heshui  2933.981362       124359   \n",
      "5     Yunnan     Zhaotong           Yongshan  2783.168607       117967   \n",
      "6      Hebei  Zhangjiakou            Xuanhua  2505.822025       106211   \n",
      "7   Shandong         Heze                Cao  1964.911376        83284   \n",
      "8   Shandong         Zibo             Yiyuan  1733.571708        73479   \n",
      "9      Hunan        Loudi         Shuangfeng  1713.735430        72638   \n",
      "10   Sichuan  LiangshanYi           Jingyang  1594.135153        67569   \n",
      "11   Sichuan     Guang'an             Yuechi  1465.450956        62114   \n",
      "12   Shaanxi       Ankang              Baihe  1431.626178        60681   \n",
      "13     Henan      Nanyang              Sheqi  1123.678665        47628   \n",
      "14     Hebei       Handan             Daming  1063.269894        45068   \n",
      "15     Henan     Xinxiang             Yanjin   954.188461        40444   \n",
      "\n",
      "    samples_05m  samples_1m  \n",
      "0         88382       22096  \n",
      "1         67001       16751  \n",
      "2         55051       13763  \n",
      "3         44771       11193  \n",
      "4         44770       11193  \n",
      "5         42468       10617  \n",
      "6         38236        9559  \n",
      "7         29983        7496  \n",
      "8         26453        6614  \n",
      "9         26150        6538  \n",
      "10        24325        6082  \n",
      "11        22362        5591  \n",
      "12        21845        5462  \n",
      "13        17146        4287  \n",
      "14        16225        4057  \n",
      "15        14560        3640  \n"
     ]
    }
   ],
   "source": [
    "# Calculate the number of samples needed to cover each county at 0.3m and 0.5m resolution\n",
    "# Assume each sample is a square image of a given ground coverage (e.g., 512x512 pixels)\n",
    "\n",
    "# Define image size in pixels\n",
    "img_size_px = 512\n",
    "\n",
    "# Calculate ground coverage per image (in meters)\n",
    "coverage_03m = (img_size_px * 0.3) ** 2 / 1e6  # in km^2\n",
    "coverage_05m = (img_size_px * 0.5) ** 2 / 1e6  # in km^2\n",
    "coverage_1m = (img_size_px * 1) ** 2 / 1e6  # in km^2\n",
    "\n",
    "\n",
    "# Calculate number of samples needed for each county\n",
    "focus_gdf['samples_03m'] = (focus_gdf['area_km2'] / coverage_03m).apply(np.ceil).astype(int)\n",
    "focus_gdf['samples_05m'] = (focus_gdf['area_km2'] / coverage_05m).apply(np.ceil).astype(int)\n",
    "focus_gdf['samples_1m'] = (focus_gdf['area_km2'] / coverage_1m).apply(np.ceil).astype(int)\n",
    "\n",
    "# Print a sample to check²\n",
    "print(focus_gdf[['province', 'prefecture', 'county', 'area_km2', 'samples_03m', 'samples_05m', 'samples_1m']].sort_values(by='samples_03m', ascending=False).reset_index(drop=True))\n"
   ]
  },
  {
   "cell_type": "code",
   "execution_count": 372,
   "id": "458a5722",
   "metadata": {},
   "outputs": [
    {
     "name": "stdout",
     "output_type": "stream",
     "text": [
      "Total samples needed at 0.3m resolution: 1610339\n",
      "Total samples needed at 0.5m resolution: 579728\n",
      "Total samples needed at 1m resolution: 144939\n"
     ]
    }
   ],
   "source": [
    "total_samples_03m = focus_gdf['samples_03m'].sum()\n",
    "total_samples_05m = focus_gdf['samples_05m'].sum()\n",
    "total_samples_1m = focus_gdf['samples_1m'].sum()\n",
    "\n",
    "print(f\"Total samples needed at 0.3m resolution: {total_samples_03m}\")\n",
    "print(f\"Total samples needed at 0.5m resolution: {total_samples_05m}\")\n",
    "print(f\"Total samples needed at 1m resolution: {total_samples_1m}\")\n"
   ]
  },
  {
   "cell_type": "markdown",
   "id": "d3082737",
   "metadata": {},
   "source": [
    "The total number of samples required to map solar panels across large regions can be very high, so we will optimize our sampling strategy by focusing only on areas where solar panels are most likely to occur.\n",
    "\n",
    "To achieve this efficiently, we use Google Earth Engine to compute land cover filters based on global datasets. Google Earth Engine provides access to the ESA WorldCover land cover map and enables large-scale geospatial raster processing, which would be difficult and computationally expensive to perform locally.\n",
    "\n",
    "Following the methodology of Mapping photovoltaic power plants in China using Landsat, random forest, and Google Earth Engine (Zhang et al., 2021 [https://doi.org/10.1016/j.rse.2021.112667]), we use the ESA WorldCover land cover map (10 m resolution) to restrict our sampling to land cover types where solar panels are most likely to be found. According to Zhang et al. (2021), these include cropland, barren land, grassland, built-up areas, wetlands, and occasionally areas with sparse trees or open water.\n",
    "\n",
    "By applying these land cover filters in Google Earth Engine, we limit our sampling to areas that are land-use appropriate for solar panel installation. This approach significantly reduces the number of required samples and ensures that we focus our efforts on the most promising locations for solar panel detection."
   ]
  },
  {
   "cell_type": "markdown",
   "id": "25defd3e",
   "metadata": {},
   "source": [
    "We assign a suitability score to each land cover type based on its appropriateness for solar panel installation. This scoring approach helps prioritize sampling and analysis efforts on locations with the greatest potential, improving efficiency and accuracy in detecting solar installations."
   ]
  },
  {
   "cell_type": "markdown",
   "id": "dd6970a1",
   "metadata": {},
   "source": [
    "| **Land Cover Class (ESA WorldCover)** | **Code** | **Suitability Score** | **Explanation**                                                                |\n",
    "| ------------------------------------- | -------- | --------------------- | ------------------------------------------------------------------------------ |\n",
    "| **Built-up (Urban)**                  | 50       | **1.0**               | Rooftops, parking lots, and infrastructure are ideal for solar panels.         |\n",
    "| **Cropland**                          | 40       | **1.0**               | Open, flat agricultural land is highly suitable for solar farms.               |\n",
    "| **Bare/Sparse Vegetation**            | 60       | **0.8**               | Open soil or sparsely vegetated land can be used with minor preparation.       |\n",
    "| **Grassland/Herbaceous**              | 30/20    | **0.5**               | Possible, but less efficient due to higher maintenance and shading.            |\n",
    "| **Shrubland**                         | 10       | **0.3**               | Less ideal because of more vegetation and terrain challenges.                  |\n",
    "| **Wetlands**                          | 80       | **0.2**               | Technically possible (floating panels) but rare and environmentally sensitive. |\n",
    "| **Water bodies**                      | 90       | **0.1**               | Only feasible with floating solar farms; very low suitability.                 |\n",
    "| **Forests & Others**                  | others   | **0.0**               | Generally unsuitable due to tree cover and conservation concerns.              |\n"
   ]
  },
  {
   "cell_type": "markdown",
   "id": "2dcdc5e2",
   "metadata": {},
   "source": [
    "You can find and run the GEE script for this project at:\n",
    "https://code.earthengine.google.com/39f428804ec67a3bf0b22b746e968411\n",
    "\n",
    "\n",
    "Script overview:\n",
    "- Loads the focus counties asset and the ESA WorldCover raster.\n",
    "- Applies a mask to select only the desired land cover classes.\n",
    "- Assigns a suitability score to each pixel.\n",
    "- Exportsraster images (GeoTIFF files) for further analysis or sampling."
   ]
  },
  {
   "cell_type": "code",
   "execution_count": null,
   "id": "dd5a3591",
   "metadata": {},
   "outputs": [
    {
     "ename": "MemoryError",
     "evalue": "Unable to allocate 890. MiB for an array with shape (10408, 11212) and data type float64",
     "output_type": "error",
     "traceback": [
      "\u001b[1;31m---------------------------------------------------------------------------\u001b[0m",
      "\u001b[1;31mMemoryError\u001b[0m                               Traceback (most recent call last)",
      "Cell \u001b[1;32mIn[411], line 24\u001b[0m\n\u001b[0;32m     22\u001b[0m         data \u001b[38;5;241m=\u001b[39m np\u001b[38;5;241m.\u001b[39mwhere(mask, data, np\u001b[38;5;241m.\u001b[39mnan)\n\u001b[0;32m     23\u001b[0m     \u001b[38;5;28;01melse\u001b[39;00m:\n\u001b[1;32m---> 24\u001b[0m         data \u001b[38;5;241m=\u001b[39m data\u001b[38;5;241m.\u001b[39mastype(\u001b[38;5;28mfloat\u001b[39m)\n\u001b[0;32m     25\u001b[0m ax \u001b[38;5;241m=\u001b[39m axes[idx]\n\u001b[0;32m     26\u001b[0m im \u001b[38;5;241m=\u001b[39m ax\u001b[38;5;241m.\u001b[39mimshow(data, cmap\u001b[38;5;241m=\u001b[39m\u001b[38;5;124m'\u001b[39m\u001b[38;5;124mviridis\u001b[39m\u001b[38;5;124m'\u001b[39m, vmin\u001b[38;5;241m=\u001b[39m\u001b[38;5;241m0\u001b[39m, vmax\u001b[38;5;241m=\u001b[39m\u001b[38;5;241m1\u001b[39m)\n",
      "\u001b[1;31mMemoryError\u001b[0m: Unable to allocate 890. MiB for an array with shape (10408, 11212) and data type float64"
     ]
    }
   ],
   "source": [
    "# Directory containing the exported GeoTIFFs from GEE\n",
    "gee_export_dir = \"../../GEE_exports\"\n",
    "tif_files = [f for f in os.listdir(gee_export_dir) if f.endswith(\".tif\")]\n",
    "\n",
    "n_files = len(tif_files)\n",
    "n_cols = 4\n",
    "n_rows = int(np.ceil(n_files / n_cols))\n",
    "\n",
    "fig, axes = plt.subplots(n_rows, n_cols, figsize=(4 * n_cols, 4 * n_rows))\n",
    "axes = axes.flatten()\n",
    "\n",
    "# Plot all images and add a general colorbar (legend) for suitability score\n",
    "im = None  # Will hold the last image handle for colorbar\n",
    "\n",
    "for idx, filename in enumerate(tif_files):\n",
    "    tif_path = os.path.join(gee_export_dir, filename)\n",
    "    with rasterio.open(tif_path) as src:\n",
    "        data = src.read(1)\n",
    "        # Mask out nodata values\n",
    "        if src.nodata is not None:\n",
    "            mask = (data != src.nodata)\n",
    "            data = np.where(mask, data, np.nan)\n",
    "        else:\n",
    "            data = data.astype(float)\n",
    "    ax = axes[idx]\n",
    "    im = ax.imshow(data, cmap='viridis', vmin=0, vmax=1)\n",
    "    ax.set_title(filename, fontsize=8)\n",
    "    ax.axis('off')\n",
    "\n",
    "# Hide any unused subplots\n",
    "for j in range(idx + 1, len(axes)):\n",
    "    axes[j].axis('off')\n",
    "\n",
    "# Add a general colorbar (legend) for suitability score\n",
    "cbar = fig.colorbar(im, ax=axes, orientation='horizontal', fraction=0.03, pad=0.04)\n",
    "cbar.set_label('Suitability Score', fontsize=10)\n",
    "\n",
    "plt.tight_layout()\n",
    "plt.show()\n"
   ]
  },
  {
   "cell_type": "code",
   "execution_count": null,
   "id": "cd3d51e9",
   "metadata": {},
   "outputs": [
    {
     "name": "stdout",
     "output_type": "stream",
     "text": [
      "Baihe.tif: 0.00 km^2 with suitability score > 0.5\n",
      "Cao.tif: 0.00 km^2 with suitability score > 0.5\n",
      "Daming.tif: 0.00 km^2 with suitability score > 0.5\n",
      "Gushi.tif: 0.00 km^2 with suitability score > 0.5\n",
      "Hanbin.tif: 0.00 km^2 with suitability score > 0.5\n",
      "Jingyang.tif: 0.00 km^2 with suitability score > 0.5\n",
      "LanpingBaiandPumi.tif: 0.00 km^2 with suitability score > 0.5\n",
      "Sheqi.tif: 0.00 km^2 with suitability score > 0.5\n",
      "Shuangfeng.tif: 0.00 km^2 with suitability score > 0.5\n",
      "Yanjin.tif: 0.00 km^2 with suitability score > 0.5\n",
      "Yiyuan.tif: 0.00 km^2 with suitability score > 0.5\n",
      "Yongshan.tif: 0.00 km^2 with suitability score > 0.5\n",
      "Yuanling.tif: 0.00 km^2 with suitability score > 0.5\n",
      "Yuechi.tif: 0.00 km^2 with suitability score > 0.5\n"
     ]
    }
   ],
   "source": [
    "# Directory containing the exported GeoTIFFs from GEE\n",
    "gee_export_dir = \"../../GEE_exports\"\n",
    "\n",
    "# Dictionary to store results\n",
    "area_above_0_5 = {}\n",
    "\n",
    "for filename in os.listdir(gee_export_dir):\n",
    "    if filename.endswith(\".tif\"):\n",
    "        tif_path = os.path.join(gee_export_dir, filename)\n",
    "        with rasterio.open(tif_path) as src:\n",
    "            data = src.read(1)  # Read first band\n",
    "            # Mask out nodata values\n",
    "            if src.nodata is not None:\n",
    "                mask = (data != src.nodata)\n",
    "            else:\n",
    "                mask = np.ones_like(data, dtype=bool)\n",
    "            # Pixels with score > 0.5\n",
    "            suitable = (data > 0.5) & mask\n",
    "            # Calculate area: pixel count * pixel area (in m^2)\n",
    "            pixel_area = abs(src.transform[0] * src.transform[4])  # Usually negative, so abs\n",
    "            total_area_m2 = np.sum(suitable) * pixel_area\n",
    "            area_above_0_5[filename] = total_area_m2\n",
    "\n",
    "# Print results\n",
    "for tif, area in area_above_0_5.items():\n",
    "    print(f\"{tif}: {area/1e6:.2f} km^2 with suitability score > 0.5\")\n"
   ]
  }
 ],
 "metadata": {
  "kernelspec": {
   "display_name": "base",
   "language": "python",
   "name": "python3"
  },
  "language_info": {
   "codemirror_mode": {
    "name": "ipython",
    "version": 3
   },
   "file_extension": ".py",
   "mimetype": "text/x-python",
   "name": "python",
   "nbconvert_exporter": "python",
   "pygments_lexer": "ipython3",
   "version": "3.12.3"
  }
 },
 "nbformat": 4,
 "nbformat_minor": 5
}
