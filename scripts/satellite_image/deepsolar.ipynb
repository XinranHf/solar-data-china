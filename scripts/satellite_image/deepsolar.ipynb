{
 "cells": [
  {
   "cell_type": "markdown",
   "id": "20d3b5d5",
   "metadata": {},
   "source": [
    "# Deepsolar model"
   ]
  },
  {
   "cell_type": "markdown",
   "id": "1d42a43f",
   "metadata": {},
   "source": [
    "The DeepSolar model is a deep learning framework designed to automatically identify and map solar photovoltaic (PV) panels from high-resolution satellite imagery. \n",
    "Developed by Lee et al. (2018), DeepSolar leverages convolutional neural networks (CNNs) to detect solar panels in the United States at a large scale, enabling data-driven analysis of solar energy adoption and distribution.\n",
    "In this notebook, we will build on the DeepSolar model as a foundation to attempt mapping solar panels in China.\n",
    "\n",
    "\n",
    "For more information, see:\n",
    "- Paper: \"DeepSolar: A Machine Learning Framework to Efficiently Construct a Solar Deployment Database in the United States\" by Lee et al. (2018)  \n",
    "  https://www.nature.com/articles/s41597-018-0102-5\n",
    "- DeepSolar Project Website: http://web.stanford.edu/group/deepsolar/home\n",
    "- DeepSolar GitHub Repository: https://github.com/kaidic/DeepSolar\n",
    "\n",
    "Citation:\n",
    "Lee, G., Lee, R., Wong, B., & Kong, D. (2018). DeepSolar: A Machine Learning Framework to Efficiently Construct a Solar Deployment Database in the United States. Scientific Data, 5, 180225. https://doi.org/10.1038/s41597-018-0102-5\n"
   ]
  },
  {
   "cell_type": "markdown",
   "id": "93277a99",
   "metadata": {},
   "source": [
    "## Setup "
   ]
  },
  {
   "cell_type": "code",
   "execution_count": 1,
   "id": "4397e557",
   "metadata": {},
   "outputs": [
    {
     "name": "stdout",
     "output_type": "stream",
     "text": [
      "Requirement already satisfied: scikit-learn in c:\\users\\charl\\anaconda3\\lib\\site-packages (1.5.1)\n",
      "Requirement already satisfied: torch in c:\\users\\charl\\anaconda3\\lib\\site-packages (2.7.1)\n",
      "Requirement already satisfied: torchvision in c:\\users\\charl\\anaconda3\\lib\\site-packages (0.22.1)\n",
      "Collecting opencv-python\n",
      "  Downloading opencv_python-4.11.0.86-cp37-abi3-win_amd64.whl.metadata (20 kB)\n",
      "Requirement already satisfied: pillow in c:\\users\\charl\\anaconda3\\lib\\site-packages (10.4.0)\n",
      "Requirement already satisfied: tqdm in c:\\users\\charl\\anaconda3\\lib\\site-packages (4.66.5)\n",
      "Requirement already satisfied: rasterio in c:\\users\\charl\\anaconda3\\lib\\site-packages (1.4.3)\n",
      "Requirement already satisfied: numpy>=1.19.5 in c:\\users\\charl\\anaconda3\\lib\\site-packages (from scikit-learn) (1.26.4)\n",
      "Requirement already satisfied: scipy>=1.6.0 in c:\\users\\charl\\anaconda3\\lib\\site-packages (from scikit-learn) (1.13.1)\n",
      "Requirement already satisfied: joblib>=1.2.0 in c:\\users\\charl\\anaconda3\\lib\\site-packages (from scikit-learn) (1.4.2)\n",
      "Requirement already satisfied: threadpoolctl>=3.1.0 in c:\\users\\charl\\anaconda3\\lib\\site-packages (from scikit-learn) (3.5.0)\n",
      "Requirement already satisfied: filelock in c:\\users\\charl\\anaconda3\\lib\\site-packages (from torch) (3.13.1)\n",
      "Requirement already satisfied: typing-extensions>=4.10.0 in c:\\users\\charl\\anaconda3\\lib\\site-packages (from torch) (4.14.0)\n",
      "Requirement already satisfied: sympy>=1.13.3 in c:\\users\\charl\\anaconda3\\lib\\site-packages (from torch) (1.14.0)\n",
      "Requirement already satisfied: networkx in c:\\users\\charl\\anaconda3\\lib\\site-packages (from torch) (3.3)\n",
      "Requirement already satisfied: jinja2 in c:\\users\\charl\\anaconda3\\lib\\site-packages (from torch) (3.1.4)\n",
      "Requirement already satisfied: fsspec in c:\\users\\charl\\anaconda3\\lib\\site-packages (from torch) (2024.6.1)\n",
      "Requirement already satisfied: setuptools in c:\\users\\charl\\anaconda3\\lib\\site-packages (from torch) (75.1.0)\n",
      "Requirement already satisfied: colorama in c:\\users\\charl\\anaconda3\\lib\\site-packages (from tqdm) (0.4.6)\n",
      "Requirement already satisfied: affine in c:\\users\\charl\\anaconda3\\lib\\site-packages (from rasterio) (2.4.0)\n",
      "Requirement already satisfied: attrs in c:\\users\\charl\\anaconda3\\lib\\site-packages (from rasterio) (23.1.0)\n",
      "Requirement already satisfied: certifi in c:\\users\\charl\\anaconda3\\lib\\site-packages (from rasterio) (2025.6.15)\n",
      "Requirement already satisfied: click>=4.0 in c:\\users\\charl\\anaconda3\\lib\\site-packages (from rasterio) (8.1.7)\n",
      "Requirement already satisfied: cligj>=0.5 in c:\\users\\charl\\anaconda3\\lib\\site-packages (from rasterio) (0.7.2)\n",
      "Requirement already satisfied: click-plugins in c:\\users\\charl\\anaconda3\\lib\\site-packages (from rasterio) (1.1.1)\n",
      "Requirement already satisfied: pyparsing in c:\\users\\charl\\anaconda3\\lib\\site-packages (from rasterio) (3.1.2)\n",
      "Requirement already satisfied: mpmath<1.4,>=1.1.0 in c:\\users\\charl\\anaconda3\\lib\\site-packages (from sympy>=1.13.3->torch) (1.3.0)\n",
      "Requirement already satisfied: MarkupSafe>=2.0 in c:\\users\\charl\\anaconda3\\lib\\site-packages (from jinja2->torch) (2.1.3)\n",
      "Downloading opencv_python-4.11.0.86-cp37-abi3-win_amd64.whl (39.5 MB)\n",
      "   ---------------------------------------- 0.0/39.5 MB ? eta -:--:--\n",
      "   --- ------------------------------------ 3.7/39.5 MB 21.8 MB/s eta 0:00:02\n",
      "   --------- ------------------------------ 8.9/39.5 MB 23.1 MB/s eta 0:00:02\n",
      "   --------------- ------------------------ 14.9/39.5 MB 24.7 MB/s eta 0:00:01\n",
      "   --------------------- ------------------ 21.0/39.5 MB 25.5 MB/s eta 0:00:01\n",
      "   --------------------------- ------------ 27.0/39.5 MB 26.3 MB/s eta 0:00:01\n",
      "   --------------------------------- ------ 33.0/39.5 MB 26.6 MB/s eta 0:00:01\n",
      "   ------------------------------------- -- 37.5/39.5 MB 25.6 MB/s eta 0:00:01\n",
      "   ---------------------------------------- 39.5/39.5 MB 24.9 MB/s eta 0:00:00\n",
      "Installing collected packages: opencv-python\n",
      "Successfully installed opencv-python-4.11.0.86\n"
     ]
    }
   ],
   "source": [
    "%pip install scikit-learn torch torchvision opencv-python pillow tqdm  rasterio"
   ]
  },
  {
   "cell_type": "code",
   "execution_count": null,
   "id": "9b71a4ab",
   "metadata": {},
   "outputs": [],
   "source": [
    "import numpy as np\n",
    "import pandas as pd\n",
    "import matplotlib.pyplot as plt\n",
    "from sklearn.model_selection import train_test_split\n",
    "from sklearn.metrics import classification_report, confusion_matrix\n",
    "import torch\n",
    "import torch.nn as nn\n",
    "import torch.optim as optim\n",
    "from torch.utils.data import Dataset, DataLoader\n",
    "import torchvision\n",
    "import torchvision.transforms as transforms\n",
    "import cv2\n",
    "from PIL import Image\n",
    "from tqdm import tqdm\n",
    "import geopandas as gpd\n",
    "import rasterio"
   ]
  }
 ],
 "metadata": {
  "kernelspec": {
   "display_name": "base",
   "language": "python",
   "name": "python3"
  },
  "language_info": {
   "codemirror_mode": {
    "name": "ipython",
    "version": 3
   },
   "file_extension": ".py",
   "mimetype": "text/x-python",
   "name": "python",
   "nbconvert_exporter": "python",
   "pygments_lexer": "ipython3",
   "version": "3.12.3"
  }
 },
 "nbformat": 4,
 "nbformat_minor": 5
}
